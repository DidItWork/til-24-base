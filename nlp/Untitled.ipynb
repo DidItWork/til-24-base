{
 "cells": [
  {
   "cell_type": "code",
   "execution_count": 4,
   "id": "daa61729-d9b5-411f-b7c0-af51757b267f",
   "metadata": {
    "tags": []
   },
   "outputs": [
    {
     "name": "stdout",
     "output_type": "stream",
     "text": [
      "Requirement already satisfied: langchain in /opt/conda/lib/python3.10/site-packages (0.2.0)\n",
      "Requirement already satisfied: langchain-community in /opt/conda/lib/python3.10/site-packages (0.2.0)\n",
      "Collecting langchain-huggingface\n",
      "  Downloading langchain_huggingface-0.0.1-py3-none-any.whl.metadata (1.2 kB)\n",
      "Requirement already satisfied: transformers in /opt/conda/lib/python3.10/site-packages (4.41.0)\n",
      "Requirement already satisfied: accelerate in /opt/conda/lib/python3.10/site-packages (0.30.1)\n",
      "Requirement already satisfied: bitsandbytes in /opt/conda/lib/python3.10/site-packages (0.43.1)\n",
      "Requirement already satisfied: PyYAML>=5.3 in /opt/conda/lib/python3.10/site-packages (from langchain) (6.0.1)\n",
      "Requirement already satisfied: SQLAlchemy<3,>=1.4 in /opt/conda/lib/python3.10/site-packages (from langchain) (2.0.29)\n",
      "Requirement already satisfied: aiohttp<4.0.0,>=3.8.3 in /opt/conda/lib/python3.10/site-packages (from langchain) (3.9.5)\n",
      "Requirement already satisfied: async-timeout<5.0.0,>=4.0.0 in /opt/conda/lib/python3.10/site-packages (from langchain) (4.0.3)\n",
      "Requirement already satisfied: dataclasses-json<0.7,>=0.5.7 in /opt/conda/lib/python3.10/site-packages (from langchain) (0.6.6)\n",
      "Requirement already satisfied: langchain-core<0.3.0,>=0.2.0 in /opt/conda/lib/python3.10/site-packages (from langchain) (0.2.0)\n",
      "Requirement already satisfied: langchain-text-splitters<0.3.0,>=0.2.0 in /opt/conda/lib/python3.10/site-packages (from langchain) (0.2.0)\n",
      "Requirement already satisfied: langsmith<0.2.0,>=0.1.17 in /opt/conda/lib/python3.10/site-packages (from langchain) (0.1.59)\n",
      "Requirement already satisfied: numpy<2,>=1 in /opt/conda/lib/python3.10/site-packages (from langchain) (1.26.4)\n",
      "Requirement already satisfied: pydantic<3,>=1 in /opt/conda/lib/python3.10/site-packages (from langchain) (2.7.1)\n",
      "Requirement already satisfied: requests<3,>=2 in /opt/conda/lib/python3.10/site-packages (from langchain) (2.31.0)\n",
      "Requirement already satisfied: tenacity<9.0.0,>=8.1.0 in /opt/conda/lib/python3.10/site-packages (from langchain) (8.2.3)\n",
      "Requirement already satisfied: huggingface-hub>=0.23.0 in /opt/conda/lib/python3.10/site-packages (from langchain-huggingface) (0.23.0)\n",
      "Collecting sentence-transformers>=2.6.0 (from langchain-huggingface)\n",
      "  Downloading sentence_transformers-2.7.0-py3-none-any.whl.metadata (11 kB)\n",
      "Collecting text-generation<0.8.0,>=0.7.0 (from langchain-huggingface)\n",
      "  Downloading text_generation-0.7.0-py3-none-any.whl.metadata (8.5 kB)\n",
      "Requirement already satisfied: tokenizers>=0.19.1 in /opt/conda/lib/python3.10/site-packages (from langchain-huggingface) (0.19.1)\n",
      "Requirement already satisfied: filelock in /opt/conda/lib/python3.10/site-packages (from transformers) (3.14.0)\n",
      "Requirement already satisfied: packaging>=20.0 in /opt/conda/lib/python3.10/site-packages (from transformers) (23.2)\n",
      "Requirement already satisfied: regex!=2019.12.17 in /opt/conda/lib/python3.10/site-packages (from transformers) (2024.5.15)\n",
      "Requirement already satisfied: safetensors>=0.4.1 in /opt/conda/lib/python3.10/site-packages (from transformers) (0.4.3)\n",
      "Requirement already satisfied: tqdm>=4.27 in /opt/conda/lib/python3.10/site-packages (from transformers) (4.66.2)\n",
      "Requirement already satisfied: psutil in /opt/conda/lib/python3.10/site-packages (from accelerate) (5.9.3)\n",
      "Requirement already satisfied: torch>=1.10.0 in /opt/conda/lib/python3.10/site-packages (from accelerate) (2.3.0)\n",
      "Requirement already satisfied: aiosignal>=1.1.2 in /opt/conda/lib/python3.10/site-packages (from aiohttp<4.0.0,>=3.8.3->langchain) (1.3.1)\n",
      "Requirement already satisfied: attrs>=17.3.0 in /opt/conda/lib/python3.10/site-packages (from aiohttp<4.0.0,>=3.8.3->langchain) (23.2.0)\n",
      "Requirement already satisfied: frozenlist>=1.1.1 in /opt/conda/lib/python3.10/site-packages (from aiohttp<4.0.0,>=3.8.3->langchain) (1.4.1)\n",
      "Requirement already satisfied: multidict<7.0,>=4.5 in /opt/conda/lib/python3.10/site-packages (from aiohttp<4.0.0,>=3.8.3->langchain) (6.0.5)\n",
      "Requirement already satisfied: yarl<2.0,>=1.0 in /opt/conda/lib/python3.10/site-packages (from aiohttp<4.0.0,>=3.8.3->langchain) (1.9.4)\n",
      "Requirement already satisfied: marshmallow<4.0.0,>=3.18.0 in /opt/conda/lib/python3.10/site-packages (from dataclasses-json<0.7,>=0.5.7->langchain) (3.21.2)\n",
      "Requirement already satisfied: typing-inspect<1,>=0.4.0 in /opt/conda/lib/python3.10/site-packages (from dataclasses-json<0.7,>=0.5.7->langchain) (0.9.0)\n",
      "Requirement already satisfied: fsspec>=2023.5.0 in /opt/conda/lib/python3.10/site-packages (from huggingface-hub>=0.23.0->langchain-huggingface) (2024.3.1)\n",
      "Requirement already satisfied: typing-extensions>=3.7.4.3 in /opt/conda/lib/python3.10/site-packages (from huggingface-hub>=0.23.0->langchain-huggingface) (4.11.0)\n",
      "Requirement already satisfied: jsonpatch<2.0,>=1.33 in /opt/conda/lib/python3.10/site-packages (from langchain-core<0.3.0,>=0.2.0->langchain) (1.33)\n",
      "Requirement already satisfied: orjson<4.0.0,>=3.9.14 in /opt/conda/lib/python3.10/site-packages (from langsmith<0.2.0,>=0.1.17->langchain) (3.10.3)\n",
      "Requirement already satisfied: annotated-types>=0.4.0 in /opt/conda/lib/python3.10/site-packages (from pydantic<3,>=1->langchain) (0.6.0)\n",
      "Requirement already satisfied: pydantic-core==2.18.2 in /opt/conda/lib/python3.10/site-packages (from pydantic<3,>=1->langchain) (2.18.2)\n",
      "Requirement already satisfied: charset-normalizer<4,>=2 in /opt/conda/lib/python3.10/site-packages (from requests<3,>=2->langchain) (3.3.2)\n",
      "Requirement already satisfied: idna<4,>=2.5 in /opt/conda/lib/python3.10/site-packages (from requests<3,>=2->langchain) (3.7)\n",
      "Requirement already satisfied: urllib3<3,>=1.21.1 in /opt/conda/lib/python3.10/site-packages (from requests<3,>=2->langchain) (1.26.18)\n",
      "Requirement already satisfied: certifi>=2017.4.17 in /opt/conda/lib/python3.10/site-packages (from requests<3,>=2->langchain) (2024.2.2)\n",
      "Requirement already satisfied: scikit-learn in /opt/conda/lib/python3.10/site-packages (from sentence-transformers>=2.6.0->langchain-huggingface) (1.4.2)\n",
      "Requirement already satisfied: scipy in /opt/conda/lib/python3.10/site-packages (from sentence-transformers>=2.6.0->langchain-huggingface) (1.11.4)\n",
      "Requirement already satisfied: Pillow in /opt/conda/lib/python3.10/site-packages (from sentence-transformers>=2.6.0->langchain-huggingface) (10.3.0)\n",
      "Requirement already satisfied: greenlet!=0.4.17 in /opt/conda/lib/python3.10/site-packages (from SQLAlchemy<3,>=1.4->langchain) (3.0.3)\n",
      "Requirement already satisfied: sympy in /opt/conda/lib/python3.10/site-packages (from torch>=1.10.0->accelerate) (1.12)\n",
      "Requirement already satisfied: networkx in /opt/conda/lib/python3.10/site-packages (from torch>=1.10.0->accelerate) (3.3)\n",
      "Requirement already satisfied: jinja2 in /opt/conda/lib/python3.10/site-packages (from torch>=1.10.0->accelerate) (3.1.3)\n",
      "Requirement already satisfied: nvidia-cuda-nvrtc-cu12==12.1.105 in /opt/conda/lib/python3.10/site-packages (from torch>=1.10.0->accelerate) (12.1.105)\n",
      "Requirement already satisfied: nvidia-cuda-runtime-cu12==12.1.105 in /opt/conda/lib/python3.10/site-packages (from torch>=1.10.0->accelerate) (12.1.105)\n",
      "Requirement already satisfied: nvidia-cuda-cupti-cu12==12.1.105 in /opt/conda/lib/python3.10/site-packages (from torch>=1.10.0->accelerate) (12.1.105)\n",
      "Requirement already satisfied: nvidia-cudnn-cu12==8.9.2.26 in /opt/conda/lib/python3.10/site-packages (from torch>=1.10.0->accelerate) (8.9.2.26)\n",
      "Requirement already satisfied: nvidia-cublas-cu12==12.1.3.1 in /opt/conda/lib/python3.10/site-packages (from torch>=1.10.0->accelerate) (12.1.3.1)\n",
      "Requirement already satisfied: nvidia-cufft-cu12==11.0.2.54 in /opt/conda/lib/python3.10/site-packages (from torch>=1.10.0->accelerate) (11.0.2.54)\n",
      "Requirement already satisfied: nvidia-curand-cu12==10.3.2.106 in /opt/conda/lib/python3.10/site-packages (from torch>=1.10.0->accelerate) (10.3.2.106)\n",
      "Requirement already satisfied: nvidia-cusolver-cu12==11.4.5.107 in /opt/conda/lib/python3.10/site-packages (from torch>=1.10.0->accelerate) (11.4.5.107)\n",
      "Requirement already satisfied: nvidia-cusparse-cu12==12.1.0.106 in /opt/conda/lib/python3.10/site-packages (from torch>=1.10.0->accelerate) (12.1.0.106)\n",
      "Requirement already satisfied: nvidia-nccl-cu12==2.20.5 in /opt/conda/lib/python3.10/site-packages (from torch>=1.10.0->accelerate) (2.20.5)\n",
      "Requirement already satisfied: nvidia-nvtx-cu12==12.1.105 in /opt/conda/lib/python3.10/site-packages (from torch>=1.10.0->accelerate) (12.1.105)\n",
      "Requirement already satisfied: triton==2.3.0 in /opt/conda/lib/python3.10/site-packages (from torch>=1.10.0->accelerate) (2.3.0)\n",
      "Requirement already satisfied: nvidia-nvjitlink-cu12 in /opt/conda/lib/python3.10/site-packages (from nvidia-cusolver-cu12==11.4.5.107->torch>=1.10.0->accelerate) (12.4.127)\n",
      "Requirement already satisfied: jsonpointer>=1.9 in /opt/conda/lib/python3.10/site-packages (from jsonpatch<2.0,>=1.33->langchain-core<0.3.0,>=0.2.0->langchain) (2.4)\n",
      "Requirement already satisfied: mypy-extensions>=0.3.0 in /opt/conda/lib/python3.10/site-packages (from typing-inspect<1,>=0.4.0->dataclasses-json<0.7,>=0.5.7->langchain) (1.0.0)\n",
      "Requirement already satisfied: MarkupSafe>=2.0 in /opt/conda/lib/python3.10/site-packages (from jinja2->torch>=1.10.0->accelerate) (2.1.5)\n",
      "Requirement already satisfied: joblib>=1.2.0 in /opt/conda/lib/python3.10/site-packages (from scikit-learn->sentence-transformers>=2.6.0->langchain-huggingface) (1.4.0)\n",
      "Requirement already satisfied: threadpoolctl>=2.0.0 in /opt/conda/lib/python3.10/site-packages (from scikit-learn->sentence-transformers>=2.6.0->langchain-huggingface) (3.5.0)\n",
      "Requirement already satisfied: mpmath>=0.19 in /opt/conda/lib/python3.10/site-packages (from sympy->torch>=1.10.0->accelerate) (1.3.0)\n",
      "Downloading langchain_huggingface-0.0.1-py3-none-any.whl (17 kB)\n",
      "Downloading sentence_transformers-2.7.0-py3-none-any.whl (171 kB)\n",
      "\u001b[2K   \u001b[90m━━━━━━━━━━━━━━━━━━━━━━━━━━━━━━━━━━━━━━━━\u001b[0m \u001b[32m171.5/171.5 kB\u001b[0m \u001b[31m1.2 MB/s\u001b[0m eta \u001b[36m0:00:00\u001b[0mta \u001b[36m0:00:01\u001b[0m\n",
      "\u001b[?25hDownloading text_generation-0.7.0-py3-none-any.whl (12 kB)\n",
      "Installing collected packages: text-generation, sentence-transformers, langchain-huggingface\n",
      "Successfully installed langchain-huggingface-0.0.1 sentence-transformers-2.7.0 text-generation-0.7.0\n"
     ]
    }
   ],
   "source": [
    "! pip install langchain langchain-community langchain-huggingface transformers accelerate bitsandbytes"
   ]
  },
  {
   "cell_type": "code",
   "execution_count": 1,
   "id": "e1fcaf5d-4eaf-434f-bbf2-11d4b4323704",
   "metadata": {
    "tags": []
   },
   "outputs": [],
   "source": [
    "# To get environment variables\n",
    "import os\n",
    "import json\n",
    "\n",
    "from rich.pretty import pprint\n",
    "\n",
    "\n",
    "# To split our transcript into pieces\n",
    "from langchain.text_splitter import RecursiveCharacterTextSplitter\n",
    "\n",
    "# Our chat model. We'll use the default which is gpt-3.5-turbo\n",
    "from langchain.chat_models import ChatOpenAI\n",
    "# from langchain_community.llms import HuggingFacePipeline\n",
    "from langchain_huggingface.llms import HuggingFacePipeline\n",
    "from langchain_community.chat_models.huggingface import ChatHuggingFace\n",
    "from langchain.chains.summarize import load_summarize_chain\n",
    "\n",
    "# Prompt templates for dynamic values\n",
    "from langchain.prompts.chat import (\n",
    "    ChatPromptTemplate,\n",
    "    SystemMessagePromptTemplate,\n",
    "    AIMessagePromptTemplate, # I included this one so you know you'll have it but we won't be using it\n",
    "    HumanMessagePromptTemplate\n",
    ")\n",
    "\n",
    "from langchain_core.output_parsers import StrOutputParser, JsonOutputParser\n",
    "from langchain.output_parsers import PydanticOutputParser\n",
    "\n",
    "# To create our chat messages\n",
    "from langchain.schema import (\n",
    "    AIMessage,\n",
    "    HumanMessage,\n",
    "    SystemMessage\n",
    ")\n",
    "\n",
    "from langchain_core.output_parsers import JsonOutputParser\n",
    "from langchain_core.prompts import PromptTemplate\n",
    "from langchain_core.pydantic_v1 import BaseModel, Field\n",
    "from langchain_core.prompt_values import StringPromptValue\n",
    "from typing import List, Optional\n",
    "\n",
    "from langchain.llms.huggingface_pipeline import HuggingFacePipeline\n",
    "import torch\n",
    "from transformers import AutoModelForCausalLM, AutoTokenizer, pipeline\n",
    "from transformers import BitsAndBytesConfig"
   ]
  },
  {
   "cell_type": "code",
   "execution_count": 2,
   "id": "35d058a6-29dc-4c15-bd4e-dfc201acde5a",
   "metadata": {},
   "outputs": [
    {
     "name": "stderr",
     "output_type": "stream",
     "text": [
      "Special tokens have been added in the vocabulary, make sure the associated word embeddings are fine-tuned or trained.\n",
      "`low_cpu_mem_usage` was None, now set to True since model is quantized.\n"
     ]
    },
    {
     "data": {
      "application/vnd.jupyter.widget-view+json": {
       "model_id": "71caac103f37451cb611148e42086459",
       "version_major": 2,
       "version_minor": 0
      },
      "text/plain": [
       "Loading checkpoint shards:   0%|          | 0/2 [00:00<?, ?it/s]"
      ]
     },
     "metadata": {},
     "output_type": "display_data"
    },
    {
     "name": "stderr",
     "output_type": "stream",
     "text": [
      "/opt/conda/lib/python3.10/site-packages/langchain_core/_api/deprecation.py:119: LangChainDeprecationWarning: The class `HuggingFacePipeline` was deprecated in LangChain 0.0.37 and will be removed in 0.3. An updated version of the class exists in the from rom langchain-huggingface package and should be used instead. To use it run `pip install -U from rom langchain-huggingface` and import as `from from rom langchain_huggingface import llms import HuggingFacePipeline`.\n",
      "  warn_deprecated(\n"
     ]
    }
   ],
   "source": [
    "nf4_config = BitsAndBytesConfig(\n",
    "   load_in_4bit=True,\n",
    "   bnb_4bit_quant_type=\"nf4\",\n",
    "   bnb_4bit_use_double_quant=True,\n",
    "   bnb_4bit_compute_dtype=torch.bfloat16\n",
    ")\n",
    "\n",
    "model_id = \"microsoft/Phi-3-mini-4k-instruct\"\n",
    "\n",
    "tokenizer = AutoTokenizer.from_pretrained(model_id)\n",
    "model = AutoModelForCausalLM.from_pretrained(\n",
    "                 model_id,\n",
    "                 quantization_config=nf4_config\n",
    "                 )\n",
    "\n",
    "pipe = pipeline(\"text-generation\",\n",
    "               model=model,\n",
    "               tokenizer=tokenizer,\n",
    "               max_new_tokens=512,\n",
    "               )\n",
    "\n",
    "llm_phi3 = HuggingFacePipeline(pipeline=pipe)\n",
    "\n",
    "# llm_phi3 = HuggingFacePipeline.from_model_id(\n",
    "#     model_id=\"microsoft/Phi-3-mini-4k-instruct\",\n",
    "#     task=\"text-generation\",\n",
    "#     device=0,\n",
    "#     pipeline_kwargs={\"max_new_tokens\": 512, \"temperature\": 0.1,},\n",
    "# )"
   ]
  },
  {
   "cell_type": "code",
   "execution_count": 3,
   "id": "061536c7-e6ea-4555-88de-c55bb5cd0f15",
   "metadata": {},
   "outputs": [],
   "source": [
    "template = \"\"\"\n",
    "Given the transcript delimitted by triple backticks,\n",
    "extract all key information in a structured format.\n",
    "The output should be formatted as a JSON instance that conforms to the JSON schema below.\\n\\nAs an example, for the schema {\"properties\": {\"foo\": {\"title\": \"Foo\", \"description\": \"a list of strings\", \"type\": \"array\", \"items\": {\"type\": \"string\"}}}, \"required\": [\"foo\"]}\\nthe object {\"foo\": [\"bar\", \"baz\"]} is a well-formatted instance of the schema. The object {\"properties\": {\"foo\": [\"bar\", \"baz\"]}} is not well-formatted.\\n\\nHere is the output schema:\\n```\\n{\"description\": \"The data to be extracted from the transcript\", \"properties\": {\"target\": {\"title\": \"Target\", \"description\": \"Identified Target object to attack\", \"type\": \"string\"}, \"heading\": {\"title\": \"Heading\", \"description\": \"Heading of object in integers\", \"type\": \"string\"}, \"tool\": {\"title\": \"Tool\", \"description\": \"Tool to be deployed to neutralize the target\", \"type\": \"string\"}}, \"required\": [\"target\", \"heading\", \"tool\"]}\\n```\n",
    "Return the JSON object only, nothing else.\n",
    "\n",
    "Here are some examples of how to perform this task:\n",
    "TRANSCRIPT: Target is red helicopter, heading is zero one zero, tool to deploy is surface-to-air missiles.\n",
    "OUTPUT: 'target': 'red helicopter', 'heading': '010', 'tool': 'surface-to-air missiles'\n",
    "\n",
    "TRANSCRIPT: Target is grey and white fighter jet, heading is zero six five, tool to deploy is electromagnetic pulse.\n",
    "OUTPUT: 'target': 'grey and white fighter jet', 'heading': '065', 'tool': 'electromagnetic pulse'\n",
    "\n",
    "TRANSCRIPT: Alfa, Echo, Mike Papa, deploy EMP tool heading zero eight five, engage purple, red, and silver fighter jet.\n",
    "OUTPUT: 'target': 'purple, red, and silver fighter jet', 'heading': '085', 'tool': 'EMP'\n",
    "\n",
    "Now take the following transcript and extract the key information in a structured format\n",
    "TRANSCRIPT:\n",
    "\"\"\""
   ]
  },
  {
   "cell_type": "code",
   "execution_count": 4,
   "id": "c072c080-f3d5-4192-b833-9620ab948a45",
   "metadata": {
    "tags": []
   },
   "outputs": [],
   "source": [
    "transcript = \"Target is blue stealth bomber, heading is zero five six, tool to deploy is cyber attack\""
   ]
  },
  {
   "cell_type": "code",
   "execution_count": 5,
   "id": "38d7c906-b02d-49d2-a882-4164af44bf1f",
   "metadata": {
    "tags": []
   },
   "outputs": [],
   "source": [
    "def clean_json_string(json_str: str) -> str:\n",
    "    # Find the start of the first JSON object\n",
    "    start = json_str.find('{')\n",
    "\n",
    "    # Find the end of the first JSON object\n",
    "    end = json_str.find('}') + 1\n",
    "\n",
    "    # Extract the substring from 'start' to 'end'\n",
    "    cleaned_json_str = json_str[start:end]\n",
    "\n",
    "    return cleaned_json_str\n",
    "\n",
    "def extract_json_after_response(message: str) -> dict:\n",
    "    # Find the start of the JSON object\n",
    "    start = message.lower().find('response') + len('response')\n",
    "\n",
    "    # Extract the substring from 'start' to the end of the message\n",
    "    json_str = message[start:].strip()\n",
    "    json_str = clean_json_string(json_str)\n",
    "\n",
    "    try:\n",
    "        # Parse the JSON string into a Python dictionary\n",
    "        data = json.loads(json_str)\n",
    "    except json.JSONDecodeError:\n",
    "        print(f\"Error parsing JSON string: {json_str}\")\n",
    "        # raise\n",
    "        return None\n",
    "\n",
    "    return data"
   ]
  },
  {
   "cell_type": "code",
   "execution_count": 6,
   "id": "6f8a7782-3ee4-4052-886e-083d84100a0f",
   "metadata": {
    "tags": []
   },
   "outputs": [
    {
     "name": "stderr",
     "output_type": "stream",
     "text": [
      "/opt/conda/lib/python3.10/site-packages/langchain_core/_api/deprecation.py:119: LangChainDeprecationWarning: The method `BaseLLM.predict` was deprecated in langchain-core 0.1.7 and will be removed in 0.3.0. Use invoke instead.\n",
      "  warn_deprecated(\n",
      "You are not running the flash-attention implementation, expect numerical differences.\n"
     ]
    },
    {
     "data": {
      "text/plain": [
       "'\\nGiven the transcript delimitted by triple backticks,\\nextract all key information in a structured format.\\nThe output should be formatted as a JSON instance that conforms to the JSON schema below.\\n\\nAs an example, for the schema {\"properties\": {\"foo\": {\"title\": \"Foo\", \"description\": \"a list of strings\", \"type\": \"array\", \"items\": {\"type\": \"string\"}}}, \"required\": [\"foo\"]}\\nthe object {\"foo\": [\"bar\", \"baz\"]} is a well-formatted instance of the schema. The object {\"properties\": {\"foo\": [\"bar\", \"baz\"]}} is not well-formatted.\\n\\nHere is the output schema:\\n```\\n{\"description\": \"The data to be extracted from the transcript\", \"properties\": {\"target\": {\"title\": \"Target\", \"description\": \"Identified Target object to attack\", \"type\": \"string\"}, \"heading\": {\"title\": \"Heading\", \"description\": \"Heading of object in integers\", \"type\": \"string\"}, \"tool\": {\"title\": \"Tool\", \"description\": \"Tool to be deployed to neutralize the target\", \"type\": \"string\"}}, \"required\": [\"target\", \"heading\", \"tool\"]}\\n```\\nReturn the JSON object only, nothing else.\\n\\nHere are some examples of how to perform this task:\\nTRANSCRIPT: Target is red helicopter, heading is zero one zero, tool to deploy is surface-to-air missiles.\\nOUTPUT: \\'target\\': \\'red helicopter\\', \\'heading\\': \\'010\\', \\'tool\\': \\'surface-to-air missiles\\'\\n\\nTRANSCRIPT: Target is grey and white fighter jet, heading is zero six five, tool to deploy is electromagnetic pulse.\\nOUTPUT: \\'target\\': \\'grey and white fighter jet\\', \\'heading\\': \\'065\\', \\'tool\\': \\'electromagnetic pulse\\'\\n\\nTRANSCRIPT: Alfa, Echo, Mike Papa, deploy EMP tool heading zero eight five, engage purple, red, and silver fighter jet.\\nOUTPUT: \\'target\\': \\'purple, red, and silver fighter jet\\', \\'heading\\': \\'085\\', \\'tool\\': \\'EMP\\'\\n\\nNow take the following transcript and extract the key information in a structured format\\nTRANSCRIPT:\\n```Target is blue stealth bomber, heading is zero five six, tool to deploy is cyber attack```\\n\\n\\n- response: {\\n  \"target\": \"blue stealth bomber\",\\n  \"heading\": \"056\",\\n  \"tool\": \"cyber attack\"\\n}'"
      ]
     },
     "execution_count": 6,
     "metadata": {},
     "output_type": "execute_result"
    }
   ],
   "source": [
    "response = llm_phi3.predict(f\"{template}```{transcript}```\")\n",
    "response"
   ]
  },
  {
   "cell_type": "code",
   "execution_count": 7,
   "id": "00317a11-0141-443d-a8dc-e57c112255bc",
   "metadata": {
    "tags": []
   },
   "outputs": [
    {
     "data": {
      "text/plain": [
       "{'target': 'blue stealth bomber', 'heading': '056', 'tool': 'cyber attack'}"
      ]
     },
     "execution_count": 7,
     "metadata": {},
     "output_type": "execute_result"
    }
   ],
   "source": [
    "extract_json_after_response(response)"
   ]
  },
  {
   "cell_type": "code",
   "execution_count": 8,
   "id": "dc2f8202-f6be-4c81-8f5f-63659d4b814c",
   "metadata": {
    "tags": []
   },
   "outputs": [
    {
     "name": "stdout",
     "output_type": "stream",
     "text": [
      "\n",
      "Given the transcript delimitted by triple backticks,\n",
      "extract all key information in a structured format.\n",
      "The output should be formatted as a JSON instance that conforms to the JSON schema below.\n",
      "\n",
      "As an example, for the schema {\"properties\": {\"foo\": {\"title\": \"Foo\", \"description\": \"a list of strings\", \"type\": \"array\", \"items\": {\"type\": \"string\"}}}, \"required\": [\"foo\"]}\n",
      "the object {\"foo\": [\"bar\", \"baz\"]} is a well-formatted instance of the schema. The object {\"properties\": {\"foo\": [\"bar\", \"baz\"]}} is not well-formatted.\n",
      "\n",
      "Here is the output schema:\n",
      "```\n",
      "{\"description\": \"The data to be extracted from the transcript\", \"properties\": {\"target\": {\"title\": \"Target\", \"description\": \"Identified Target object to attack\", \"type\": \"string\"}, \"heading\": {\"title\": \"Heading\", \"description\": \"Heading of object in integers\", \"type\": \"string\"}, \"tool\": {\"title\": \"Tool\", \"description\": \"Tool to be deployed to neutralize the target\", \"type\": \"string\"}}, \"required\": [\"target\", \"heading\", \"tool\"]}\n",
      "```\n",
      "Return the JSON object only, nothing else.\n",
      "\n",
      "Here are some examples of how to perform this task:\n",
      "TRANSCRIPT: Target is red helicopter, heading is zero one zero, tool to deploy is surface-to-air missiles.\n",
      "OUTPUT: 'target': 'red helicopter', 'heading': '010', 'tool': 'surface-to-air missiles'\n",
      "\n",
      "TRANSCRIPT: Target is grey and white fighter jet, heading is zero six five, tool to deploy is electromagnetic pulse.\n",
      "OUTPUT: 'target': 'grey and white fighter jet', 'heading': '065', 'tool': 'electromagnetic pulse'\n",
      "\n",
      "TRANSCRIPT: Alfa, Echo, Mike Papa, deploy EMP tool heading zero eight five, engage purple, red, and silver fighter jet.\n",
      "OUTPUT: 'target': 'purple, red, and silver fighter jet', 'heading': '085', 'tool': 'EMP'\n",
      "\n",
      "Now take the following transcript and extract the key information in a structured format\n",
      "TRANSCRIPT:\n",
      "```Target is blue stealth bomber, heading is zero five six, tool to deploy is cyber attack```\n"
     ]
    }
   ],
   "source": [
    "print(f\"{template}```{transcript}```\")"
   ]
  },
  {
   "cell_type": "code",
   "execution_count": null,
   "id": "f811cd1f-0780-4561-aba6-f1c4ba69583c",
   "metadata": {
    "tags": []
   },
   "outputs": [],
   "source": [
    "from tqdm import tqdm\n",
    "import json\n",
    "\n",
    "def load_test_cases(filename: str) -> list:\n",
    "  test_cases = []\n",
    "  with open(filename, 'r') as file:\n",
    "    for line in file:\n",
    "      # Each line is a separate JSON object\n",
    "      test_case = json.loads(line)\n",
    "      test_cases.append(test_case)\n",
    "  return test_cases\n",
    "\n",
    "# Load the test cases from the JSONL file\n",
    "test_cases = load_test_cases('./src/nlp.jsonl')\n",
    "print(f\"Loaded {len(test_cases)} test cases.\")\n",
    "\n",
    "# Counter for passed test cases\n",
    "passed_tests = 0\n",
    "\n",
    "# Now you can use 'test_cases' in your tests\n",
    "for test_case in tqdm(test_cases):\n",
    "  transcript = test_case['transcript']\n",
    "  expected_output = {\n",
    "    'target': test_case['target'],\n",
    "    'heading': test_case['heading'],\n",
    "    'tool': test_case['tool']\n",
    "  }\n",
    "  # Check if transcript is an instance of StringPromptValue and extract the string value\n",
    "  if isinstance(transcript, StringPromptValue):\n",
    "    print(transcript)\n",
    "    transcript = transcript.value\n",
    "\n",
    "  # Invoke the chain with the transcript from the test case\n",
    "  extracted_output = llm_phi3.predict(f\"{template}```{transcript}```\")\n",
    "  extracted_output = extract_json_after_response(extracted_output)\n",
    "\n",
    "  # Check if the extracted output matches the expected output\n",
    "  if extracted_output == expected_output:\n",
    "    passed_tests += 1\n",
    "  else:\n",
    "    print(f\"For transcript: {transcript}, expected: {expected_output}, but got: {extracted_output}\")\n",
    "\n",
    "# Print the number of passed tests\n",
    "print(f\"Passed {passed_tests} out of {len(test_cases)} tests.\")"
   ]
  },
  {
   "cell_type": "code",
   "execution_count": null,
   "id": "bea6db5c-5d63-4328-9414-a918275e13e1",
   "metadata": {},
   "outputs": [],
   "source": [
    "#Test"
   ]
  },
  {
   "cell_type": "code",
   "execution_count": 10,
   "id": "a8a4f150-9017-4899-a499-f115f6099f36",
   "metadata": {
    "tags": []
   },
   "outputs": [
    {
     "name": "stdout",
     "output_type": "stream",
     "text": [
      "Loaded 3500 test cases.\n"
     ]
    },
    {
     "name": "stderr",
     "output_type": "stream",
     "text": [
      "  0%|          | 3/3500 [00:13<4:28:24,  4.61s/it]"
     ]
    },
    {
     "name": "stdout",
     "output_type": "stream",
     "text": [
      "For transcript: Control to turrets, deploy electromagnetic pulse, heading one one zero. Engage blue and red fighter plane. Repeat, deploy EMP, heading one one zero, engage blue and red fighter aircraft. Over., expected: {'target': 'blue and red fighter plane', 'heading': '110', 'tool': 'electromagnetic pulse'}, but got: {'target': 'blue and red fighter aircraft', 'heading': '110', 'tool': 'electromagnetic pulse'}\n"
     ]
    },
    {
     "name": "stderr",
     "output_type": "stream",
     "text": [
      "  0%|          | 8/3500 [00:49<5:50:58,  6.03s/it]You seem to be using the pipelines sequentially on GPU. In order to maximize efficiency please use a dataset\n",
      "  1%|          | 21/3500 [01:50<4:33:23,  4.72s/it]"
     ]
    },
    {
     "name": "stdout",
     "output_type": "stream",
     "text": [
      "For transcript: Turret Charlie, heading three three five, deploy electromagnetic pulse on orange, silver, and yellow cargo aircraft., expected: {'target': 'orange, silver, and yellow cargo aircraft', 'heading': '335', 'tool': 'electromagnetic pulse'}, but got: {'target': 'orange, silver, and yellow cargo aircraft', 'heading': '0335', 'tool': 'electromagnetic pulse'}\n"
     ]
    },
    {
     "name": "stderr",
     "output_type": "stream",
     "text": [
      "  1%|          | 25/3500 [02:08<4:20:34,  4.50s/it]"
     ]
    },
    {
     "name": "stdout",
     "output_type": "stream",
     "text": [
      "For transcript: Control to turrets, prepare to deploy electromagnetic pulse. Target is a grey camouflage cargo aircraft on heading three three five. Fire at will to neutralize the threat. Over., expected: {'target': 'grey camouflage cargo aircraft', 'heading': '335', 'tool': 'electromagnetic pulse'}, but got: {'target': 'grey camouflage cargo aircraft', 'heading': '035', 'tool': 'electromagnetic pulse'}\n"
     ]
    },
    {
     "name": "stderr",
     "output_type": "stream",
     "text": [
      "  1%|          | 33/3500 [02:46<4:35:18,  4.76s/it]"
     ]
    },
    {
     "name": "stdout",
     "output_type": "stream",
     "text": [
      "For transcript: Activate machine gun system, target the yellow, white, and orange fighter plane heading two niner five. Engage at will., expected: {'target': 'yellow, white, and orange fighter plane', 'heading': '295', 'tool': 'machine gun'}, but got: {'target': 'yellow, white, and orange fighter plane', 'heading': '295', 'tool': 'machine gun system'}\n"
     ]
    },
    {
     "name": "stderr",
     "output_type": "stream",
     "text": [
      "  1%|          | 41/3500 [03:36<8:05:16,  8.42s/it]"
     ]
    },
    {
     "name": "stdout",
     "output_type": "stream",
     "text": [
      "For transcript: Control here, be advised we have a red, black, and green drone at heading two eight five. Deploy surface-to-air missiles to intercept target immediately. Over., expected: {'target': 'red, black, and green drone', 'heading': '285', 'tool': 'surface-to-air missiles'}, but got: {'target': 'red, black, and green drone', 'heading': '285', 'tool': 'surface-to0-air missiles'}\n"
     ]
    },
    {
     "name": "stderr",
     "output_type": "stream",
     "text": [
      "  1%|          | 43/3500 [04:14<14:22:00, 14.96s/it]"
     ]
    },
    {
     "name": "stdout",
     "output_type": "stream",
     "text": [
      "For transcript: Air defense turret, adjust heading to one one five. Deploy surface-to-air missiles to intercept the silver, brown, and grey cargo aircraft., expected: {'target': 'silver, brown, and grey cargo aircraft', 'heading': '115', 'tool': 'surface-to-air missiles'}, but got: {'target': 'silver, brown, and grey cargo aircraft', 'heading': '115', 'tool': 'surface-to0-air missiles'}\n"
     ]
    },
    {
     "name": "stderr",
     "output_type": "stream",
     "text": [
      "  1%|▏         | 50/3500 [04:46<5:13:13,  5.45s/it] "
     ]
    },
    {
     "name": "stdout",
     "output_type": "stream",
     "text": [
      "For transcript: Control commanding, deploy machine gun, heading three three zero, engage silver, black, and orange drone. Over., expected: {'target': 'silver, black, and orange drone', 'heading': '330', 'tool': 'machine gun'}, but got: {'target': 'silver, black, and orange drone', 'heading': '030', 'tool': 'machine gun'}\n"
     ]
    },
    {
     "name": "stderr",
     "output_type": "stream",
     "text": [
      "  2%|▏         | 80/3500 [07:08<4:33:05,  4.79s/it]"
     ]
    },
    {
     "name": "stdout",
     "output_type": "stream",
     "text": [
      "For transcript: Deploy surface-to-air missiles, heading three three five, engage blue, grey, and orange missile., expected: {'target': 'blue, grey, and orange missile', 'heading': '335', 'tool': 'surface-to-air missiles'}, but got: {'target': 'blue, grey, and orange missile', 'heading': '035', 'tool': 'surface-to-air missiles'}\n"
     ]
    },
    {
     "name": "stderr",
     "output_type": "stream",
     "text": [
      "  3%|▎         | 88/3500 [07:46<4:32:09,  4.79s/it]"
     ]
    },
    {
     "name": "stdout",
     "output_type": "stream",
     "text": [
      "For transcript: Turret, adjust heading to three five zero. Deploy electromagnetic pulse against brown, purple, and blue drone., expected: {'target': 'brown, purple, and blue drone', 'heading': '350', 'tool': 'electromagnetic pulse'}, but got: {'target': 'brown, purple, and blue drone', 'heading': '0350', 'tool': 'electromagnetic pulse'}\n"
     ]
    },
    {
     "name": "stderr",
     "output_type": "stream",
     "text": [
      "  3%|▎         | 96/3500 [08:24<4:34:01,  4.83s/it]"
     ]
    },
    {
     "name": "stdout",
     "output_type": "stream",
     "text": [
      "For transcript: Deploy interceptor jets, heading three three zero, intercept orange, white, and blue fighter plane., expected: {'target': 'orange, white, and blue fighter plane', 'heading': '330', 'tool': 'interceptor jets'}, but got: {'target': 'orange, white, and blue fighter plane', 'heading': '030', 'tool': 'interceptor jets'}\n"
     ]
    },
    {
     "name": "stderr",
     "output_type": "stream",
     "text": [
      "  3%|▎         | 115/3500 [09:59<6:36:07,  7.02s/it]"
     ]
    },
    {
     "name": "stdout",
     "output_type": "stream",
     "text": [
      "For transcript: Control tower to air defense turrets, target is a black commercial aircraft heading one zero five. Deploy surface-to-air missiles. Engage target immediately., expected: {'target': 'black commercial aircraft', 'heading': '105', 'tool': 'surface-to-air missiles'}, but got: {'target': 'black commercial aircraft', 'heading': '105', 'tool': 'surface-to0-air missiles'}\n"
     ]
    },
    {
     "name": "stderr",
     "output_type": "stream",
     "text": [
      "  4%|▎         | 125/3500 [10:55<7:21:36,  7.85s/it]"
     ]
    },
    {
     "name": "stdout",
     "output_type": "stream",
     "text": [
      "For transcript: Control tower to defense turrets, prepare to engage. Deploy surface-to-air missiles targeting blue, orange, and brown missile heading three two five., expected: {'target': 'blue, orange, and brown missile', 'heading': '325', 'tool': 'surface-to-air missiles'}, but got: {'target': 'blue, orange, and brown missile', 'heading': '325', 'tool': 'surface-to0-air missiles'}\n"
     ]
    },
    {
     "name": "stderr",
     "output_type": "stream",
     "text": [
      "  4%|▎         | 129/3500 [11:41<12:45:12, 13.62s/it]"
     ]
    },
    {
     "name": "stdout",
     "output_type": "stream",
     "text": [
      "For transcript: Control tower to air defense turrets, target is green, grey, and orange light aircraft, deploy surface-to-air missiles, heading three four zero., expected: {'target': 'green, grey, and orange light aircraft', 'heading': '340', 'tool': 'surface-to-air missiles'}, but got: {'target': 'green, grey, and orange light aircraft', 'heading': '340', 'tool': 'surface-to0-air missiles'}\n"
     ]
    },
    {
     "name": "stderr",
     "output_type": "stream",
     "text": [
      "  4%|▍         | 145/3500 [12:55<4:23:02,  4.70s/it] "
     ]
    },
    {
     "name": "stdout",
     "output_type": "stream",
     "text": [
      "For transcript: Fire anti-air artillery at the blue and yellow camouflage cargo aircraft heading one three zero., expected: {'target': 'blue and yellow camouflage cargo aircraft', 'heading': '130', 'tool': 'anti-air artillery'}, but got: {'target': 'blue and yellow camouflage cargo aircraft', 'heading': '130', 'tool': 'Fire anti-air artillery'}\n"
     ]
    },
    {
     "name": "stderr",
     "output_type": "stream",
     "text": [
      "  4%|▍         | 148/3500 [13:36<12:04:57, 12.98s/it]"
     ]
    },
    {
     "name": "stdout",
     "output_type": "stream",
     "text": [
      "For transcript: Turrets, target white and red light aircraft at heading one eight zero. Deploy surface-to-air missiles. Engage target., expected: {'target': 'white and red light aircraft', 'heading': '180', 'tool': 'surface-to-air missiles'}, but got: {'target': 'white and red light aircraft', 'heading': '180', 'tool': 'surface-to0-air missiles'}\n"
     ]
    },
    {
     "name": "stderr",
     "output_type": "stream",
     "text": [
      "  4%|▍         | 151/3500 [14:18<14:44:19, 15.84s/it]"
     ]
    },
    {
     "name": "stdout",
     "output_type": "stream",
     "text": [
      "For transcript: Target the red cargo aircraft traveling at heading two niner zero. Engage with surface-to-air missiles. Fire when ready., expected: {'target': 'red cargo aircraft', 'heading': '290', 'tool': 'surface-to-air missiles'}, but got: {'target': 'red cargo aircraft', 'heading': '290', 'tool': 'surface-to0-air missiles'}\n"
     ]
    },
    {
     "name": "stderr",
     "output_type": "stream",
     "text": [
      "  5%|▌         | 187/3500 [17:06<4:17:47,  4.67s/it] "
     ]
    },
    {
     "name": "stdout",
     "output_type": "stream",
     "text": [
      "For transcript: Fire electromagnetic pulse at heading two niner zero to neutralize white light aircraft., expected: {'target': 'white light aircraft', 'heading': '290', 'tool': 'electromagnetic pulse'}, but got: {'target': 'white light aircraft', 'heading': '290', 'tool': 'fire electromagnetic pulse'}\n"
     ]
    },
    {
     "name": "stderr",
     "output_type": "stream",
     "text": [
      "  5%|▌         | 189/3500 [17:15<4:10:57,  4.55s/it]"
     ]
    },
    {
     "name": "stdout",
     "output_type": "stream",
     "text": [
      "For transcript: Fire electromagnetic pulse at heading two six zero to intercept blue light aircraft., expected: {'target': 'blue light aircraft', 'heading': '260', 'tool': 'electromagnetic pulse'}, but got: {'target': 'blue light aircraft', 'heading': '260', 'tool': 'fire electromagnetic pulse'}\n"
     ]
    },
    {
     "name": "stderr",
     "output_type": "stream",
     "text": [
      "  6%|▌         | 206/3500 [18:34<4:17:56,  4.70s/it]"
     ]
    },
    {
     "name": "stdout",
     "output_type": "stream",
     "text": [
      "For transcript: Control tower to anti-air artillery, engage purple, yellow, and brown drone heading three zero zero., expected: {'target': 'purple, yellow, and brown drone', 'heading': '300', 'tool': 'anti-air artillery'}, but got: {'target': 'purple, yellow, and brown drone', 'heading': '030', 'tool': 'anti-air artillery'}\n"
     ]
    },
    {
     "name": "stderr",
     "output_type": "stream",
     "text": [
      "  6%|▋         | 227/3500 [20:13<4:26:25,  4.88s/it]"
     ]
    },
    {
     "name": "stdout",
     "output_type": "stream",
     "text": [
      "For transcript: Turret Foxtrot, deploy electromagnetic pulse on heading three zero five towards white and green commercial aircraft., expected: {'target': 'white and green commercial aircraft', 'heading': '305', 'tool': 'electromagnetic pulse'}, but got: {'target': 'white and green commercial aircraft', 'heading': '0305', 'tool': 'electromagnetic pulse'}\n"
     ]
    },
    {
     "name": "stderr",
     "output_type": "stream",
     "text": [
      "  7%|▋         | 248/3500 [21:50<4:06:36,  4.55s/it]"
     ]
    },
    {
     "name": "stdout",
     "output_type": "stream",
     "text": [
      "For transcript: Control tower to air defense turrets, authorize EMP deployment at heading two eight zero on red helicopter., expected: {'target': 'red helicopter', 'heading': '280', 'tool': 'EMP'}, but got: {'target': 'red helicopter', 'heading': '280', 'tool': 'EMP deployment'}\n"
     ]
    },
    {
     "name": "stderr",
     "output_type": "stream",
     "text": [
      "  7%|▋         | 250/3500 [22:08<6:39:49,  7.38s/it]"
     ]
    },
    {
     "name": "stdout",
     "output_type": "stream",
     "text": [
      "For transcript: Control here. Surface-to-air missiles, engage the brown, orange, and red light aircraft coming in at heading two two zero. Execute attack pattern immediately., expected: {'target': 'brown, orange, and red light aircraft', 'heading': '220', 'tool': 'surface-to-air missiles'}, but got: {'target': 'brown, orange, and red light aircraft', 'heading': '220', 'tool': 'surface-to0-air missiles'}\n"
     ]
    },
    {
     "name": "stderr",
     "output_type": "stream",
     "text": [
      "  7%|▋         | 255/3500 [22:33<4:53:45,  5.43s/it]"
     ]
    },
    {
     "name": "stdout",
     "output_type": "stream",
     "text": [
      "For transcript: Control to turrets, be advised, we have a silver helicopter at heading three one five. Deploy surface-to-air missiles to engage target. Over., expected: {'target': 'silver helicopter', 'heading': '315', 'tool': 'surface-to-air missiles'}, but got: {'target': 'silver helicopter', 'heading': '315', 'tool': 'surface-to0-air missiles'}\n"
     ]
    },
    {
     "name": "stderr",
     "output_type": "stream",
     "text": [
      "  7%|▋         | 256/3500 [23:06<12:16:04, 13.61s/it]"
     ]
    },
    {
     "name": "stdout",
     "output_type": "stream",
     "text": [
      "For transcript: Prepare to engage target brown missile at heading zero four five. Deploy surface-to-air missiles. Lock on and fire at will., expected: {'target': 'brown missile', 'heading': '045', 'tool': 'surface-to-air missiles'}, but got: {'target': 'brown missile', 'heading': '045', 'tool': 'surface-to0-air missiles'}\n"
     ]
    },
    {
     "name": "stderr",
     "output_type": "stream",
     "text": [
      "  7%|▋         | 262/3500 [23:34<5:08:18,  5.71s/it] "
     ]
    },
    {
     "name": "stdout",
     "output_type": "stream",
     "text": [
      "For transcript: Deploy EMP on the green, brown, and blue drone cluster at heading two eight five., expected: {'target': 'green, brown, and blue drone', 'heading': '285', 'tool': 'EMP'}, but got: {'target': 'green, brown, and blue drone cluster', 'heading': '285', 'tool': 'EMP'}\n"
     ]
    },
    {
     "name": "stderr",
     "output_type": "stream",
     "text": [
      "  8%|▊         | 266/3500 [23:52<4:14:15,  4.72s/it]"
     ]
    },
    {
     "name": "stdout",
     "output_type": "stream",
     "text": [
      "For transcript: Engage the target, blue cargo aircraft, with electromagnetic pulse. Head to heading zero zero five., expected: {'target': 'blue cargo aircraft', 'heading': '005', 'tool': 'electromagnetic pulse'}, but got: {'target': 'blue cargo aircraft', 'heading': '005'}\n"
     ]
    },
    {
     "name": "stderr",
     "output_type": "stream",
     "text": [
      "  8%|▊         | 269/3500 [24:05<4:07:26,  4.60s/it]"
     ]
    },
    {
     "name": "stdout",
     "output_type": "stream",
     "text": [
      "Error parsing JSON string: \n",
      "For transcript: Engage orange and brown fighter plane at heading zero six five with surface-to-air missiles. Target locked. Prepare to fire., expected: {'target': 'orange and brown fighter plane', 'heading': '065', 'tool': 'surface-to-air missiles'}, but got: None\n"
     ]
    },
    {
     "name": "stderr",
     "output_type": "stream",
     "text": [
      "  8%|▊         | 271/3500 [24:27<7:23:32,  8.24s/it]"
     ]
    },
    {
     "name": "stdout",
     "output_type": "stream",
     "text": [
      "For transcript: Fire machine gun at zero niner five, engage brown and white missile., expected: {'target': 'brown and white missile', 'heading': '095', 'tool': 'machine gun'}, but got: {'target': 'brown and white missile', 'heading': '095', 'tool': 'fire machine gun'}\n"
     ]
    },
    {
     "name": "stderr",
     "output_type": "stream",
     "text": [
      "  8%|▊         | 286/3500 [25:36<4:10:03,  4.67s/it]"
     ]
    },
    {
     "name": "stdout",
     "output_type": "stream",
     "text": [
      "For transcript: Engage target, black, white, and brown helicopter, at heading three two zero, with machine gun fire., expected: {'target': 'black, white, and brown helicopter', 'heading': '320', 'tool': 'machine gun'}, but got: {'target': 'black, white, and brown helicopter', 'heading': '320', 'tool': 'machine gun fire'}\n"
     ]
    },
    {
     "name": "stderr",
     "output_type": "stream",
     "text": [
      "  9%|▊         | 299/3500 [26:36<4:06:55,  4.63s/it]"
     ]
    },
    {
     "name": "stdout",
     "output_type": "stream",
     "text": [
      "For transcript: Control here, deploy the anti-air artillery to intercept the grey and blue fighter jet approaching from heading three five five. Over., expected: {'target': 'grey and blue fighter jet', 'heading': '355', 'tool': 'anti-air artillery'}, but got: {'target': 'grey and blue fighter jet', 'heading': '0355', 'tool': 'anti-air artillery'}\n"
     ]
    },
    {
     "name": "stderr",
     "output_type": "stream",
     "text": [
      "  9%|▉         | 316/3500 [27:55<3:57:37,  4.48s/it]"
     ]
    },
    {
     "name": "stdout",
     "output_type": "stream",
     "text": [
      "Error parsing JSON string: \n",
      "For transcript: Turret Alpha, deploy anti-air artillery towards the black camouflage helicopter heading three five zero. Target locked, awaiting your strike. Turret Bravo and Charlie, stand by for further instructions., expected: {'target': 'black camouflage helicopter', 'heading': '350', 'tool': 'anti-air artillery'}, but got: None\n"
     ]
    },
    {
     "name": "stderr",
     "output_type": "stream",
     "text": [
      "  9%|▉         | 322/3500 [28:40<8:42:07,  9.86s/it]"
     ]
    },
    {
     "name": "stdout",
     "output_type": "stream",
     "text": [
      "For transcript: Engage target, yellow drone, at heading one three five. Fire surface-to-air missiles., expected: {'target': 'yellow drone', 'heading': '135', 'tool': 'surface-to-air missiles'}, but got: {'target': 'yellow drone', 'heading': '135', 'tool': 'surface-to0-air missiles'}\n"
     ]
    },
    {
     "name": "stderr",
     "output_type": "stream",
     "text": [
      "  9%|▉         | 331/3500 [29:20<4:06:39,  4.67s/it]"
     ]
    },
    {
     "name": "stdout",
     "output_type": "stream",
     "text": [
      "Error parsing JSON string: \n",
      "For transcript: Engage, yellow, orange, and silver missile with anti-air artillery. Heading zero five zero. Target locked. Fire at will., expected: {'target': 'yellow, orange, and silver missile', 'heading': '050', 'tool': 'anti-air artillery'}, but got: None\n"
     ]
    },
    {
     "name": "stderr",
     "output_type": "stream",
     "text": [
      " 10%|▉         | 347/3500 [30:58<9:28:21, 10.82s/it]"
     ]
    },
    {
     "name": "stdout",
     "output_type": "stream",
     "text": [
      "For transcript: Control tower to air defense turrets, target orange cargo aircraft, heading three five zero. Deploy surface-to-air missiles. Engage and eliminate. Over., expected: {'target': 'orange cargo aircraft', 'heading': '350', 'tool': 'surface-to-air missiles'}, but got: {'target': 'orange cargo aircraft', 'heading': '350', 'tool': 'surface-to0-air missiles'}\n"
     ]
    },
    {
     "name": "stderr",
     "output_type": "stream",
     "text": [
      " 10%|█         | 366/3500 [32:28<4:05:14,  4.70s/it]"
     ]
    },
    {
     "name": "stdout",
     "output_type": "stream",
     "text": [
      "For transcript: Engage blue, grey, and black light aircraft heading zero one zero with machine gun firepower., expected: {'target': 'blue, grey, and black light aircraft', 'heading': '010', 'tool': 'machine gun'}, but got: {'target': 'blue, grey, and black light aircraft', 'heading': '010', 'tool': 'machine gun firepower'}\n"
     ]
    },
    {
     "name": "stderr",
     "output_type": "stream",
     "text": [
      " 11%|█         | 368/3500 [32:37<3:59:49,  4.59s/it]"
     ]
    },
    {
     "name": "stdout",
     "output_type": "stream",
     "text": [
      "For transcript: Air defense turret, engage interceptor jets to heading two zero zero. Target is a green fighter jet. Intercept and neutralize the threat., expected: {'target': 'green fighter jet', 'heading': '200', 'tool': 'interceptor jets'}, but got: {'target': 'green fighter jet', 'heading': '200', 'tool': 'air defense turret'}\n"
     ]
    },
    {
     "name": "stderr",
     "output_type": "stream",
     "text": [
      " 11%|█         | 375/3500 [33:10<4:06:20,  4.73s/it]"
     ]
    },
    {
     "name": "stdout",
     "output_type": "stream",
     "text": [
      "For transcript: Turret, please prepare to deploy an electromagnetic pulse towards the target -- a white and yellow helicopter -- heading three five zero. Fire when ready., expected: {'target': 'white and yellow helicopter', 'heading': '350', 'tool': 'electromagnetic pulse'}, but got: {'target': 'white and yellow helicopter', 'heading': '0350', 'tool': 'electromagnetic pulse'}\n"
     ]
    },
    {
     "name": "stderr",
     "output_type": "stream",
     "text": [
      " 11%|█         | 380/3500 [33:33<4:01:40,  4.65s/it]"
     ]
    },
    {
     "name": "stdout",
     "output_type": "stream",
     "text": [
      "For transcript: Air defense turret, heading three four zero, engage grey and black missile with machine gun., expected: {'target': 'grey and black missile', 'heading': '340', 'tool': 'machine gun'}, but got: {'target': 'grey and black missile with machine gun', 'heading': '340', 'tool': 'machine gun'}\n"
     ]
    },
    {
     "name": "stderr",
     "output_type": "stream",
     "text": [
      " 11%|█         | 393/3500 [34:48<6:55:39,  8.03s/it]"
     ]
    },
    {
     "name": "stdout",
     "output_type": "stream",
     "text": [
      "For transcript: Control to air defense turrets, we have a green helicopter at heading three four five. Deploy surface-to-air missiles to intercept the target. Engage now., expected: {'target': 'green helicopter', 'heading': '345', 'tool': 'surface-to-air missiles'}, but got: {'target': 'green helicopter', 'heading': '345', 'tool': 'surface-to0-air missiles'}\n"
     ]
    },
    {
     "name": "stderr",
     "output_type": "stream",
     "text": [
      " 12%|█▏        | 425/3500 [37:18<4:02:08,  4.72s/it]"
     ]
    },
    {
     "name": "stdout",
     "output_type": "stream",
     "text": [
      "For transcript: Turret Alpha, engage target, grey, orange, and white light aircraft at heading zero two zero with machine gun fire. Repeat, Alpha, target in sight, fire at will., expected: {'target': 'grey, orange, and white light aircraft', 'heading': '020', 'tool': 'machine gun'}, but got: {'target': 'grey, orange, and white light aircraft', 'heading': '020', 'tool': 'machine gun fire'}\n"
     ]
    },
    {
     "name": "stderr",
     "output_type": "stream",
     "text": [
      " 12%|█▏        | 428/3500 [37:32<3:58:06,  4.65s/it]"
     ]
    },
    {
     "name": "stdout",
     "output_type": "stream",
     "text": [
      "For transcript: EMP turret, heading one niner zero, target white, green, and grey light aircraft. Engage., expected: {'target': 'white, green, and grey light aircraft', 'heading': '190', 'tool': 'EMP'}, but got: {'target': 'white, green, and grey light aircraft', 'heading': '190', 'tool': 'EMP turret'}\n"
     ]
    },
    {
     "name": "stderr",
     "output_type": "stream",
     "text": [
      " 12%|█▏        | 430/3500 [37:41<3:51:05,  4.52s/it]"
     ]
    },
    {
     "name": "stdout",
     "output_type": "stream",
     "text": [
      "Error parsing JSON string: \n",
      "For transcript: Deploy interceptor jets to heading one six zero. Engage orange and green fighter jet. Engage, engage., expected: {'target': 'orange and green fighter jet', 'heading': '160', 'tool': 'interceptor jets'}, but got: None\n"
     ]
    },
    {
     "name": "stderr",
     "output_type": "stream",
     "text": [
      " 13%|█▎        | 450/3500 [39:15<4:05:44,  4.83s/it]"
     ]
    },
    {
     "name": "stdout",
     "output_type": "stream",
     "text": [
      "For transcript: Turret Alpha, track and engage the white and orange fighter plane at heading two two zero using surface-to-air missiles. Turret Bravo, standby for further orders., expected: {'target': 'white and orange fighter plane', 'heading': '220', 'tool': 'surface-to-air missiles'}, but got: {'target': 'white and orange fighter plane', 'heading': '220', 'tool': 'surface-to0-air missiles'}\n"
     ]
    },
    {
     "name": "stderr",
     "output_type": "stream",
     "text": [
      " 13%|█▎        | 461/3500 [40:10<5:18:28,  6.29s/it]"
     ]
    },
    {
     "name": "stdout",
     "output_type": "stream",
     "text": [
      "For transcript: Control here. Attention all units, e'rectoron of heading three three five, ready surface-to-air missiles for optimal interception of the orange drone. Execute immediately. Over., expected: {'target': 'orange drone', 'heading': '335', 'tool': 'surface-to-air missiles'}, but got: {'target': 'orange drone', 'heading': '335', 'tool': 'surface-to01e-air missiles'}\n"
     ]
    },
    {
     "name": "stderr",
     "output_type": "stream",
     "text": [
      " 14%|█▎        | 477/3500 [41:30<3:52:46,  4.62s/it]"
     ]
    },
    {
     "name": "stdout",
     "output_type": "stream",
     "text": [
      "For transcript: Fire EMP weapon at white and grey light aircraft heading one eight zero., expected: {'target': 'white and grey light aircraft', 'heading': '180', 'tool': 'EMP'}, but got: {'target': 'white and grey light aircraft', 'heading': '180', 'tool': 'Fire EMP weapon'}\n"
     ]
    },
    {
     "name": "stderr",
     "output_type": "stream",
     "text": [
      " 14%|█▍        | 488/3500 [42:21<3:44:38,  4.47s/it]"
     ]
    },
    {
     "name": "stdout",
     "output_type": "stream",
     "text": [
      "Error parsing JSON string: \n",
      "For transcript: Engage white fighter plane heading one zero five using interceptor jets., expected: {'target': 'white fighter plane', 'heading': '105', 'tool': 'interceptor jets'}, but got: None\n"
     ]
    },
    {
     "name": "stderr",
     "output_type": "stream",
     "text": [
      " 14%|█▍        | 496/3500 [42:59<3:55:53,  4.71s/it]"
     ]
    },
    {
     "name": "stdout",
     "output_type": "stream",
     "text": [
      "For transcript: Turret Charlie, scramble interceptor jets, heading two five five, engage orange and brown cargo aircraft., expected: {'target': 'orange and brown cargo aircraft', 'heading': '255', 'tool': 'interceptor jets'}, but got: {'target': 'orange and brown cargo aircraft', 'heading': '255', 'tool': 'scramble interceptor jets'}\n"
     ]
    },
    {
     "name": "stderr",
     "output_type": "stream",
     "text": [
      " 14%|█▍        | 502/3500 [43:26<3:50:51,  4.62s/it]"
     ]
    },
    {
     "name": "stdout",
     "output_type": "stream",
     "text": [
      "For transcript: Focus turret to heading three zero five. Deploy electromagnetic pulse on the green missile target. Engage., expected: {'target': 'green missile', 'heading': '305', 'tool': 'electromagnetic pulse'}, but got: {'target': 'green missile target', 'heading': '0305', 'tool': 'electromagnetic pulse'}\n"
     ]
    },
    {
     "name": "stderr",
     "output_type": "stream",
     "text": [
      " 15%|█▍        | 510/3500 [44:04<3:50:58,  4.64s/it]"
     ]
    },
    {
     "name": "stdout",
     "output_type": "stream",
     "text": [
      "Error parsing JSON string: \n",
      "For transcript: Control to air defense turrets, we have a purple and orange fighter jet approaching our airspace. I need you to deploy the interceptor jets to intercept the target. Heading for deployment is two four zero. Execute immediately., expected: {'target': 'purple and orange fighter jet', 'heading': '240', 'tool': 'interceptor jets'}, but got: None\n"
     ]
    },
    {
     "name": "stderr",
     "output_type": "stream",
     "text": [
      " 15%|█▍        | 511/3500 [44:08<3:49:39,  4.61s/it]"
     ]
    },
    {
     "name": "stdout",
     "output_type": "stream",
     "text": [
      "For transcript: Control, deploy the drone catcher tool to intercept the red and silver drone approaching from heading three three five. Over., expected: {'target': 'red and silver drone', 'heading': '335', 'tool': 'drone catcher'}, but got: {'target': 'red and silver drone', 'heading': '035', 'tool': 'drone catcher'}\n"
     ]
    },
    {
     "name": "stderr",
     "output_type": "stream",
     "text": [
      " 15%|█▍        | 515/3500 [44:28<3:57:23,  4.77s/it]"
     ]
    },
    {
     "name": "stdout",
     "output_type": "stream",
     "text": [
      "For transcript: Interceptor jets, engage silver, red, and white fighter plane at heading zero five five., expected: {'target': 'silver, red, and white fighter plane', 'heading': '055', 'tool': 'interceptor jets'}, but got: {'target': 'silver, red, and white fighter plane', 'heading': '055', 'tool': 'Interceptor jets'}\n"
     ]
    },
    {
     "name": "stderr",
     "output_type": "stream",
     "text": [
      " 15%|█▍        | 516/3500 [45:00<10:49:35, 13.06s/it]"
     ]
    },
    {
     "name": "stdout",
     "output_type": "stream",
     "text": [
      "For transcript: Control commanding air defense turrets, deploy surface-to-air missiles and lock on target. Engage red, orange, and yellow cargo aircraft heading three zero zero. Fire at will., expected: {'target': 'red, orange, and yellow cargo aircraft', 'heading': '300', 'tool': 'surface-to-air missiles'}, but got: {'target': 'red, orange, and yellow cargo aircraft', 'heading': '0300', 'tool': 'surface-to0-air missiles'}\n"
     ]
    },
    {
     "name": "stderr",
     "output_type": "stream",
     "text": [
      " 15%|█▌        | 525/3500 [45:42<4:03:32,  4.91s/it] "
     ]
    },
    {
     "name": "stdout",
     "output_type": "stream",
     "text": [
      "For transcript: Air defense turret, lock on to target, brown and yellow fighter jet located at three zero zero, deploy machine gun. Engage target., expected: {'target': 'brown and yellow fighter jet', 'heading': '300', 'tool': 'machine gun'}, but got: {'target': 'brown and yellow fighter jet', 'heading': '0300', 'tool': 'machine gun'}\n"
     ]
    },
    {
     "name": "stderr",
     "output_type": "stream",
     "text": [
      " 15%|█▌        | 526/3500 [45:46<3:54:24,  4.73s/it]"
     ]
    },
    {
     "name": "stdout",
     "output_type": "stream",
     "text": [
      "For transcript: Turret Bravo, deploy EMP on heading three one zero to neutralize target Black Missile., expected: {'target': 'black missile', 'heading': '310', 'tool': 'EMP'}, but got: {'target': 'Black Missile', 'heading': '310', 'tool': 'EMP'}\n"
     ]
    },
    {
     "name": "stderr",
     "output_type": "stream",
     "text": [
      " 15%|█▌        | 533/3500 [46:18<3:48:02,  4.61s/it]"
     ]
    },
    {
     "name": "stdout",
     "output_type": "stream",
     "text": [
      "For transcript: Activate machine gun system, target blue, yellow, and orange fighter plane heading two five zero. Engage and neutralize the threat., expected: {'target': 'blue, yellow, and orange fighter plane', 'heading': '250', 'tool': 'machine gun'}, but got: {'target': 'blue, yellow, and orange fighter plane', 'heading': '250', 'tool': 'machine gun system'}\n"
     ]
    },
    {
     "name": "stderr",
     "output_type": "stream",
     "text": [
      " 16%|█▋        | 572/3500 [49:21<3:47:33,  4.66s/it]"
     ]
    },
    {
     "name": "stdout",
     "output_type": "stream",
     "text": [
      "For transcript: Turret Bravo, heading three zero five, engage silver cargo aircraft with surface-to-air missiles. Target locked. Prepare for strike., expected: {'target': 'silver cargo aircraft', 'heading': '305', 'tool': 'surface-to-air missiles'}, but got: {'target': 'silver cargo aircraft', 'heading': '305', 'tool': 'surface-to0-air missiles'}\n"
     ]
    },
    {
     "name": "stderr",
     "output_type": "stream",
     "text": [
      " 17%|█▋        | 583/3500 [50:11<3:45:01,  4.63s/it]"
     ]
    },
    {
     "name": "stdout",
     "output_type": "stream",
     "text": [
      "For transcript: Interceptor jets, engage yellow cargo aircraft on heading one niner five. Take appropriate action to neutralize the threat., expected: {'target': 'yellow cargo aircraft', 'heading': '195', 'tool': 'interceptor jets'}, but got: {'target': 'yellow cargo aircraft', 'heading': '195', 'tool': 'Interceptor jets'}\n"
     ]
    },
    {
     "name": "stderr",
     "output_type": "stream",
     "text": [
      " 17%|█▋        | 607/3500 [52:12<4:40:28,  5.82s/it]"
     ]
    },
    {
     "name": "stdout",
     "output_type": "stream",
     "text": [
      "For transcript: Turret Mike, arm surface-to-air missiles and aim heading three zero zero. Engage the red and grey missile., expected: {'target': 'red and grey missile', 'heading': '300', 'tool': 'surface-to-air missiles'}, but got: {'target': 'red and grey missile', 'heading': '0300', 'tool': 'surface-to-air missiles'}\n"
     ]
    },
    {
     "name": "stderr",
     "output_type": "stream",
     "text": [
      " 19%|█▉        | 669/3500 [57:02<3:42:29,  4.72s/it]"
     ]
    },
    {
     "name": "stdout",
     "output_type": "stream",
     "text": [
      "For transcript: Air defense turret, adjust heading to two three zero. Deploy surface-to-air missiles to target the purple missile. Engage at will., expected: {'target': 'purple missile', 'heading': '230', 'tool': 'surface-to-air missiles'}, but got: {'target': 'purple missile', 'heading': '230', 'tool': 'surface-to0-air missiles'}\n"
     ]
    },
    {
     "name": "stderr",
     "output_type": "stream",
     "text": [
      " 19%|█▉        | 670/3500 [57:34<10:11:46, 12.97s/it]"
     ]
    },
    {
     "name": "stdout",
     "output_type": "stream",
     "text": [
      "For transcript: Air defense turret, rotate heading to one five five. Deploy surface-to-air missiles on yellow and green fighter plane. Engage the target., expected: {'target': 'yellow and green fighter plane', 'heading': '155', 'tool': 'surface-to-air missiles'}, but got: {'target': 'yellow and green fighter plane', 'heading': '155', 'tool': 'surface-to0-air missiles'}\n"
     ]
    },
    {
     "name": "stderr",
     "output_type": "stream",
     "text": [
      " 19%|█▉        | 680/3500 [58:20<3:49:09,  4.88s/it] "
     ]
    },
    {
     "name": "stdout",
     "output_type": "stream",
     "text": [
      "For transcript: Scramble interceptor jets, engaging orange and brown commercial aircraft at heading one five five., expected: {'target': 'orange and brown commercial aircraft', 'heading': '155', 'tool': 'interceptor jets'}, but got: {'target': 'orange and brown commercial aircraft', 'heading': '155', 'tool': 'Scramble interceptor jets'}\n"
     ]
    },
    {
     "name": "stderr",
     "output_type": "stream",
     "text": [
      " 20%|█▉        | 683/3500 [58:34<3:41:00,  4.71s/it]"
     ]
    },
    {
     "name": "stdout",
     "output_type": "stream",
     "text": [
      "For transcript: Turret Bravo, engage brown camouflage helicopter at heading two niner zero with machine gun fire., expected: {'target': 'brown camouflage helicopter', 'heading': '290', 'tool': 'machine gun'}, but got: {'target': 'brown camouflage helicopter', 'heading': '290', 'tool': 'machine gun fire'}\n"
     ]
    },
    {
     "name": "stderr",
     "output_type": "stream",
     "text": [
      " 20%|█▉        | 686/3500 [58:47<3:32:03,  4.52s/it]"
     ]
    },
    {
     "name": "stdout",
     "output_type": "stream",
     "text": [
      "For transcript: Control to air defense turrets, we have a yellow cargo aircraft inbound. Deploy EMP tool and aim at heading three zero zero. Lock on and fire at will. Be ready to neutralize the threat. Over., expected: {'target': 'yellow cargo aircraft', 'heading': '300', 'tool': 'EMP'}, but got: {'target': 'yellow cargo aircraft', 'heading': '0300', 'tool': 'EMP'}\n"
     ]
    },
    {
     "name": "stderr",
     "output_type": "stream",
     "text": [
      " 21%|██        | 720/3500 [1:01:34<4:16:45,  5.54s/it]"
     ]
    },
    {
     "name": "stdout",
     "output_type": "stream",
     "text": [
      "For transcript: Engage target, black, purple, and white fighter jet, heading three three five, with machine gun., expected: {'target': 'black, purple, and white fighter jet', 'heading': '335', 'tool': 'machine gun'}, but got: {'target': 'black, purple, and white fighter jet', 'heading': '0335', 'tool': 'machine gun'}\n"
     ]
    },
    {
     "name": "stderr",
     "output_type": "stream",
     "text": [
      " 21%|██        | 727/3500 [1:02:37<10:14:57, 13.31s/it]"
     ]
    },
    {
     "name": "stdout",
     "output_type": "stream",
     "text": [
      "For transcript: Air defense turret, prepare to engage the green and grey fighter plane at heading one zero zero using surface-to-air missiles. Engage target now., expected: {'target': 'green and grey fighter plane', 'heading': '100', 'tool': 'surface-to-air missiles'}, but got: {'target': 'green and grey fighter plane', 'heading': '100', 'tool': 'surface-to0-air missiles'}\n"
     ]
    },
    {
     "name": "stderr",
     "output_type": "stream",
     "text": [
      " 21%|██▏       | 747/3500 [1:04:11<3:38:13,  4.76s/it] "
     ]
    },
    {
     "name": "stdout",
     "output_type": "stream",
     "text": [
      "For transcript: Initiate anti-air artillery deployment on heading three zero five targeting green, blue, and orange fighter planes., expected: {'target': 'green, blue, and orange fighter plane', 'heading': '305', 'tool': 'anti-air artillery'}, but got: {'target': 'green, blue, and orange fighter planes', 'heading': '305', 'tool': 'anti-air artillery'}\n"
     ]
    },
    {
     "name": "stderr",
     "output_type": "stream",
     "text": [
      " 22%|██▏       | 757/3500 [1:05:25<9:55:07, 13.02s/it]"
     ]
    },
    {
     "name": "stdout",
     "output_type": "stream",
     "text": [
      "For transcript: Alpha, Bravo, this is Control Tower. Target is green and grey cargo aircraft at heading two one five. Deploy surface-to-air missiles. Take aim and fire., expected: {'target': 'green and grey cargo aircraft', 'heading': '215', 'tool': 'surface-to-air missiles'}, but got: {'target': 'green and grey cargo aircraft', 'heading': '215', 'tool': 'surface-to0-air missiles'}\n"
     ]
    },
    {
     "name": "stderr",
     "output_type": "stream",
     "text": [
      " 22%|██▏       | 782/3500 [1:07:24<3:27:11,  4.57s/it]"
     ]
    },
    {
     "name": "stdout",
     "output_type": "stream",
     "text": [
      "For transcript: Engage target, purple helicopter, bearing three five zero, with machine gun., expected: {'target': 'purple helicopter', 'heading': '350', 'tool': 'machine gun'}, but got: {'target': 'purple helicopter', 'heading': '0350', 'tool': 'machine gun'}\n"
     ]
    },
    {
     "name": "stderr",
     "output_type": "stream",
     "text": [
      " 22%|██▏       | 785/3500 [1:07:40<3:47:22,  5.02s/it]"
     ]
    },
    {
     "name": "stdout",
     "output_type": "stream",
     "text": [
      "For transcript: Activate electromagnetic pulse, heading one five zero, green missile target., expected: {'target': 'green missile', 'heading': '150', 'tool': 'electromagnetic pulse'}, but got: {'target': 'green missile target', 'heading': '150', 'tool': 'electromagnetic pulse'}\n"
     ]
    },
    {
     "name": "stderr",
     "output_type": "stream",
     "text": [
      " 23%|██▎       | 798/3500 [1:08:46<4:28:18,  5.96s/it]"
     ]
    },
    {
     "name": "stdout",
     "output_type": "stream",
     "text": [
      "For transcript: Tower to air defense turrets, heading two four zero. Deploy surface-to-air missiles. Target is black helicopter. Engage immediately., expected: {'target': 'black helicopter', 'heading': '240', 'tool': 'surface-to-air missiles'}, but got: {'target': 'black helicopter', 'heading': '240', 'tool': 'surface-to0-air missiles'}\n"
     ]
    },
    {
     "name": "stderr",
     "output_type": "stream",
     "text": [
      " 23%|██▎       | 800/3500 [1:08:55<3:55:00,  5.22s/it]"
     ]
    },
    {
     "name": "stdout",
     "output_type": "stream",
     "text": [
      "For transcript: Control tower to air defense turrets. Intercept purple fighter plane heading three five zero with interceptor jets. Protect airspace. Over., expected: {'target': 'purple fighter plane', 'heading': '350', 'tool': 'interceptor jets'}, but got: {'target': 'purple fighter plane', 'heading': '0350', 'tool': 'interceptor jets'}\n"
     ]
    },
    {
     "name": "stderr",
     "output_type": "stream",
     "text": [
      " 23%|██▎       | 804/3500 [1:09:13<3:29:29,  4.66s/it]"
     ]
    },
    {
     "name": "stdout",
     "output_type": "stream",
     "text": [
      "For transcript: Deploy EMP. Black helicopter at heading zero zero five., expected: {'target': 'black helicopter', 'heading': '005', 'tool': 'EMP'}, but got: {'target': 'Black helicopter', 'heading': '005', 'tool': 'EMP'}\n"
     ]
    },
    {
     "name": "stderr",
     "output_type": "stream",
     "text": [
      " 23%|██▎       | 815/3500 [1:10:06<3:35:30,  4.82s/it]"
     ]
    },
    {
     "name": "stdout",
     "output_type": "stream",
     "text": [
      "For transcript: Control to turrets, we have a target of brown and blue light aircraft heading three zero five. Deploy electromagnetic pulse immediately. Repeat, deploy electromagnetic pulse towards brown and blue light aircraft heading three zero five. Over., expected: {'target': 'brown and blue light aircraft', 'heading': '305', 'tool': 'electromagnetic pulse'}, but got: {'target': 'brown and blue light aircraft heading three zero five', 'heading': '0305', 'tool': 'electromagnetic pulse'}\n"
     ]
    },
    {
     "name": "stderr",
     "output_type": "stream",
     "text": [
      " 24%|██▎       | 827/3500 [1:11:01<3:26:23,  4.63s/it]"
     ]
    },
    {
     "name": "stdout",
     "output_type": "stream",
     "text": [
      "For transcript: Control tower to air defense turrets, deploy anti-air artillery on heading three three five. Target is red and white drone., expected: {'target': 'red and white drone', 'heading': '335', 'tool': 'anti-air artillery'}, but got: {'target': 'red and white drone', 'heading': '035', 'tool': 'anti-air artillery'}\n"
     ]
    },
    {
     "name": "stderr",
     "output_type": "stream",
     "text": [
      " 24%|██▎       | 828/3500 [1:11:05<3:23:08,  4.56s/it]"
     ]
    },
    {
     "name": "stdout",
     "output_type": "stream",
     "text": [
      "Error parsing JSON string: \n",
      "For transcript: Control to all air defense turrets, we have a target consisting of a yellow, white, and grey fighter plane approaching on a heading of three three five. Deploy interceptor jets immediately to intercept the target. Repeat, deploy interceptor jets to intercept the target. Over., expected: {'target': 'yellow, white, and grey fighter plane', 'heading': '335', 'tool': 'interceptor jets'}, but got: None\n"
     ]
    },
    {
     "name": "stderr",
     "output_type": "stream",
     "text": [
      " 24%|██▍       | 854/3500 [1:13:05<3:15:41,  4.44s/it]"
     ]
    },
    {
     "name": "stdout",
     "output_type": "stream",
     "text": [
      "Error parsing JSON string: \n",
      "For transcript: Turret Alpha, surface-to-air missiles, heading three one zero, engage the grey drone. Turret Bravo, standby. Turret Charlie, standby. Turret Delta, standby., expected: {'target': 'grey drone', 'heading': '310', 'tool': 'surface-to-air missiles'}, but got: None\n"
     ]
    },
    {
     "name": "stderr",
     "output_type": "stream",
     "text": [
      " 25%|██▍       | 867/3500 [1:14:06<3:24:14,  4.65s/it]"
     ]
    },
    {
     "name": "stdout",
     "output_type": "stream",
     "text": [
      "For transcript: Fire EMP at red, black, and silver fighter jet heading one three zero., expected: {'target': 'red, black, and silver fighter jet', 'heading': '130', 'tool': 'EMP'}, but got: {'target': 'red, black, and silver fighter jet', 'heading': '130', 'tool': 'Fire EMP'}\n"
     ]
    },
    {
     "name": "stderr",
     "output_type": "stream",
     "text": [
      " 25%|██▌       | 876/3500 [1:14:48<3:24:28,  4.68s/it]"
     ]
    },
    {
     "name": "stdout",
     "output_type": "stream",
     "text": [
      "For transcript: Deploy anti-air artillery to intercept the orange and red drone heading three three zero., expected: {'target': 'orange and red drone', 'heading': '330', 'tool': 'anti-air artillery'}, but got: {'target': 'orange and red drone', 'heading': '030', 'tool': 'anti-air artillery'}\n"
     ]
    },
    {
     "name": "stderr",
     "output_type": "stream",
     "text": [
      " 25%|██▌       | 880/3500 [1:15:06<3:14:36,  4.46s/it]"
     ]
    },
    {
     "name": "stdout",
     "output_type": "stream",
     "text": [
      "For transcript: Engage target, grey fighter jet, with anti-air artillery. Head to heading two two five. Take aim and fire., expected: {'target': 'grey fighter jet', 'heading': '225', 'tool': 'anti-air artillery'}, but got: {'target': 'grey fighter jet', 'heading': '225'}\n"
     ]
    },
    {
     "name": "stderr",
     "output_type": "stream",
     "text": [
      " 26%|██▋       | 924/3500 [1:18:31<3:17:53,  4.61s/it]"
     ]
    },
    {
     "name": "stdout",
     "output_type": "stream",
     "text": [
      "For transcript: Alpha, Bravo, and Lima turrets, prepare to engage a blue, silver, and brown missile at heading zero four zero using machine gun fire., expected: {'target': 'blue, silver, and brown missile', 'heading': '040', 'tool': 'machine gun'}, but got: {'target': 'blue, silver, and brown missile', 'heading': '040', 'tool': 'machine gun fire'}\n"
     ]
    },
    {
     "name": "stderr",
     "output_type": "stream",
     "text": [
      " 28%|██▊       | 964/3500 [1:21:39<3:14:11,  4.59s/it]"
     ]
    },
    {
     "name": "stdout",
     "output_type": "stream",
     "text": [
      "For transcript: Air defense turret, adjust heading to three two zero. Engage orange and grey helicopter with EMP weapon. Target neutralized., expected: {'target': 'orange and grey helicopter', 'heading': '320', 'tool': 'EMP'}, but got: {'target': 'orange and grey helicopter', 'heading': '320', 'tool': 'EMP weapon'}\n"
     ]
    },
    {
     "name": "stderr",
     "output_type": "stream",
     "text": [
      " 28%|██▊       | 993/3500 [1:23:56<3:17:41,  4.73s/it]"
     ]
    },
    {
     "name": "stdout",
     "output_type": "stream",
     "text": [
      "For transcript: Fire EMP at grey and blue fighter jet heading one five zero., expected: {'target': 'grey and blue fighter jet', 'heading': '150', 'tool': 'EMP'}, but got: {'target': 'grey and blue fighter jet', 'heading': '150', 'tool': 'Fire EMP'}\n"
     ]
    },
    {
     "name": "stderr",
     "output_type": "stream",
     "text": [
      " 28%|██▊       | 997/3500 [1:24:35<7:28:31, 10.75s/it]"
     ]
    },
    {
     "name": "stdout",
     "output_type": "stream",
     "text": [
      "For transcript: Turrets Foxtrot and Golf, adjust heading to one four zero. Engage the white and green cargo aircraft with surface-to-air missiles. Standby for impact., expected: {'target': 'white and green cargo aircraft', 'heading': '140', 'tool': 'surface-to-air missiles'}, but got: {'target': 'white and green cargo aircraft', 'heading': '140', 'tool': 'surface-to0-air missiles'}\n"
     ]
    },
    {
     "name": "stderr",
     "output_type": "stream",
     "text": [
      " 29%|██▊       | 1005/3500 [1:25:13<3:30:35,  5.06s/it]"
     ]
    },
    {
     "name": "stdout",
     "output_type": "stream",
     "text": [
      "For transcript: Control to air defense turrets, prepare to engage target at heading one one five. Deploy surface-to-air missiles against a white and grey light aircraft. Take aim and fire at will., expected: {'target': 'white and grey light aircraft', 'heading': '115', 'tool': 'surface-to-air missiles'}, but got: {'target': 'white and grey light aircraft', 'heading': '115', 'tool': 'surface-to0-air missiles'}\n"
     ]
    },
    {
     "name": "stderr",
     "output_type": "stream",
     "text": [
      " 30%|██▉       | 1041/3500 [1:28:03<3:23:53,  4.97s/it]"
     ]
    },
    {
     "name": "stdout",
     "output_type": "stream",
     "text": [
      "For transcript: Turret Alpha, fire anti-air artillery at the white and purple fighter jet heading three zero zero. Turret Bravo, standby and be ready for further orders., expected: {'target': 'white and purple fighter jet', 'heading': '300', 'tool': 'anti-air artillery'}, but got: {'target': 'white and purple fighter jet', 'heading': '0300', 'tool': 'anti-air artillery'}\n"
     ]
    },
    {
     "name": "stderr",
     "output_type": "stream",
     "text": [
      " 30%|███       | 1053/3500 [1:29:28<8:40:22, 12.76s/it]"
     ]
    },
    {
     "name": "stdout",
     "output_type": "stream",
     "text": [
      "For transcript: Air defense turret, set heading to one three zero. Engage white and black commercial aircraft with surface-to-air missiles. Engage!, expected: {'target': 'white and black commercial aircraft', 'heading': '130', 'tool': 'surface-to-air missiles'}, but got: {'target': 'white and black commercial aircraft', 'heading': '130', 'tool': 'surface-to0-air missiles'}\n"
     ]
    },
    {
     "name": "stderr",
     "output_type": "stream",
     "text": [
      " 31%|███       | 1071/3500 [1:30:52<3:07:41,  4.64s/it]"
     ]
    },
    {
     "name": "stdout",
     "output_type": "stream",
     "text": [
      "For transcript: Control Tower to air defense turrets, suspicious black and grey helicopter heading zero four zero, deploy machine gun., expected: {'target': 'black and grey helicopter', 'heading': '040', 'tool': 'machine gun'}, but got: {'target': 'suspicious black and grey helicopter', 'heading': '040', 'tool': 'machine gun'}\n"
     ]
    },
    {
     "name": "stderr",
     "output_type": "stream",
     "text": [
      " 31%|███       | 1080/3500 [1:31:33<3:05:31,  4.60s/it]"
     ]
    },
    {
     "name": "stdout",
     "output_type": "stream",
     "text": [
      "For transcript: Control to air defense turrets, prepare to engage target. Heading three five zero, yellow fighter plane sighted. Deploy interceptor jets to intercept and neutralize threat. Over., expected: {'target': 'yellow fighter plane', 'heading': '350', 'tool': 'interceptor jets'}, but got: {'target': 'yellow fighter plane', 'heading': '0350', 'tool': 'interceptor jets'}\n"
     ]
    },
    {
     "name": "stderr",
     "output_type": "stream",
     "text": [
      " 31%|███       | 1086/3500 [1:32:11<5:15:07,  7.83s/it]"
     ]
    },
    {
     "name": "stdout",
     "output_type": "stream",
     "text": [
      "For transcript: Control broadcasting to all turrets, prepare to deploy surface-to-air missiles at heading two five zero. Engage the blue and yellow helicopter in sight. Over., expected: {'target': 'blue and yellow helicopter', 'heading': '250', 'tool': 'surface-to-air missiles'}, but got: {'target': 'blue and yellow helicopter', 'heading': '250', 'tool': 'surface-to0-air missiles'}\n"
     ]
    },
    {
     "name": "stderr",
     "output_type": "stream",
     "text": [
      " 31%|███       | 1090/3500 [1:32:32<3:54:20,  5.83s/it]"
     ]
    },
    {
     "name": "stdout",
     "output_type": "stream",
     "text": [
      "For transcript: Control to air defense turrets, prepare to deploy electromagnetic pulse. Heading three two five. Target identified as purple, silver, and red missile. Take aim and fire at will., expected: {'target': 'purple, silver, and red missile', 'heading': '325', 'tool': 'electromagnetic pulse'}, but got: {'target': 'purple, silver, and red missile', 'heading': '0325', 'tool': 'electromagnetic pulse'}\n"
     ]
    },
    {
     "name": "stderr",
     "output_type": "stream",
     "text": [
      " 31%|███▏      | 1101/3500 [1:33:23<3:07:41,  4.69s/it]"
     ]
    },
    {
     "name": "stdout",
     "output_type": "stream",
     "text": [
      "For transcript: Turret Foxtrot, heading zero niner zero, engage white, yellow, and orange light aircraft with machine gun fire., expected: {'target': 'white, yellow, and orange light aircraft', 'heading': '090', 'tool': 'machine gun'}, but got: {'target': 'white, yellow, and orange light aircraft', 'heading': '090', 'tool': 'machine gun fire'}\n"
     ]
    },
    {
     "name": "stderr",
     "output_type": "stream",
     "text": [
      " 32%|███▏      | 1118/3500 [1:35:00<6:40:17, 10.08s/it]"
     ]
    },
    {
     "name": "stdout",
     "output_type": "stream",
     "text": [
      "For transcript: Control tower to turrets, intercept at heading one two five, engage the silver and brown helicopter with surface-to-air missiles., expected: {'target': 'silver and brown helicopter', 'heading': '125', 'tool': 'surface-to-air missiles'}, but got: {'target': 'silver and brown helicopter', 'heading': '125', 'tool': 'surface-to0-air missiles'}\n"
     ]
    },
    {
     "name": "stderr",
     "output_type": "stream",
     "text": [
      " 33%|███▎      | 1151/3500 [1:37:32<3:02:17,  4.66s/it]"
     ]
    },
    {
     "name": "stdout",
     "output_type": "stream",
     "text": [
      "For transcript: Control to all air defense turrets, prepare to deploy interceptor jets. Target is a green and black fighter jet heading three three five. Launch interceptors immediately. Stay alert for any evasive maneuvers. Over., expected: {'target': 'green and black fighter jet', 'heading': '335', 'tool': 'interceptor jets'}, but got: {'target': 'green and black fighter jet', 'heading': '0335', 'tool': 'interceptor jets'}\n"
     ]
    },
    {
     "name": "stderr",
     "output_type": "stream",
     "text": [
      " 33%|███▎      | 1154/3500 [1:37:46<3:01:11,  4.63s/it]"
     ]
    },
    {
     "name": "stdout",
     "output_type": "stream",
     "text": [
      "For transcript: Control tower to interceptor jets, heading three three five, intercept and neutralize brown commercial aircraft in our airspace. Deploy immediately., expected: {'target': 'brown commercial aircraft', 'heading': '335', 'tool': 'interceptor jets'}, but got: {'target': 'brown commercial aircraft', 'heading': '0335', 'tool': 'interceptor jets'}\n"
     ]
    },
    {
     "name": "stderr",
     "output_type": "stream",
     "text": [
      " 33%|███▎      | 1157/3500 [1:38:01<3:05:42,  4.76s/it]"
     ]
    },
    {
     "name": "stdout",
     "output_type": "stream",
     "text": [
      "For transcript: Air defense turret, deploy interceptor jets at heading three three zero to intercept blue, red, and grey fighter planes., expected: {'target': 'blue, red, and grey fighter plane', 'heading': '330', 'tool': 'interceptor jets'}, but got: {'target': 'blue, red, and grey fighter planes', 'heading': '330', 'tool': 'interceptor jets'}\n"
     ]
    },
    {
     "name": "stderr",
     "output_type": "stream",
     "text": [
      " 33%|███▎      | 1160/3500 [1:38:25<5:04:33,  7.81s/it]"
     ]
    },
    {
     "name": "stdout",
     "output_type": "stream",
     "text": [
      "For transcript: Engage target at heading three three five. Fire surface-to-air missiles at red, white, and silver missile., expected: {'target': 'red, white, and silver missile', 'heading': '335', 'tool': 'surface-to-air missiles'}, but got: {'target': 'red, white, and silver missile', 'heading': '335', 'tool': 'surface-to0-air missiles'}\n"
     ]
    },
    {
     "name": "stderr",
     "output_type": "stream",
     "text": [
      " 33%|███▎      | 1166/3500 [1:38:54<3:16:38,  5.06s/it]"
     ]
    },
    {
     "name": "stdout",
     "output_type": "stream",
     "text": [
      "For transcript: Fire anti-air artillery at the white helicopter heading one seven zero., expected: {'target': 'white helicopter', 'heading': '170', 'tool': 'anti-air artillery'}, but got: {'target': 'white helicopter', 'heading': '170', 'tool': 'Fire anti-air artillery'}\n"
     ]
    },
    {
     "name": "stderr",
     "output_type": "stream",
     "text": [
      " 33%|███▎      | 1167/3500 [1:38:58<3:13:18,  4.97s/it]"
     ]
    },
    {
     "name": "stdout",
     "output_type": "stream",
     "text": [
      "For transcript: Turret Charlie, deploy electromagnetic pulse on the black, yellow, and brown drone heading three three five., expected: {'target': 'black, yellow, and brown drone', 'heading': '335', 'tool': 'electromagnetic pulse'}, but got: {'target': 'black, yellow, and brown drone', 'heading': '035', 'tool': 'electromagnetic pulse'}\n"
     ]
    },
    {
     "name": "stderr",
     "output_type": "stream",
     "text": [
      " 34%|███▎      | 1180/3500 [1:40:29<8:30:18, 13.20s/it]"
     ]
    },
    {
     "name": "stdout",
     "output_type": "stream",
     "text": [
      "For transcript: Prepare to engage target, green cargo aircraft, heading two two five. Deploying surface-to-air missiles. Engage when ready., expected: {'target': 'green cargo aircraft', 'heading': '225', 'tool': 'surface-to-air missiles'}, but got: {'target': 'green cargo aircraft', 'heading': '225', 'tool': 'surface-to0-air missiles'}\n"
     ]
    },
    {
     "name": "stderr",
     "output_type": "stream",
     "text": [
      " 35%|███▌      | 1238/3500 [1:45:16<2:57:58,  4.72s/it]"
     ]
    },
    {
     "name": "stdout",
     "output_type": "stream",
     "text": [
      "For transcript: Control to all turrets, I repeat, Control to all turrets. Deploy anti-air artillery towards heading three zero five. Target is green, red, and purple missile. I need immediate response, over., expected: {'target': 'green, red, and purple missile', 'heading': '305', 'tool': 'anti-air artillery'}, but got: {'target': 'green, red, and purple missile', 'heading': '0305', 'tool': 'anti-air artillery'}\n"
     ]
    },
    {
     "name": "stderr",
     "output_type": "stream",
     "text": [
      " 36%|███▌      | 1251/3500 [1:46:17<2:54:35,  4.66s/it]"
     ]
    },
    {
     "name": "stdout",
     "output_type": "stream",
     "text": [
      "For transcript: Fire EMP at brown and black missile on heading zero five zero., expected: {'target': 'brown and black missile', 'heading': '050', 'tool': 'EMP'}, but got: {'target': 'brown and black missile', 'heading': '050', 'tool': 'Fire EMP'}\n"
     ]
    },
    {
     "name": "stderr",
     "output_type": "stream",
     "text": [
      " 36%|███▋      | 1277/3500 [1:48:16<2:42:53,  4.40s/it]"
     ]
    },
    {
     "name": "stdout",
     "output_type": "stream",
     "text": [
      "Error parsing JSON string: \n",
      "For transcript: Turret Alfa, prepare to deploy anti-air artillery on the red drone at heading zero eight five. Execute this strike immediately., expected: {'target': 'red drone', 'heading': '085', 'tool': 'anti-air artillery'}, but got: None\n"
     ]
    },
    {
     "name": "stderr",
     "output_type": "stream",
     "text": [
      " 37%|███▋      | 1278/3500 [1:48:49<7:53:15, 12.78s/it]"
     ]
    },
    {
     "name": "stdout",
     "output_type": "stream",
     "text": [
      "For transcript: Air defense turret, tune heading to zero niner zero. Engage surface-to-air missiles on white, blue, and brown fighter plane. Expunge the threat swiftly and efficiently., expected: {'target': 'white, blue, and brown fighter plane', 'heading': '090', 'tool': 'surface-to-air missiles'}, but got: {'target': 'white, blue, and brown fighter plane', 'heading': '090', 'tool': 'surface-to0-air missiles'}\n"
     ]
    },
    {
     "name": "stderr",
     "output_type": "stream",
     "text": [
      " 37%|███▋      | 1305/3500 [1:50:56<2:53:33,  4.74s/it]"
     ]
    },
    {
     "name": "stdout",
     "output_type": "stream",
     "text": [
      "For transcript: Control to interceptor jets, heading one niner zero. Engage the orange, red, and grey commercial aircraft. Good hunting., expected: {'target': 'orange, red, and grey commercial aircraft', 'heading': '190', 'tool': 'interceptor jets'}, but got: {'target': 'orange, red, and grey commercial aircraft', 'heading': '190', 'tool': 'Interceptor jets'}\n"
     ]
    },
    {
     "name": "stderr",
     "output_type": "stream",
     "text": [
      " 38%|███▊      | 1313/3500 [1:52:00<7:50:02, 12.90s/it]"
     ]
    },
    {
     "name": "stdout",
     "output_type": "stream",
     "text": [
      "For transcript: Control Tower to air defense turrets, target the red, white, and green commercial aircraft heading two niner five. Deploy surface-to-air missiles., expected: {'target': 'red, white, and green commercial aircraft', 'heading': '295', 'tool': 'surface-to-air missiles'}, but got: {'target': 'red, white, and green commercial aircraft', 'heading': '295', 'tool': 'surface-to0-air missiles'}\n"
     ]
    },
    {
     "name": "stderr",
     "output_type": "stream",
     "text": [
      " 38%|███▊      | 1317/3500 [1:52:18<3:58:16,  6.55s/it]"
     ]
    },
    {
     "name": "stdout",
     "output_type": "stream",
     "text": [
      "Error parsing JSON string: \n",
      "For transcript: Engage surface-to-air missiles towards a green missile at heading one four five. Launch now. Target locked., expected: {'target': 'green missile', 'heading': '145', 'tool': 'surface-to-air missiles'}, but got: None\n"
     ]
    },
    {
     "name": "stderr",
     "output_type": "stream",
     "text": [
      " 38%|███▊      | 1331/3500 [1:53:24<2:45:29,  4.58s/it]"
     ]
    },
    {
     "name": "stdout",
     "output_type": "stream",
     "text": [
      "For transcript: Turret Bravo, engage black helicopter at heading two seven zero with machine gun fire., expected: {'target': 'black helicopter', 'heading': '270', 'tool': 'machine gun'}, but got: {'target': 'black helicopter', 'heading': '270', 'tool': 'machine gun fire'}\n"
     ]
    },
    {
     "name": "stderr",
     "output_type": "stream",
     "text": [
      " 39%|███▊      | 1350/3500 [1:54:51<2:42:34,  4.54s/it]"
     ]
    },
    {
     "name": "stdout",
     "output_type": "stream",
     "text": [
      "For transcript: Interceptor jets, scramble to heading zero eight zero, engage the green, grey, and red cargo aircraft., expected: {'target': 'green, grey, and red cargo aircraft', 'heading': '080', 'tool': 'interceptor jets'}, but got: {'target': 'green, grey, and red cargo aircraft', 'heading': '080', 'tool': 'Interceptor jets'}\n"
     ]
    },
    {
     "name": "stderr",
     "output_type": "stream",
     "text": [
      " 39%|███▊      | 1356/3500 [1:55:19<2:43:57,  4.59s/it]"
     ]
    },
    {
     "name": "stdout",
     "output_type": "stream",
     "text": [
      "For transcript: Control here. Deploy the machine gun turret to heading zero six zero. Target the orange, blue, and brown fighter plane. Engage at will. Over., expected: {'target': 'orange, blue, and brown fighter plane', 'heading': '060', 'tool': 'machine gun'}, but got: {'target': 'orange, blue, and brown fighter plane', 'heading': '060', 'tool': 'machine gun turret'}\n"
     ]
    },
    {
     "name": "stderr",
     "output_type": "stream",
     "text": [
      " 39%|███▉      | 1362/3500 [1:55:46<2:39:27,  4.48s/it]"
     ]
    },
    {
     "name": "stdout",
     "output_type": "stream",
     "text": [
      "For transcript: Engage, yellow and black camouflage missile, with anti-air artillery. Heading three zero five., expected: {'target': 'yellow and black camouflage missile', 'heading': '305', 'tool': 'anti-air artillery'}, but got: {'target': 'yellow and black camouflage missile', 'heading': '0305'}\n"
     ]
    },
    {
     "name": "stderr",
     "output_type": "stream",
     "text": [
      " 39%|███▉      | 1368/3500 [1:56:19<2:49:10,  4.76s/it]"
     ]
    },
    {
     "name": "stdout",
     "output_type": "stream",
     "text": [
      "Error parsing JSON string: \n",
      "For transcript: Engage target, blue, white, and yellow helicopter, heading zero five zero, with machine gun. Target locked. Fire at will., expected: {'target': 'blue, white, and yellow helicopter', 'heading': '050', 'tool': 'machine gun'}, but got: None\n"
     ]
    },
    {
     "name": "stderr",
     "output_type": "stream",
     "text": [
      " 39%|███▉      | 1370/3500 [1:56:29<2:50:10,  4.79s/it]"
     ]
    },
    {
     "name": "stdout",
     "output_type": "stream",
     "text": [
      "For transcript: Control here, deploy the machine gun turret to heading two six five and engage the silver, red, and grey fighter jet. Get ready to unleash a barrage of bullets on the target. Let's show them our firepower., expected: {'target': 'silver, red, and grey fighter jet', 'heading': '265', 'tool': 'machine gun'}, but got: {'target': 'silver, red, and grey fighter jet', 'heading': '265', 'tool': 'machine gun turret'}\n"
     ]
    },
    {
     "name": "stderr",
     "output_type": "stream",
     "text": [
      " 40%|████      | 1412/3500 [1:59:44<2:39:44,  4.59s/it]"
     ]
    },
    {
     "name": "stdout",
     "output_type": "stream",
     "text": [
      "For transcript: Control to interceptor jets, proceed to heading two seven zero. Engage the grey commercial aircraft at that location. Over., expected: {'target': 'grey commercial aircraft', 'heading': '270', 'tool': 'interceptor jets'}, but got: {'target': 'grey commercial aircraft', 'heading': '270', 'tool': 'Interceptor jets'}\n"
     ]
    },
    {
     "name": "stderr",
     "output_type": "stream",
     "text": [
      " 41%|████      | 1418/3500 [2:00:11<2:39:47,  4.60s/it]"
     ]
    },
    {
     "name": "stdout",
     "output_type": "stream",
     "text": [
      "For transcript: Control to air defense turrets, surface-to-air missiles authorized for deployment. Heading three one zero. Engage target, purple fighter plane. Over., expected: {'target': 'purple fighter plane', 'heading': '310', 'tool': 'surface-to-air missiles'}, but got: {'target': 'purple fighter plane', 'heading': '0310', 'tool': 'surface-to-air missiles'}\n"
     ]
    },
    {
     "name": "stderr",
     "output_type": "stream",
     "text": [
      " 41%|████      | 1419/3500 [2:00:16<2:39:36,  4.60s/it]"
     ]
    },
    {
     "name": "stdout",
     "output_type": "stream",
     "text": [
      "For transcript: Turrets Alpha, Bravo, and Charlie, deploy machine guns, heading two zero five, target the red, orange, and purple missile., expected: {'target': 'red, orange, and purple missile', 'heading': '205', 'tool': 'machine gun'}, but got: {'target': 'red, orange, and purple missile', 'heading': '205', 'tool': 'machine guns'}\n"
     ]
    },
    {
     "name": "stderr",
     "output_type": "stream",
     "text": [
      " 41%|████      | 1436/3500 [2:01:47<4:51:32,  8.48s/it]"
     ]
    },
    {
     "name": "stdout",
     "output_type": "stream",
     "text": [
      "For transcript: Set the machine gun turrets to heading zero eight five, engage the grey and red light aircraft., expected: {'target': 'grey and red light aircraft', 'heading': '085', 'tool': 'machine gun'}, but got: {'target': 'grey and red light aircraft', 'heading': '085', 'tool': 'machine gun turrets'}\n"
     ]
    },
    {
     "name": "stderr",
     "output_type": "stream",
     "text": [
      " 41%|████      | 1439/3500 [2:02:04<3:44:18,  6.53s/it]"
     ]
    },
    {
     "name": "stdout",
     "output_type": "stream",
     "text": [
      "For transcript: Engage purple, grey, and blue commercial aircraft, heading three three five, deploy surface-to-air missiles., expected: {'target': 'purple, grey, and blue commercial aircraft', 'heading': '335', 'tool': 'surface-to-air missiles'}, but got: {'target': 'purple, grey, and blue commercial aircraft', 'heading': '0335', 'tool': 'surface-to-air missiles'}\n"
     ]
    },
    {
     "name": "stderr",
     "output_type": "stream",
     "text": [
      " 42%|████▏     | 1461/3500 [2:03:46<2:35:02,  4.56s/it]"
     ]
    },
    {
     "name": "stdout",
     "output_type": "stream",
     "text": [
      "For transcript: Control here, deploy EMP turret with a heading of zero five zero to engage the green, blue, and red light aircraft. Targeting now., expected: {'target': 'green, blue, and red light aircraft', 'heading': '050', 'tool': 'EMP'}, but got: {'target': 'green, blue, and red light aircraft', 'heading': '050', 'tool': 'EMP turret'}\n"
     ]
    },
    {
     "name": "stderr",
     "output_type": "stream",
     "text": [
      " 42%|████▏     | 1473/3500 [2:04:47<3:01:02,  5.36s/it]"
     ]
    },
    {
     "name": "stdout",
     "output_type": "stream",
     "text": [
      "For transcript: Turret Tango, deploy interceptor jets to intercept the red commercial aircraft heading three zero five. Take them down., expected: {'target': 'red commercial aircraft', 'heading': '305', 'tool': 'interceptor jets'}, but got: {'target': 'red commercial aircraft', 'heading': '0305', 'tool': 'interceptor jets'}\n"
     ]
    },
    {
     "name": "stderr",
     "output_type": "stream",
     "text": [
      " 42%|████▏     | 1475/3500 [2:04:56<2:46:14,  4.93s/it]"
     ]
    },
    {
     "name": "stdout",
     "output_type": "stream",
     "text": [
      "For transcript: Control to turrets, deploy EMP tool on heading three five five, targeting black commercial aircraft. Engage and neutralize the threat. Over., expected: {'target': 'black commercial aircraft', 'heading': '355', 'tool': 'EMP'}, but got: {'target': 'black commercial aircraft', 'heading': '0355', 'tool': 'EMP'}\n"
     ]
    },
    {
     "name": "stderr",
     "output_type": "stream",
     "text": [
      " 42%|████▏     | 1480/3500 [2:05:20<2:39:07,  4.73s/it]"
     ]
    },
    {
     "name": "stdout",
     "output_type": "stream",
     "text": [
      "For transcript: Control here, scramble interceptor jets. Head to heading three zero zero. Engage yellow commercial aircraft. Over., expected: {'target': 'yellow commercial aircraft', 'heading': '300', 'tool': 'interceptor jets'}, but got: {'target': 'yellow commercial aircraft', 'heading': '0300', 'tool': 'scramble interceptor jets'}\n"
     ]
    },
    {
     "name": "stderr",
     "output_type": "stream",
     "text": [
      " 42%|████▏     | 1487/3500 [2:05:52<2:34:48,  4.61s/it]"
     ]
    },
    {
     "name": "stdout",
     "output_type": "stream",
     "text": [
      "For transcript: Navigating to three two zero. Engage the black, white, and yellow helicopter with the machine gun., expected: {'target': 'black, white, and yellow helicopter', 'heading': '320', 'tool': 'machine gun'}, but got: {'target': 'black, white, and yellow helicopter', 'heading': '032', 'tool': 'machine gun'}\n"
     ]
    },
    {
     "name": "stderr",
     "output_type": "stream",
     "text": [
      " 43%|████▎     | 1497/3500 [2:06:39<2:32:37,  4.57s/it]"
     ]
    },
    {
     "name": "stdout",
     "output_type": "stream",
     "text": [
      "For transcript: Control here, deploy machine gun turret to heading two seven zero, engage the red light aircraft. Over., expected: {'target': 'red light aircraft', 'heading': '270', 'tool': 'machine gun'}, but got: {'target': 'red light aircraft', 'heading': '270', 'tool': 'machine gun turret'}\n"
     ]
    },
    {
     "name": "stderr",
     "output_type": "stream",
     "text": [
      " 43%|████▎     | 1511/3500 [2:07:44<2:33:49,  4.64s/it]"
     ]
    },
    {
     "name": "stdout",
     "output_type": "stream",
     "text": [
      "For transcript: Control tower to air defense turrets, intercept purple missile heading two four zero. Deploy surface-to-air missiles. Engage target. Stand by for further instructions., expected: {'target': 'purple missile', 'heading': '240', 'tool': 'surface-to-air missiles'}, but got: {'target': 'purple missile', 'heading': '240', 'tool': 'surface-to0-air missiles'}\n"
     ]
    },
    {
     "name": "stderr",
     "output_type": "stream",
     "text": [
      " 43%|████▎     | 1512/3500 [2:07:49<2:35:48,  4.70s/it]"
     ]
    },
    {
     "name": "stdout",
     "output_type": "stream",
     "text": [
      "For transcript: Turret Alpha, track and engage the yellow and white drone at heading one three zero with surface-to-air missiles. Turret Bravo, standby for further orders., expected: {'target': 'yellow and white drone', 'heading': '130', 'tool': 'surface-to-air missiles'}, but got: {'target': 'yellow and white drone', 'heading': '130', 'tool': 'surface-to0-air missiles'}\n"
     ]
    },
    {
     "name": "stderr",
     "output_type": "stream",
     "text": [
      " 43%|████▎     | 1515/3500 [2:08:02<2:27:10,  4.45s/it]"
     ]
    },
    {
     "name": "stdout",
     "output_type": "stream",
     "text": [
      "Error parsing JSON string: \n",
      "For transcript: Turret Alpha, heading zero two zero, deploy interceptor jets to engage the purple cargo aircraft. Repeat, turret Alpha, engage the purple cargo aircraft with interceptor jets., expected: {'target': 'purple cargo aircraft', 'heading': '020', 'tool': 'interceptor jets'}, but got: None\n"
     ]
    },
    {
     "name": "stderr",
     "output_type": "stream",
     "text": [
      " 45%|████▍     | 1564/3500 [2:11:54<3:30:03,  6.51s/it]"
     ]
    },
    {
     "name": "stdout",
     "output_type": "stream",
     "text": [
      "For transcript: Target grey camouflage helicopter at heading two five five, deploy electromagnetic pulse., expected: {'target': 'grey camouflage helicopter', 'heading': '255', 'tool': 'electromagnetic pulse'}, but got: {'target': 'grey camou0flage helicopter', 'heading': '255', 'tool': 'electromagnetic pulse'}\n"
     ]
    },
    {
     "name": "stderr",
     "output_type": "stream",
     "text": [
      " 45%|████▌     | 1580/3500 [2:13:10<2:27:43,  4.62s/it]"
     ]
    },
    {
     "name": "stdout",
     "output_type": "stream",
     "text": [
      "For transcript: Control to all turrets, heading three three five, deploy EMP on target silver cargo aircraft. Take aim and fire at will. Over., expected: {'target': 'silver cargo aircraft', 'heading': '335', 'tool': 'EMP'}, but got: {'target': 'silver cargo aircraft', 'heading': '0335', 'tool': 'EMP'}\n"
     ]
    },
    {
     "name": "stderr",
     "output_type": "stream",
     "text": [
      " 45%|████▌     | 1582/3500 [2:13:41<5:49:24, 10.93s/it]"
     ]
    },
    {
     "name": "stdout",
     "output_type": "stream",
     "text": [
      "For transcript: Control tower to interceptor jets, scramble immediately. Track and intercept silver, orange, and green fighter jet heading one one five. Engage and neutralize the target. Repeat, scramble immediately., expected: {'target': 'silver, orange, and green fighter jet', 'heading': '115', 'tool': 'interceptor jets'}, but got: {'target': 'silver, orange, and green fighter jet', 'heading': '115', 'tool': 'scramble interceptor jets'}\n"
     ]
    },
    {
     "name": "stderr",
     "output_type": "stream",
     "text": [
      " 45%|████▌     | 1586/3500 [2:13:59<3:12:59,  6.05s/it]"
     ]
    },
    {
     "name": "stdout",
     "output_type": "stream",
     "text": [
      "For transcript: Turret Alpha, lock onto target Red Fighter Jet heading three six zero. Deploy Interceptor Jets now., expected: {'target': 'red fighter jet', 'heading': '360', 'tool': 'interceptor jets'}, but got: {'target': 'Red Fighter Jet', 'heading': '360', 'tool': 'Interceptor Jets'}\n"
     ]
    },
    {
     "name": "stderr",
     "output_type": "stream",
     "text": [
      " 46%|████▌     | 1596/3500 [2:14:44<2:24:43,  4.56s/it]"
     ]
    },
    {
     "name": "stdout",
     "output_type": "stream",
     "text": [
      "For transcript: Turret Bravo, deploy anti-air artillery at heading zero seven five to engage target Purple Missile., expected: {'target': 'purple missile', 'heading': '075', 'tool': 'anti-air artillery'}, but got: {'target': 'Purple Missile', 'heading': '075', 'tool': 'anti-air artillery'}\n"
     ]
    },
    {
     "name": "stderr",
     "output_type": "stream",
     "text": [
      " 46%|████▌     | 1606/3500 [2:15:29<2:21:20,  4.48s/it]"
     ]
    },
    {
     "name": "stdout",
     "output_type": "stream",
     "text": [
      "Error parsing JSON string: \n",
      "For transcript: Control here. Engage the white, brown, and yellow light aircraft heading one four zero using the machine gun. Fire at will. Over., expected: {'target': 'white, brown, and yellow light aircraft', 'heading': '140', 'tool': 'machine gun'}, but got: None\n"
     ]
    },
    {
     "name": "stderr",
     "output_type": "stream",
     "text": [
      " 47%|████▋     | 1631/3500 [2:17:25<2:17:58,  4.43s/it]"
     ]
    },
    {
     "name": "stdout",
     "output_type": "stream",
     "text": [
      "Error parsing JSON string: \n",
      "For transcript: Engage the target comprised of a silver, grey, and orange commercial aircraft using anti-air artillery. Head to heading one zero zero., expected: {'target': 'silver, grey, and orange commercial aircraft', 'heading': '100', 'tool': 'anti-air artillery'}, but got: None\n"
     ]
    },
    {
     "name": "stderr",
     "output_type": "stream",
     "text": [
      " 47%|████▋     | 1652/3500 [2:19:23<5:32:18, 10.79s/it]"
     ]
    },
    {
     "name": "stdout",
     "output_type": "stream",
     "text": [
      "For transcript: Control here. Surface-to-air missiles, prepare to engage target, purple and black commercial aircraft, at heading one three zero. Take aim and fire on my command., expected: {'target': 'purple and black commercial aircraft', 'heading': '130', 'tool': 'surface-to-air missiles'}, but got: {'target': 'purple and black commercial aircraft', 'heading': '130', 'tool': 'surface-to0-air missiles'}\n"
     ]
    },
    {
     "name": "stderr",
     "output_type": "stream",
     "text": [
      " 48%|████▊     | 1669/3500 [2:20:42<2:20:47,  4.61s/it]"
     ]
    },
    {
     "name": "stdout",
     "output_type": "stream",
     "text": [
      "For transcript: Turret Bravo, engage black and purple missile at heading three six zero with machine gun fire., expected: {'target': 'black and purple missile', 'heading': '360', 'tool': 'machine gun'}, but got: {'target': 'black and purple missile', 'heading': '360', 'tool': 'machine gun fire'}\n"
     ]
    },
    {
     "name": "stderr",
     "output_type": "stream",
     "text": [
      " 48%|████▊     | 1676/3500 [2:21:16<2:23:05,  4.71s/it]"
     ]
    },
    {
     "name": "stdout",
     "output_type": "stream",
     "text": [
      "For transcript: Control to air defense turrets, deploy surface-to-air missiles on the green missile target at heading one six zero. Engage and destroy the target. Over., expected: {'target': 'green missile', 'heading': '160', 'tool': 'surface-to-air missiles'}, but got: {'target': 'green missile target', 'heading': '160', 'tool': 'surface-to-air missiles'}\n"
     ]
    },
    {
     "name": "stderr",
     "output_type": "stream",
     "text": [
      " 48%|████▊     | 1681/3500 [2:22:07<6:33:33, 12.98s/it]"
     ]
    },
    {
     "name": "stdout",
     "output_type": "stream",
     "text": [
      "For transcript: Control tower to air defense turrets, red and grey fighter plane spotted heading three zero five, deploy surface-to-air missiles!, expected: {'target': 'red and grey fighter plane', 'heading': '305', 'tool': 'surface-to-air missiles'}, but got: {'target': 'red and grey fighter plane', 'heading': '0305', 'tool': 'surface-to0-air missiles'}\n"
     ]
    },
    {
     "name": "stderr",
     "output_type": "stream",
     "text": [
      " 48%|████▊     | 1693/3500 [2:23:05<2:25:42,  4.84s/it]"
     ]
    },
    {
     "name": "stdout",
     "output_type": "stream",
     "text": [
      "For transcript: Fire anti-air artillery at the blue and purple cargo aircraft flying on heading three one zero., expected: {'target': 'blue and purple cargo aircraft', 'heading': '310', 'tool': 'anti-air artillery'}, but got: {'target': 'blue and purple cargo aircraft', 'heading': '310', 'tool': 'Fire anti-air artillery'}\n"
     ]
    },
    {
     "name": "stderr",
     "output_type": "stream",
     "text": [
      " 49%|████▉     | 1721/3500 [2:25:42<6:19:27, 12.80s/it]"
     ]
    },
    {
     "name": "stdout",
     "output_type": "stream",
     "text": [
      "For transcript: Air defense turret, target is black, silver, and red commercial aircraft heading three four zero. Deploy surface-to-air missiles now. Lock on and engage., expected: {'target': 'black, silver, and red commercial aircraft', 'heading': '340', 'tool': 'surface-to-air missiles'}, but got: {'target': 'black, silver, and red commercial aircraft', 'heading': '340', 'tool': 'surface-to0-air missiles'}\n"
     ]
    },
    {
     "name": "stderr",
     "output_type": "stream",
     "text": [
      " 50%|█████     | 1752/3500 [2:28:14<2:20:31,  4.82s/it]"
     ]
    },
    {
     "name": "stdout",
     "output_type": "stream",
     "text": [
      "For transcript: Control tower to interceptors, heading one three five. Grey, blue, and white fighter jet spotted in our airspace. Deploy interceptor jets immediately. Repeat, deploy interceptor jets., expected: {'target': 'grey, blue, and white fighter jet', 'heading': '135', 'tool': 'interceptor jets'}, but got: {'target': 'Grey, blue, and white fighter jet', 'heading': '135', 'tool': 'Interceptor jets'}\n"
     ]
    },
    {
     "name": "stderr",
     "output_type": "stream",
     "text": [
      " 50%|█████     | 1761/3500 [2:28:55<2:12:21,  4.57s/it]"
     ]
    },
    {
     "name": "stdout",
     "output_type": "stream",
     "text": [
      "For transcript: Control tower to turrets, target is a black commercial aircraft heading three zero five, deploy anti-air artillery., expected: {'target': 'black commercial aircraft', 'heading': '305', 'tool': 'anti-air artillery'}, but got: {'target': 'black commercial aircraft', 'heading': '0305', 'tool': 'anti-air artillery'}\n"
     ]
    },
    {
     "name": "stderr",
     "output_type": "stream",
     "text": [
      " 51%|█████     | 1778/3500 [2:30:28<4:19:32,  9.04s/it]"
     ]
    },
    {
     "name": "stdout",
     "output_type": "stream",
     "text": [
      "For transcript: Control tower to air defense turrets, target three five zero, orange, purple, and red drone, deploy surface-to-air missiles., expected: {'target': 'orange, purple, and red drone', 'heading': '350', 'tool': 'surface-to-air missiles'}, but got: {'target': 'orange, purple, and red drone', 'heading': '035', 'tool': 'surface-to0-air missiles'}\n"
     ]
    },
    {
     "name": "stderr",
     "output_type": "stream",
     "text": [
      " 51%|█████     | 1781/3500 [2:30:43<2:58:40,  6.24s/it]"
     ]
    },
    {
     "name": "stdout",
     "output_type": "stream",
     "text": [
      "For transcript: Surface-to-air missiles, prepare to engage target at heading one zero zero. Orange and black commercial aircraft identified as hostile. Fire at will., expected: {'target': 'orange and black commercial aircraft', 'heading': '100', 'tool': 'surface-to-air missiles'}, but got: {'target': 'Orange and black commercial aircraft', 'heading': '100', 'tool': 'Surface-to-air missiles'}\n"
     ]
    },
    {
     "name": "stderr",
     "output_type": "stream",
     "text": [
      " 51%|█████     | 1784/3500 [2:30:57<2:28:25,  5.19s/it]"
     ]
    },
    {
     "name": "stdout",
     "output_type": "stream",
     "text": [
      "For transcript: Fire anti-air artillery at the black drone heading zero four five., expected: {'target': 'black drone', 'heading': '045', 'tool': 'anti-air artillery'}, but got: {'target': 'black drone', 'heading': '045', 'tool': 'Fire anti-air artillery'}\n"
     ]
    },
    {
     "name": "stderr",
     "output_type": "stream",
     "text": [
      " 51%|█████     | 1788/3500 [2:31:15<2:16:52,  4.80s/it]"
     ]
    },
    {
     "name": "stdout",
     "output_type": "stream",
     "text": [
      "For transcript: Control commands turret to align azimuth three six zero, prep anti-air artillery and intercept orange camouflage helicopter. Target locked. Stand by for clearance to engage., expected: {'target': 'orange camouflage helicopter', 'heading': '360', 'tool': 'anti-air artillery'}, but got: {'target': 'orange camouflage helicopter', 'heading': '0360', 'tool': 'anti-air artillery'}\n"
     ]
    },
    {
     "name": "stderr",
     "output_type": "stream",
     "text": [
      " 54%|█████▎    | 1875/3500 [2:38:02<2:02:30,  4.52s/it]"
     ]
    },
    {
     "name": "stdout",
     "output_type": "stream",
     "text": [
      "For transcript: Control tower to air defense turrets, deploy machine gun, heading three three five, engage grey light aircraft., expected: {'target': 'grey light aircraft', 'heading': '335', 'tool': 'machine gun'}, but got: {'target': 'grey light aircraft', 'heading': '0335', 'tool': 'machine gun'}\n"
     ]
    },
    {
     "name": "stderr",
     "output_type": "stream",
     "text": [
      " 54%|█████▎    | 1878/3500 [2:38:16<2:00:48,  4.47s/it]"
     ]
    },
    {
     "name": "stdout",
     "output_type": "stream",
     "text": [
      "For transcript: Turrets, engage hostile target at heading two seven zero, orange missile, deploy machine gun, repeat, engage at heading two seven zero., expected: {'target': 'orange missile', 'heading': '270', 'tool': 'machine gun'}, but got: {'target': 'hostile target', 'heading': '270', 'tool': 'machine gun'}\n"
     ]
    },
    {
     "name": "stderr",
     "output_type": "stream",
     "text": [
      " 54%|█████▍    | 1894/3500 [2:39:31<2:01:24,  4.54s/it]"
     ]
    },
    {
     "name": "stdout",
     "output_type": "stream",
     "text": [
      "Error parsing JSON string: \n",
      "For transcript: Set target coordinates to three two five, engage yellow and black drone with anti-air artillery. Target in range, commence fire., expected: {'target': 'yellow and black drone', 'heading': '325', 'tool': 'anti-air artillery'}, but got: None\n"
     ]
    },
    {
     "name": "stderr",
     "output_type": "stream",
     "text": [
      " 55%|█████▍    | 1909/3500 [2:40:48<2:02:21,  4.61s/it]"
     ]
    },
    {
     "name": "stdout",
     "output_type": "stream",
     "text": [
      "Error parsing JSON string: \n",
      "For transcript: Control here. Deploy interceptor jets. Engage the red, white, and orange fighter plane at heading three one zero. Over., expected: {'target': 'red, white, and orange fighter plane', 'heading': '310', 'tool': 'interceptor jets'}, but got: None\n"
     ]
    },
    {
     "name": "stderr",
     "output_type": "stream",
     "text": [
      " 55%|█████▍    | 1911/3500 [2:40:58<2:04:03,  4.68s/it]"
     ]
    },
    {
     "name": "stdout",
     "output_type": "stream",
     "text": [
      "For transcript: Control here. Deploy the EMP tool on a heading of three four zero. Engage the red, blue, and white missile target. Over., expected: {'target': 'red, blue, and white missile', 'heading': '340', 'tool': 'EMP'}, but got: {'target': 'red, blue, and white missile target', 'heading': '340', 'tool': 'EMP'}\n"
     ]
    },
    {
     "name": "stderr",
     "output_type": "stream",
     "text": [
      " 55%|█████▌    | 1930/3500 [2:42:39<2:32:49,  5.84s/it]"
     ]
    },
    {
     "name": "stdout",
     "output_type": "stream",
     "text": [
      "For transcript: Turret Charlie, lock onto the silver fighter plane at heading one five zero. Deploy surface-to-air missiles. Fire at will., expected: {'target': 'silver fighter plane', 'heading': '150', 'tool': 'surface-to-air missiles'}, but got: {'target': 'silver fighter plane', 'heading': '150', 'tool': 'surface-to0-air missiles'}\n"
     ]
    },
    {
     "name": "stderr",
     "output_type": "stream",
     "text": [
      " 56%|█████▌    | 1959/3500 [2:44:58<2:36:08,  6.08s/it]"
     ]
    },
    {
     "name": "stdout",
     "output_type": "stream",
     "text": [
      "For transcript: Control Tower to air defense turrets, prepare to engage, heading three zero zero, target yellow commercial aircraft, deploy surface-to-air missiles., expected: {'target': 'yellow commercial aircraft', 'heading': '300', 'tool': 'surface-to-air missiles'}, but got: {'target': 'yellow commercial aircraft', 'heading': '0300', 'tool': 'surface-to0-air missiles'}\n"
     ]
    },
    {
     "name": "stderr",
     "output_type": "stream",
     "text": [
      " 56%|█████▋    | 1974/3500 [2:46:18<3:20:59,  7.90s/it]"
     ]
    },
    {
     "name": "stdout",
     "output_type": "stream",
     "text": [
      "For transcript: Air defense turret, reposition to heading two two zero. Engage target, green helicopter, using surface-to-air missiles. Stand by for authorization to fire., expected: {'target': 'green helicopter', 'heading': '220', 'tool': 'surface-to-air missiles'}, but got: {'target': 'green helicopter', 'heading': '220', 'tool': 'surface-to0-air missiles'}\n"
     ]
    },
    {
     "name": "stderr",
     "output_type": "stream",
     "text": [
      " 57%|█████▋    | 1994/3500 [2:47:52<1:59:01,  4.74s/it]"
     ]
    },
    {
     "name": "stdout",
     "output_type": "stream",
     "text": [
      "For transcript: Control to air defense turrets, prepare to engage a yellow and purple commercial aircraft on heading two two zero. Deploy surface-to-air missiles and lock on target. Fire at will once in range. Over., expected: {'target': 'yellow and purple commercial aircraft', 'heading': '220', 'tool': 'surface-to-air missiles'}, but got: {'target': 'yellow and purple commercial aircraft', 'heading': '220', 'tool': 'surface-to0-air missiles'}\n"
     ]
    },
    {
     "name": "stderr",
     "output_type": "stream",
     "text": [
      " 57%|█████▋    | 1998/3500 [2:48:39<5:28:20, 13.12s/it]"
     ]
    },
    {
     "name": "stdout",
     "output_type": "stream",
     "text": [
      "For transcript: Control to air defense turrets, we have a white light aircraft at heading three four five. Deploy surface-to-air missiles immediately. Over., expected: {'target': 'white light aircraft', 'heading': '345', 'tool': 'surface-to-air missiles'}, but got: {'target': 'white light aircraft', 'heading': '345', 'tool': 'surface-to0-air missiles'}\n"
     ]
    },
    {
     "name": "stderr",
     "output_type": "stream",
     "text": [
      " 57%|█████▋    | 1999/3500 [2:48:44<4:26:11, 10.64s/it]"
     ]
    },
    {
     "name": "stdout",
     "output_type": "stream",
     "text": [
      "For transcript: Control tower to air defense turrets, deploy surface-to-air missiles. Target is white and purple commercial aircraft heading three zero five., expected: {'target': 'white and purple commercial aircraft', 'heading': '305', 'tool': 'surface-to-air missiles'}, but got: {'target': 'white and purple commercial aircraft', 'heading': '0305', 'tool': 'surface-to-air missiles'}\n"
     ]
    },
    {
     "name": "stderr",
     "output_type": "stream",
     "text": [
      " 57%|█████▋    | 2005/3500 [2:49:11<2:12:24,  5.31s/it]"
     ]
    },
    {
     "name": "stdout",
     "output_type": "stream",
     "text": [
      "For transcript: Control tower to interceptor jets, scramble immediately. We have a blue, black, and silver cargo aircraft on heading three zero five. Engage and intercept the target. Over., expected: {'target': 'blue, black, and silver cargo aircraft', 'heading': '305', 'tool': 'interceptor jets'}, but got: {'target': 'blue, black, and silver cargo aircraft', 'heading': '305', 'tool': 'intercept'}\n"
     ]
    },
    {
     "name": "stderr",
     "output_type": "stream",
     "text": [
      " 57%|█████▋    | 2009/3500 [2:49:30<1:58:58,  4.79s/it]"
     ]
    },
    {
     "name": "stdout",
     "output_type": "stream",
     "text": [
      "For transcript: Deploy machine gun to engage blue, red, and orange drone group at heading zero six zero., expected: {'target': 'blue, red, and orange drone', 'heading': '060', 'tool': 'machine gun'}, but got: {'target': 'blue, red, and orange drone group', 'heading': '060', 'tool': 'machine gun'}\n"
     ]
    },
    {
     "name": "stderr",
     "output_type": "stream",
     "text": [
      " 58%|█████▊    | 2015/3500 [2:50:07<3:02:16,  7.36s/it]"
     ]
    },
    {
     "name": "stdout",
     "output_type": "stream",
     "text": [
      "For transcript: Air defense turret, prepare to engage the silver and green light aircraft with surface-to-air missiles. Heading zero five five. Launch missiles now., expected: {'target': 'silver and green light aircraft', 'heading': '055', 'tool': 'surface-to-air missiles'}, but got: {'target': 'silver and green light aircraft', 'heading': '055', 'tool': 'surface-to0-air missiles'}\n"
     ]
    },
    {
     "name": "stderr",
     "output_type": "stream",
     "text": [
      " 59%|█████▊    | 2048/3500 [2:53:05<4:31:09, 11.20s/it]"
     ]
    },
    {
     "name": "stdout",
     "output_type": "stream",
     "text": [
      "For transcript: Air defense turret, target the white, silver, and orange light aircraft at heading zero five five. Deploy surface-to-air missiles. Target locked. Engage., expected: {'target': 'white, silver, and orange light aircraft', 'heading': '055', 'tool': 'surface-to-air missiles'}, but got: {'target': 'white, silver, and orange light aircraft', 'heading': '055', 'tool': 'surface-to0-air missiles'}\n"
     ]
    },
    {
     "name": "stderr",
     "output_type": "stream",
     "text": [
      " 59%|█████▉    | 2058/3500 [2:54:11<4:13:55, 10.57s/it]"
     ]
    },
    {
     "name": "stdout",
     "output_type": "stream",
     "text": [
      "For transcript: Control tower to turrets, target black and red fighter jet at two seven five, deploy surface-to-air missiles., expected: {'target': 'black and red fighter jet', 'heading': '275', 'tool': 'surface-to-air missiles'}, but got: {'target': 'black and red fighter jet', 'heading': '275', 'tool': 'surface-to0-air missiles'}\n"
     ]
    },
    {
     "name": "stderr",
     "output_type": "stream",
     "text": [
      " 60%|█████▉    | 2095/3500 [2:57:25<1:50:01,  4.70s/it]"
     ]
    },
    {
     "name": "stdout",
     "output_type": "stream",
     "text": [
      "For transcript: Control speaking, deploy the machine gun turret to heading zero five zero. Engage the red, silver, and grey fighter plane. Take down the target swiftly and with precision. Over., expected: {'target': 'red, silver, and grey fighter plane', 'heading': '050', 'tool': 'machine gun'}, but got: {'target': 'red, silver, and grey fighter plane', 'heading': '050', 'tool': 'machine gun turret'}\n"
     ]
    },
    {
     "name": "stderr",
     "output_type": "stream",
     "text": [
      " 60%|██████    | 2104/3500 [2:58:07<1:50:03,  4.73s/it]"
     ]
    },
    {
     "name": "stdout",
     "output_type": "stream",
     "text": [
      "For transcript: Control, this is Control. Deploy surface-to-air missiles to intercept the green and yellow drone heading three zero five. Good hunting., expected: {'target': 'green and yellow drone', 'heading': '305', 'tool': 'surface-to-air missiles'}, but got: {'target': 'green and yellow drone', 'heading': '0305', 'tool': 'surface-to-air missiles'}\n"
     ]
    },
    {
     "name": "stderr",
     "output_type": "stream",
     "text": [
      " 60%|██████    | 2113/3500 [2:58:49<1:48:55,  4.71s/it]"
     ]
    },
    {
     "name": "stdout",
     "output_type": "stream",
     "text": [
      "For transcript: Control Tower to turrets, track the brown and purple cargo aircraft at heading three five five. Deploy surface-to-air missiles to intercept., expected: {'target': 'brown and purple cargo aircraft', 'heading': '355', 'tool': 'surface-to-air missiles'}, but got: {'target': 'brown and purple cargo aircraft', 'heading': '355', 'tool': 'surface-to0-air missiles'}\n"
     ]
    },
    {
     "name": "stderr",
     "output_type": "stream",
     "text": [
      " 61%|██████    | 2126/3500 [2:59:54<1:58:29,  5.17s/it]"
     ]
    },
    {
     "name": "stdout",
     "output_type": "stream",
     "text": [
      "For transcript: Activate electromagnetic pulse, heading three three five, engage black, silver, and yellow commercial aircraft., expected: {'target': 'black, silver, and yellow commercial aircraft', 'heading': '335', 'tool': 'electromagnetic pulse'}, but got: {'target': 'black, silver, and yellow commercial aircraft', 'heading': '0335', 'tool': 'electromagnetic pulse'}\n"
     ]
    },
    {
     "name": "stderr",
     "output_type": "stream",
     "text": [
      " 61%|██████    | 2133/3500 [3:00:54<4:53:21, 12.88s/it]"
     ]
    },
    {
     "name": "stdout",
     "output_type": "stream",
     "text": [
      "For transcript: Control tower to turrets, this is Alpha-1. Intercept orange and grey fighter plane at heading two one zero. Deploy surface-to-air missiles immediately., expected: {'target': 'orange and grey fighter plane', 'heading': '210', 'tool': 'surface-to-air missiles'}, but got: {'target': 'orange and grey fighter plane', 'heading': '210', 'tool': 'surface-to0-air missiles'}\n"
     ]
    },
    {
     "name": "stderr",
     "output_type": "stream",
     "text": [
      " 61%|██████    | 2141/3500 [3:01:41<3:07:48,  8.29s/it]"
     ]
    },
    {
     "name": "stdout",
     "output_type": "stream",
     "text": [
      "For transcript: Turret Tango, lock on target at heading two three five. Deploy surface-to-air missiles on blue, white, and green fighter jet. Confirm, over., expected: {'target': 'blue, white, and green fighter jet', 'heading': '235', 'tool': 'surface-to-air missiles'}, but got: {'target': 'blue, white, and green fighter jet', 'heading': '235', 'tool': 'surface-to0-air missiles'}\n"
     ]
    },
    {
     "name": "stderr",
     "output_type": "stream",
     "text": [
      " 62%|██████▏   | 2177/3500 [3:04:33<1:40:43,  4.57s/it]"
     ]
    },
    {
     "name": "stdout",
     "output_type": "stream",
     "text": [
      "For transcript: Air defense turret, adjust heading to three zero zero, engage target, white and grey helicopter, deploy EMP., expected: {'target': 'white and grey helicopter', 'heading': '300', 'tool': 'EMP'}, but got: {'target': 'white and grey helicopter', 'heading': '0300', 'tool': 'EMP'}\n"
     ]
    },
    {
     "name": "stderr",
     "output_type": "stream",
     "text": [
      " 62%|██████▏   | 2181/3500 [3:05:21<4:49:00, 13.15s/it]"
     ]
    },
    {
     "name": "stdout",
     "output_type": "stream",
     "text": [
      "For transcript: Turret Alpha, target the red and white commercial aircraft heading zero two zero, deploy surface-to-air missiles. Turret Bravo, stand by for next target., expected: {'target': 'red and white commercial aircraft', 'heading': '020', 'tool': 'surface-to-air missiles'}, but got: {'target': 'red and white commercial aircraft', 'heading': '020', 'tool': 'surface-to0-air missiles'}\n"
     ]
    },
    {
     "name": "stderr",
     "output_type": "stream",
     "text": [
      " 63%|██████▎   | 2189/3500 [3:06:11<3:22:47,  9.28s/it]"
     ]
    },
    {
     "name": "stdout",
     "output_type": "stream",
     "text": [
      "For transcript: Control calling all turrets, we have a black, blue, and red drone incoming. Deploy surface-to-air missiles on heading one niner five. Engage the target immediately. Over., expected: {'target': 'black, blue, and red drone', 'heading': '195', 'tool': 'surface-to-air missiles'}, but got: {'target': 'black, blue, and red drone', 'heading': '195', 'tool': 'surface-to0-air missiles'}\n"
     ]
    },
    {
     "name": "stderr",
     "output_type": "stream",
     "text": [
      " 63%|██████▎   | 2190/3500 [3:06:16<2:52:20,  7.89s/it]"
     ]
    },
    {
     "name": "stdout",
     "output_type": "stream",
     "text": [
      "For transcript: Control tower to air defense turrets, deploy machine gun, heading three three five, target red, white, and brown drone., expected: {'target': 'red, white, and brown drone', 'heading': '335', 'tool': 'machine gun'}, but got: {'target': 'red, white, and brown drone', 'heading': '035', 'tool': 'machine gun'}\n"
     ]
    },
    {
     "name": "stderr",
     "output_type": "stream",
     "text": [
      " 63%|██████▎   | 2210/3500 [3:08:15<4:33:17, 12.71s/it]"
     ]
    },
    {
     "name": "stdout",
     "output_type": "stream",
     "text": [
      "For transcript: Control to air defense turrets, we have a target at heading one eight zero. Deploy surface-to-air missiles to engage the silver, white, and orange light aircraft. Over., expected: {'target': 'silver, white, and orange light aircraft', 'heading': '180', 'tool': 'surface-to-air missiles'}, but got: {'target': 'silver, white, and orange light aircraft', 'heading': '180', 'tool': 'surface-to0-air missiles'}\n"
     ]
    },
    {
     "name": "stderr",
     "output_type": "stream",
     "text": [
      " 64%|██████▍   | 2244/3500 [3:10:55<1:38:03,  4.68s/it]"
     ]
    },
    {
     "name": "stdout",
     "output_type": "stream",
     "text": [
      "For transcript: Control here. Attention all air defense turrets, we have a brown light aircraft approaching on a heading of zero five zero. Deploy surface-to-air missiles immediately. Engage and neutralize the target swiftly. Over., expected: {'target': 'brown light aircraft', 'heading': '050', 'tool': 'surface-to-air missiles'}, but got: {'target': 'brown light aircraft', 'heading': '050', 'tool': 'surface-to0-air missiles'}\n"
     ]
    },
    {
     "name": "stderr",
     "output_type": "stream",
     "text": [
      " 64%|██████▍   | 2245/3500 [3:11:21<3:49:20, 10.96s/it]"
     ]
    },
    {
     "name": "stdout",
     "output_type": "stream",
     "text": [
      "For transcript: Control tower to air defense turrets, authorization granted. Intercept target heading one three five, yellow and black light aircraft. Deploy surface-to-air missiles. Engage and neutralize threat., expected: {'target': 'yellow and black light aircraft', 'heading': '135', 'tool': 'surface-to-air missiles'}, but got: {'target': 'yellow and black light aircraft', 'heading': '135', 'tool': 'surface-to0-air missiles'}\n"
     ]
    },
    {
     "name": "stderr",
     "output_type": "stream",
     "text": [
      " 64%|██████▍   | 2248/3500 [3:11:40<2:55:19,  8.40s/it]"
     ]
    },
    {
     "name": "stdout",
     "output_type": "stream",
     "text": [
      "For transcript: Control tower to air defense turrets, target is an orange and brown drone at heading three one five, deploy surface-to-air missiles., expected: {'target': 'orange and brown drone', 'heading': '315', 'tool': 'surface-to-air missiles'}, but got: {'target': 'orange and brown drone', 'heading': '315', 'tool': 'surface-to0-air missiles'}\n"
     ]
    },
    {
     "name": "stderr",
     "output_type": "stream",
     "text": [
      " 65%|██████▍   | 2259/3500 [3:12:32<1:39:53,  4.83s/it]"
     ]
    },
    {
     "name": "stdout",
     "output_type": "stream",
     "text": [
      "For transcript: Deploy the machine gun turret, heading one one five, engage the purple and orange camouflage light aircraft., expected: {'target': 'purple and orange camouflage light aircraft', 'heading': '115', 'tool': 'machine gun'}, but got: {'target': 'purple and orange camouflage light aircraft', 'heading': '115', 'tool': 'machine gun turret'}\n"
     ]
    },
    {
     "name": "stderr",
     "output_type": "stream",
     "text": [
      " 65%|██████▍   | 2263/3500 [3:12:50<1:36:10,  4.66s/it]"
     ]
    },
    {
     "name": "stdout",
     "output_type": "stream",
     "text": [
      "For transcript: Initiate deployment of surface-to-air missiles, heading three three five. Target lock on white missile. Engage and neutralize the threat., expected: {'target': 'white missile', 'heading': '335', 'tool': 'surface-to-air missiles'}, but got: {'target': 'white missile', 'heading': '035', 'tool': 'surface-to-air missiles'}\n"
     ]
    },
    {
     "name": "stderr",
     "output_type": "stream",
     "text": [
      " 66%|██████▌   | 2297/3500 [3:15:40<2:27:08,  7.34s/it]"
     ]
    },
    {
     "name": "stdout",
     "output_type": "stream",
     "text": [
      "For transcript: Air defense turret, target grey and white fighter plane at heading three one five. Deploy surface-to-air missiles. Engage the target., expected: {'target': 'grey and white fighter plane', 'heading': '315', 'tool': 'surface-to-air missiles'}, but got: {'target': 'grey and white fighter plane', 'heading': '315', 'tool': 'surface-to0-air missiles'}\n"
     ]
    },
    {
     "name": "stderr",
     "output_type": "stream",
     "text": [
      " 66%|██████▌   | 2310/3500 [3:17:01<3:16:11,  9.89s/it]"
     ]
    },
    {
     "name": "stdout",
     "output_type": "stream",
     "text": [
      "For transcript: Control tower to air defense turrets, target heading three six zero, deploy surface-to-air missiles, engage black, blue, and purple commercial aircraft., expected: {'target': 'black, blue, and purple commercial aircraft', 'heading': '360', 'tool': 'surface-to-air missiles'}, but got: {'target': 'black, blue, and purple commercial aircraft', 'heading': '360', 'tool': 'surface-to0-air missiles'}\n"
     ]
    },
    {
     "name": "stderr",
     "output_type": "stream",
     "text": [
      " 67%|██████▋   | 2328/3500 [3:18:25<1:31:21,  4.68s/it]"
     ]
    },
    {
     "name": "stdout",
     "output_type": "stream",
     "text": [
      "For transcript: Rotate turret to heading zero four zero. Engage blue missile target with anti-air artillery. Commence firing sequence., expected: {'target': 'blue missile', 'heading': '040', 'tool': 'anti-air artillery'}, but got: {'target': 'blue missile target', 'heading': '040', 'tool': 'anti-air artillery'}\n"
     ]
    },
    {
     "name": "stderr",
     "output_type": "stream",
     "text": [
      " 67%|██████▋   | 2333/3500 [3:18:50<1:40:39,  5.18s/it]"
     ]
    },
    {
     "name": "stdout",
     "output_type": "stream",
     "text": [
      "Error parsing JSON string: \n",
      "For transcript: Engage surface-to-air missiles, target yellow, red, and grey fighter jet heading three three five. Ready to fire., expected: {'target': 'yellow, red, and grey fighter jet', 'heading': '335', 'tool': 'surface-to-air missiles'}, but got: None\n"
     ]
    },
    {
     "name": "stderr",
     "output_type": "stream",
     "text": [
      " 67%|██████▋   | 2343/3500 [3:19:38<1:31:36,  4.75s/it]"
     ]
    },
    {
     "name": "stdout",
     "output_type": "stream",
     "text": [
      "For transcript: Turret Alpha, engage bogey at one eight zero, surface-to-air missiles, purple and red commercial aircraft. Turret Bravo, standby for further instructions. Turret Charlie, maintain current position., expected: {'target': 'purple and red commercial aircraft', 'heading': '180', 'tool': 'surface-to-air missiles'}, but got: {'target': 'purple and red commercial aircraft', 'heading': '180', 'tool': 'surface-to0-air missiles'}\n"
     ]
    },
    {
     "name": "stderr",
     "output_type": "stream",
     "text": [
      " 67%|██████▋   | 2360/3500 [3:20:58<1:26:20,  4.54s/it]"
     ]
    },
    {
     "name": "stdout",
     "output_type": "stream",
     "text": [
      "For transcript: Turret Mike, deploy machine gun. Heading three three five. Target white light aircraft., expected: {'target': 'white light aircraft', 'heading': '335', 'tool': 'machine gun'}, but got: {'target': 'white light aircraft', 'heading': '0335', 'tool': 'machine gun'}\n"
     ]
    },
    {
     "name": "stderr",
     "output_type": "stream",
     "text": [
      " 68%|██████▊   | 2364/3500 [3:21:23<1:44:32,  5.52s/it]"
     ]
    },
    {
     "name": "stdout",
     "output_type": "stream",
     "text": [
      "For transcript: Control tower to interceptor jets, intercept grey fighter jet at heading one five zero. Engage and neutralize target immediately. Repeat, engage and neutralize. Over., expected: {'target': 'grey fighter jet', 'heading': '150', 'tool': 'interceptor jets'}, but got: {'target': 'grey fighter jet', 'heading': '150', 'tool': 'engage'}\n"
     ]
    },
    {
     "name": "stderr",
     "output_type": "stream",
     "text": [
      " 68%|██████▊   | 2366/3500 [3:22:00<4:13:29, 13.41s/it]"
     ]
    },
    {
     "name": "stdout",
     "output_type": "stream",
     "text": [
      "For transcript: Control to air defense turrets, we have a target heading three one zero. Deploy surface-to-air missiles onto the white, brown, and green helicopter. Take aim, and fire at will. Over., expected: {'target': 'white, brown, and green helicopter', 'heading': '310', 'tool': 'surface-to-air missiles'}, but got: {'target': 'white, brown, and green helicopter', 'heading': '310', 'tool': 'surface-to0-air missiles'}\n"
     ]
    },
    {
     "name": "stderr",
     "output_type": "stream",
     "text": [
      " 68%|██████▊   | 2374/3500 [3:23:05<4:12:17, 13.44s/it]"
     ]
    },
    {
     "name": "stdout",
     "output_type": "stream",
     "text": [
      "For transcript: Control here. Engage target, black, red, and brown drone, at heading zero two zero with surface-to-air missiles. Fire at will. Over., expected: {'target': 'black, red, and brown drone', 'heading': '020', 'tool': 'surface-to-air missiles'}, but got: {'target': 'black, red, and brown drone', 'heading': '020', 'tool': 'surface-to0-air missiles'}\n"
     ]
    },
    {
     "name": "stderr",
     "output_type": "stream",
     "text": [
      " 68%|██████▊   | 2385/3500 [3:24:11<3:00:28,  9.71s/it]"
     ]
    },
    {
     "name": "stdout",
     "output_type": "stream",
     "text": [
      "For transcript: Air defense turret, heading zero one zero, engage target, green and brown fighter plane with machine gun., expected: {'target': 'green and brown fighter plane', 'heading': '010', 'tool': 'machine gun'}, but got: {'target': 'green and brown fighter plane with machine gun', 'heading': '010', 'tool': 'engage'}\n"
     ]
    },
    {
     "name": "stderr",
     "output_type": "stream",
     "text": [
      " 68%|██████▊   | 2387/3500 [3:24:21<2:13:12,  7.18s/it]"
     ]
    },
    {
     "name": "stdout",
     "output_type": "stream",
     "text": [
      "For transcript: Turret Bravo, engage with surface-to-air missiles. Heading three six zero. Target is a red fighter plane. Stand by for authorization to fire., expected: {'target': 'red fighter plane', 'heading': '360', 'tool': 'surface-to-air missiles'}, but got: {'target': 'red fighter plane', 'heading': '0360', 'tool': 'surface-to-air missiles'}\n"
     ]
    },
    {
     "name": "stderr",
     "output_type": "stream",
     "text": [
      " 68%|██████▊   | 2392/3500 [3:24:44<1:34:30,  5.12s/it]"
     ]
    },
    {
     "name": "stdout",
     "output_type": "stream",
     "text": [
      "For transcript: Engage target, red, purple, and white fighter plane with machine gun. Heading three five five., expected: {'target': 'red, purple, and white fighter plane', 'heading': '355', 'tool': 'machine gun'}, but got: {'target': 'red, purple, and white fighter plane', 'heading': '0355', 'tool': 'machine gun'}\n"
     ]
    },
    {
     "name": "stderr",
     "output_type": "stream",
     "text": [
      " 69%|██████▊   | 2403/3500 [3:25:35<1:25:02,  4.65s/it]"
     ]
    },
    {
     "name": "stdout",
     "output_type": "stream",
     "text": [
      "For transcript: Engage target, three three five, grey, silver, and green fighter jet, with interceptor jets., expected: {'target': 'grey, silver, and green fighter jet', 'heading': '335', 'tool': 'interceptor jets'}, but got: {'target': 'grey, silver, and green fighter jet', 'heading': '035', 'tool': 'interceptor jets'}\n"
     ]
    },
    {
     "name": "stderr",
     "output_type": "stream",
     "text": [
      " 70%|███████   | 2462/3500 [3:30:11<1:20:38,  4.66s/it]"
     ]
    },
    {
     "name": "stdout",
     "output_type": "stream",
     "text": [
      "For transcript: Turret Bravo, deploy machine gun on heading three three five, target brown and red light aircraft., expected: {'target': 'brown and red light aircraft', 'heading': '335', 'tool': 'machine gun'}, but got: {'target': 'brown and red light aircraft', 'heading': '035', 'tool': 'machine gun'}\n"
     ]
    },
    {
     "name": "stderr",
     "output_type": "stream",
     "text": [
      " 70%|███████   | 2467/3500 [3:31:02<3:43:05, 12.96s/it]"
     ]
    },
    {
     "name": "stdout",
     "output_type": "stream",
     "text": [
      "For transcript: Control to air defense turrets, target at heading one two five, orange commercial aircraft. Deploy surface-to-air missiles, now. Over., expected: {'target': 'orange commercial aircraft', 'heading': '125', 'tool': 'surface-to-air missiles'}, but got: {'target': 'orange commercial aircraft', 'heading': '125', 'tool': 'surface-to0-air missiles'}\n"
     ]
    },
    {
     "name": "stderr",
     "output_type": "stream",
     "text": [
      " 71%|███████   | 2472/3500 [3:31:34<2:29:08,  8.70s/it]"
     ]
    },
    {
     "name": "stdout",
     "output_type": "stream",
     "text": [
      "For transcript: Control to all air defense turrets, we have a blue, grey, and orange cargo aircraft on a heading of zero five five. Deploy surface-to-air missiles immediately, over., expected: {'target': 'blue, grey, and orange cargo aircraft', 'heading': '055', 'tool': 'surface-to-air missiles'}, but got: {'target': 'blue, grey, and orange cargo aircraft', 'heading': '055', 'tool': 'surface-to0-air missiles'}\n"
     ]
    },
    {
     "name": "stderr",
     "output_type": "stream",
     "text": [
      " 72%|███████▏  | 2507/3500 [3:34:21<1:18:33,  4.75s/it]"
     ]
    },
    {
     "name": "stdout",
     "output_type": "stream",
     "text": [
      "For transcript: Control to all turrets, heading one one zero. Prepare to deploy surface-to-air missiles on the green cargo aircraft. Execute the attack sequence immediately. Repeat, surface-to-air missiles on green cargo aircraft, heading one one zero. Standby for confirmation of target elimination. Over., expected: {'target': 'green cargo aircraft', 'heading': '110', 'tool': 'surface-to-air missiles'}, but got: {'target': 'green cargo aircraft', 'heading': '110', 'tool': 'surface-to0-air missiles'}\n"
     ]
    },
    {
     "name": "stderr",
     "output_type": "stream",
     "text": [
      " 73%|███████▎  | 2569/3500 [3:39:12<1:15:00,  4.83s/it]"
     ]
    },
    {
     "name": "stdout",
     "output_type": "stream",
     "text": [
      "For transcript: Control to air defense turrets, heading three zero five. Deploy surface-to-air missiles on the blue and black camouflage missile target. Over., expected: {'target': 'blue and black camouflage missile', 'heading': '305', 'tool': 'surface-to-air missiles'}, but got: {'target': 'blue and black camouflage missile target', 'heading': '305', 'tool': 'surface-to-air missiles'}\n"
     ]
    },
    {
     "name": "stderr",
     "output_type": "stream",
     "text": [
      " 74%|███████▍  | 2589/3500 [3:40:45<1:09:58,  4.61s/it]"
     ]
    },
    {
     "name": "stdout",
     "output_type": "stream",
     "text": [
      "For transcript: Control tower to turrets, target inbound at heading one seven five. Red missile detected. Deploy EMP. Lock on and neutralize the threat., expected: {'target': 'red missile', 'heading': '175', 'tool': 'EMP'}, but got: {'target': 'target inbound at heading one seven five', 'heading': '175', 'tool': 'EMP'}\n"
     ]
    },
    {
     "name": "stderr",
     "output_type": "stream",
     "text": [
      " 74%|███████▍  | 2599/3500 [3:41:54<1:24:59,  5.66s/it]"
     ]
    },
    {
     "name": "stdout",
     "output_type": "stream",
     "text": [
      "For transcript: Engage target, green and black camouflage missile, with machine gun. Head to heading three five zero., expected: {'target': 'green and black camouflage missile', 'heading': '350', 'tool': 'machine gun'}, but got: {'target': 'green and black camouflage missile', 'heading': '0350'}\n"
     ]
    },
    {
     "name": "stderr",
     "output_type": "stream",
     "text": [
      " 75%|███████▍  | 2608/3500 [3:42:47<1:57:39,  7.91s/it]"
     ]
    },
    {
     "name": "stdout",
     "output_type": "stream",
     "text": [
      "For transcript: Roger that. Turret Bravo, engage the green fighter plane at heading two three five using surface-to-air missiles. Fire at will. Good hunting., expected: {'target': 'green fighter plane', 'heading': '235', 'tool': 'surface-to-air missiles'}, but got: {'target': 'green fighter plane', 'heading': '235', 'tool': 'surface-to0-air missiles'}\n"
     ]
    },
    {
     "name": "stderr",
     "output_type": "stream",
     "text": [
      " 75%|███████▍  | 2614/3500 [3:43:15<1:14:15,  5.03s/it]"
     ]
    },
    {
     "name": "stdout",
     "output_type": "stream",
     "text": [
      "For transcript: Control here. Prepare to engage target, red cargo aircraft, at heading three one zero. Deploy surface-to-air missiles. Fire at will., expected: {'target': 'red cargo aircraft', 'heading': '310', 'tool': 'surface-to-air missiles'}, but got: {'target': 'red cargo aircraft', 'heading': '310', 'tool': 'surface-to0-air missiles'}\n"
     ]
    },
    {
     "name": "stderr",
     "output_type": "stream",
     "text": [
      " 75%|███████▌  | 2638/3500 [3:45:07<1:07:41,  4.71s/it]"
     ]
    },
    {
     "name": "stdout",
     "output_type": "stream",
     "text": [
      "For transcript: Control here, authorize deployment of the machine gun turret to heading zero zero five. Engage the brown and silver camouflage drone. Take it down swiftly and efficiently. Over and out., expected: {'target': 'brown and silver camouflage drone', 'heading': '005', 'tool': 'machine gun'}, but got: {'target': 'brown and silver camouflage drone', 'heading': '005', 'tool': 'machine gun turret'}\n"
     ]
    },
    {
     "name": "stderr",
     "output_type": "stream",
     "text": [
      " 76%|███████▋  | 2671/3500 [3:47:40<1:00:55,  4.41s/it]"
     ]
    },
    {
     "name": "stdout",
     "output_type": "stream",
     "text": [
      "Error parsing JSON string: \n",
      "For transcript: Prepare to engage target blue fighter jet at heading one four zero using anti-air artillery. Engage now., expected: {'target': 'blue fighter jet', 'heading': '140', 'tool': 'anti-air artillery'}, but got: None\n"
     ]
    },
    {
     "name": "stderr",
     "output_type": "stream",
     "text": [
      " 76%|███████▋  | 2673/3500 [3:47:49<1:02:26,  4.53s/it]"
     ]
    },
    {
     "name": "stdout",
     "output_type": "stream",
     "text": [
      "For transcript: Control tower to air defense turrets, deploy electromagnetic pulse on yellow, red, and grey commercial aircraft heading three zero five., expected: {'target': 'yellow, red, and grey commercial aircraft', 'heading': '305', 'tool': 'electromagnetic pulse'}, but got: {'target': 'yellow, red, and grey commercial aircraft', 'heading': '0305', 'tool': 'electromagnetic pulse'}\n"
     ]
    },
    {
     "name": "stderr",
     "output_type": "stream",
     "text": [
      " 77%|███████▋  | 2696/3500 [3:49:57<1:02:52,  4.69s/it]"
     ]
    },
    {
     "name": "stdout",
     "output_type": "stream",
     "text": [
      "For transcript: Engage, red and yellow drone with machine gun, heading one five five., expected: {'target': 'red and yellow drone', 'heading': '155', 'tool': 'machine gun'}, but got: {'target': 'red and yellow drone with machine gun', 'heading': '155', 'tool': 'machine gun'}\n"
     ]
    },
    {
     "name": "stderr",
     "output_type": "stream",
     "text": [
      " 77%|███████▋  | 2700/3500 [3:50:22<1:16:39,  5.75s/it]"
     ]
    },
    {
     "name": "stdout",
     "output_type": "stream",
     "text": [
      "For transcript: Control here. Deploy surface-to-air missiles towards a yellow, grey, and brown commercial aircraft heading three five five. Engage target immediately. Over., expected: {'target': 'yellow, grey, and brown commercial aircraft', 'heading': '355', 'tool': 'surface-to-air missiles'}, but got: {'target': 'yellow, grey, and brown commercial aircraft', 'heading': '0355', 'tool': 'surface-to-air missiles'}\n"
     ]
    },
    {
     "name": "stderr",
     "output_type": "stream",
     "text": [
      " 77%|███████▋  | 2706/3500 [3:51:19<2:54:50, 13.21s/it]"
     ]
    },
    {
     "name": "stdout",
     "output_type": "stream",
     "text": [
      "For transcript: Control tower to air defense turrets, black helicopter spotted heading one five zero. Deploy surface-to-air missiles to intercept., expected: {'target': 'black helicopter', 'heading': '150', 'tool': 'surface-to-air missiles'}, but got: {'target': 'black helicopter', 'heading': '150', 'tool': 'surface-to0-air missiles'}\n"
     ]
    },
    {
     "name": "stderr",
     "output_type": "stream",
     "text": [
      " 78%|███████▊  | 2714/3500 [3:51:56<1:07:56,  5.19s/it]"
     ]
    },
    {
     "name": "stdout",
     "output_type": "stream",
     "text": [
      "For transcript: Fire electromagnetic pulse at heading zero two zero to neutralize the orange and purple fighter plane., expected: {'target': 'orange and purple fighter plane', 'heading': '020', 'tool': 'electromagnetic pulse'}, but got: {'target': 'orange and purple fighter plane', 'heading': '020', 'tool': 'fire electromagnetic pulse'}\n"
     ]
    },
    {
     "name": "stderr",
     "output_type": "stream",
     "text": [
      " 78%|███████▊  | 2717/3500 [3:52:11<1:04:05,  4.91s/it]"
     ]
    },
    {
     "name": "stdout",
     "output_type": "stream",
     "text": [
      "For transcript: Aim the machine gun at the brown, yellow, and green fighter jet heading three five five. Engage the target., expected: {'target': 'brown, yellow, and green fighter jet', 'heading': '355', 'tool': 'machine gun'}, but got: {'target': 'brown, yellow, and green fighter jet', 'heading': '0355', 'tool': 'machine gun'}\n"
     ]
    },
    {
     "name": "stderr",
     "output_type": "stream",
     "text": [
      " 78%|███████▊  | 2724/3500 [3:53:04<2:19:58, 10.82s/it]"
     ]
    },
    {
     "name": "stdout",
     "output_type": "stream",
     "text": [
      "For transcript: Control tower to air defense turrets, target is a yellow and purple cargo aircraft heading one four five. Deploy surface-to-air missiles., expected: {'target': 'yellow and purple cargo aircraft', 'heading': '145', 'tool': 'surface-to-air missiles'}, but got: {'target': 'yellow and purple cargo aircraft', 'heading': '145', 'tool': 'surface-to0-air missiles'}\n"
     ]
    },
    {
     "name": "stderr",
     "output_type": "stream",
     "text": [
      " 78%|███████▊  | 2737/3500 [3:54:24<2:18:11, 10.87s/it]"
     ]
    },
    {
     "name": "stdout",
     "output_type": "stream",
     "text": [
      "For transcript: Engage target, brown and orange cargo aircraft, at heading one one five. Deploy surface-to-air missiles., expected: {'target': 'brown and orange cargo aircraft', 'heading': '115', 'tool': 'surface-to-air missiles'}, but got: {'target': 'brown and orange cargo aircraft', 'heading': '115', 'tool': 'surface-to0-air missiles'}\n"
     ]
    },
    {
     "name": "stderr",
     "output_type": "stream",
     "text": [
      " 78%|███████▊  | 2738/3500 [3:54:29<1:54:52,  9.05s/it]"
     ]
    },
    {
     "name": "stdout",
     "output_type": "stream",
     "text": [
      "For transcript: Fire electromagnetic pulse at two seven five, target blue, silver, and green missile., expected: {'target': 'blue, silver, and green missile', 'heading': '275', 'tool': 'electromagnetic pulse'}, but got: {'target': 'blue, silver, and green missile', 'heading': '275', 'tool': 'fire electromagnetic pulse'}\n"
     ]
    },
    {
     "name": "stderr",
     "output_type": "stream",
     "text": [
      " 78%|███████▊  | 2740/3500 [3:54:38<1:26:01,  6.79s/it]"
     ]
    },
    {
     "name": "stdout",
     "output_type": "stream",
     "text": [
      "For transcript: Control here, deploy an electromagnetic pulse (EMP) in the heading of three four five to neutralize the green fighter jet. Over., expected: {'target': 'green fighter jet', 'heading': '345', 'tool': 'EMP'}, but got: {'target': 'green fighter jet', 'heading': '0345', 'tool': 'electromagnetic pulse'}\n"
     ]
    },
    {
     "name": "stderr",
     "output_type": "stream",
     "text": [
      " 79%|███████▊  | 2753/3500 [3:56:06<2:42:02, 13.02s/it]"
     ]
    },
    {
     "name": "stdout",
     "output_type": "stream",
     "text": [
      "For transcript: Control tower to turrets, prepare to engage orange cargo aircraft heading one three zero. Deploy surface-to-air missiles now., expected: {'target': 'orange cargo aircraft', 'heading': '130', 'tool': 'surface-to-air missiles'}, but got: {'target': 'orange cargo aircraft', 'heading': '130', 'tool': 'surface-to0-air missiles'}\n"
     ]
    },
    {
     "name": "stderr",
     "output_type": "stream",
     "text": [
      " 79%|███████▉  | 2761/3500 [3:56:44<1:03:29,  5.15s/it]"
     ]
    },
    {
     "name": "stdout",
     "output_type": "stream",
     "text": [
      "For transcript: Fire EMP at red, orange, and blue fighter plane at heading zero five zero., expected: {'target': 'red, orange, and blue fighter plane', 'heading': '050', 'tool': 'EMP'}, but got: {'target': 'red, orange, and blue fighter plane', 'heading': '050', 'tool': 'Fire EMP'}\n"
     ]
    },
    {
     "name": "stderr",
     "output_type": "stream",
     "text": [
      " 79%|███████▉  | 2766/3500 [3:57:07<57:40,  4.71s/it]  "
     ]
    },
    {
     "name": "stdout",
     "output_type": "stream",
     "text": [
      "For transcript: Control tower to turrets, deploy EMP missile on blue fighter jet at heading two three five., expected: {'target': 'blue fighter jet', 'heading': '235', 'tool': 'EMP'}, but got: {'target': 'blue fighter jet', 'heading': '235', 'tool': 'EMP missile'}\n"
     ]
    },
    {
     "name": "stderr",
     "output_type": "stream",
     "text": [
      " 79%|███████▉  | 2769/3500 [3:57:21<56:40,  4.65s/it]"
     ]
    },
    {
     "name": "stdout",
     "output_type": "stream",
     "text": [
      "For transcript: Activate machine gun defenses, direct firepower towards silver fighter plane at heading two two five. Stand by for further instructions., expected: {'target': 'silver fighter plane', 'heading': '225', 'tool': 'machine gun'}, but got: {'target': 'silver fighter plane', 'heading': '225', 'tool': 'machine gun defenses'}\n"
     ]
    },
    {
     "name": "stderr",
     "output_type": "stream",
     "text": [
      " 79%|███████▉  | 2773/3500 [3:57:39<56:37,  4.67s/it]"
     ]
    },
    {
     "name": "stdout",
     "output_type": "stream",
     "text": [
      "For transcript: Rotate turret to heading three five five. Engage the black and red camouflage helicopter with anti-air artillery. Fire at will., expected: {'target': 'black and red camouflage helicopter', 'heading': '355', 'tool': 'anti-air artillery'}, but got: {'target': 'black and red camouflage helicopter', 'heading': '0355', 'tool': 'anti-air artillery'}\n"
     ]
    },
    {
     "name": "stderr",
     "output_type": "stream",
     "text": [
      " 80%|███████▉  | 2793/3500 [3:59:13<53:19,  4.53s/it]"
     ]
    },
    {
     "name": "stdout",
     "output_type": "stream",
     "text": [
      "Error parsing JSON string: \n",
      "For transcript: Control to all air defense turrets, prepare to engage target orange drone at heading two one five. Deploy EMP tool immediately. Repeat, engage target at heading two one five with EMP. Proceed with caution. Over., expected: {'target': 'orange drone', 'heading': '215', 'tool': 'EMP'}, but got: None\n"
     ]
    },
    {
     "name": "stderr",
     "output_type": "stream",
     "text": [
      " 80%|███████▉  | 2795/3500 [3:59:22<55:14,  4.70s/it]"
     ]
    },
    {
     "name": "stdout",
     "output_type": "stream",
     "text": [
      "For transcript: Activate anti-air artillery, engage target bearing three six zero. Engage purple, green, and red cargo aircraft., expected: {'target': 'purple, green, and red cargo aircraft', 'heading': '360', 'tool': 'anti-air artillery'}, but got: {'target': 'purple, green, and red cargo aircraft', 'heading': '0360', 'tool': 'anti-air artillery'}\n"
     ]
    },
    {
     "name": "stderr",
     "output_type": "stream",
     "text": [
      " 80%|████████  | 2805/3500 [4:00:08<53:12,  4.59s/it]"
     ]
    },
    {
     "name": "stdout",
     "output_type": "stream",
     "text": [
      "For transcript: Control here, deploy the machine gun on the black light aircraft heading three six zero. Engage and neutralize the target immediately. Over., expected: {'target': 'black light aircraft', 'heading': '360', 'tool': 'machine gun'}, but got: {'target': 'black light aircraft', 'heading': '0360', 'tool': 'machine gun'}\n"
     ]
    },
    {
     "name": "stderr",
     "output_type": "stream",
     "text": [
      " 80%|████████  | 2812/3500 [4:00:44<57:01,  4.97s/it]  "
     ]
    },
    {
     "name": "stdout",
     "output_type": "stream",
     "text": [
      "Error parsing JSON string: \n",
      "For transcript: Engage surface-to-air missiles on green and silver missile at heading two niner five. Target locked, prepare for launch., expected: {'target': 'green and silver missile', 'heading': '295', 'tool': 'surface-to-air missiles'}, but got: None\n"
     ]
    },
    {
     "name": "stderr",
     "output_type": "stream",
     "text": [
      " 81%|████████  | 2825/3500 [4:02:09<2:04:53, 11.10s/it]"
     ]
    },
    {
     "name": "stdout",
     "output_type": "stream",
     "text": [
      "For transcript: Control to air defense turrets, prepare to engage a green and brown fighter plane at heading one four zero. Deploy surface-to-air missiles now. Target locked, fire at will., expected: {'target': 'green and brown fighter plane', 'heading': '140', 'tool': 'surface-to-air missiles'}, but got: {'target': 'green and brown fighter plane', 'heading': '140', 'tool': 'surface-to0-air missiles'}\n"
     ]
    },
    {
     "name": "stderr",
     "output_type": "stream",
     "text": [
      " 81%|████████  | 2828/3500 [4:02:34<1:52:48, 10.07s/it]"
     ]
    },
    {
     "name": "stdout",
     "output_type": "stream",
     "text": [
      "For transcript: Control to all turrets, we have a silver, black, and purple fighter plane approaching at heading one three zero. Deploy surface-to-air missiles immediately to intercept the target. That is all., expected: {'target': 'silver, black, and purple fighter plane', 'heading': '130', 'tool': 'surface-to-air missiles'}, but got: {'target': 'silver, black, and purple fighter plane', 'heading': '130', 'tool': 'surface-to0-air missiles'}\n"
     ]
    },
    {
     "name": "stderr",
     "output_type": "stream",
     "text": [
      " 81%|████████  | 2837/3500 [4:03:16<53:26,  4.84s/it]  "
     ]
    },
    {
     "name": "stdout",
     "output_type": "stream",
     "text": [
      "For transcript: Control tower to air defense turrets, heading two two five, yellow drone target, deploy drone catcher., expected: {'target': 'yellow drone', 'heading': '225', 'tool': 'drone catcher'}, but got: {'target': 'yellow drone target', 'heading': '225', 'tool': 'drone catcher'}\n"
     ]
    },
    {
     "name": "stderr",
     "output_type": "stream",
     "text": [
      " 81%|████████  | 2841/3500 [4:03:44<1:21:23,  7.41s/it]"
     ]
    },
    {
     "name": "stdout",
     "output_type": "stream",
     "text": [
      "For transcript: Attention, air defense turret, prepare to engage target at heading two five zero. Deploy surface-to-air missiles to neutralize the brown and orange drone. Fire at will., expected: {'target': 'brown and orange drone', 'heading': '250', 'tool': 'surface-to-air missiles'}, but got: {'target': 'brown and orange drone', 'heading': '250', 'tool': 'surface-to0-air missiles'}\n"
     ]
    },
    {
     "name": "stderr",
     "output_type": "stream",
     "text": [
      " 81%|████████▏ | 2845/3500 [4:04:02<57:48,  5.30s/it]  "
     ]
    },
    {
     "name": "stdout",
     "output_type": "stream",
     "text": [
      "For transcript: Fire EMP at yellow, green, and black commercial aircraft heading two eight zero., expected: {'target': 'yellow, green, and black commercial aircraft', 'heading': '280', 'tool': 'EMP'}, but got: {'target': 'yellow, green, and black commercial aircraft', 'heading': '280', 'tool': 'Fire EMP'}\n"
     ]
    },
    {
     "name": "stderr",
     "output_type": "stream",
     "text": [
      " 81%|████████▏ | 2846/3500 [4:04:07<55:34,  5.10s/it]"
     ]
    },
    {
     "name": "stdout",
     "output_type": "stream",
     "text": [
      "For transcript: Fire EMP at heading two six zero to disable the black, grey, and blue cargo aircraft., expected: {'target': 'black, grey, and blue cargo aircraft', 'heading': '260', 'tool': 'EMP'}, but got: {'target': 'black, grey, and blue cargo aircraft', 'heading': '260', 'tool': 'Fire EMP'}\n"
     ]
    },
    {
     "name": "stderr",
     "output_type": "stream",
     "text": [
      " 82%|████████▏ | 2875/3500 [4:06:25<48:01,  4.61s/it]  "
     ]
    },
    {
     "name": "stdout",
     "output_type": "stream",
     "text": [
      "For transcript: Fire EMP at heading three two five to neutralize the grey and brown commercial aircraft., expected: {'target': 'grey and brown commercial aircraft', 'heading': '325', 'tool': 'EMP'}, but got: {'target': 'grey and brown commercial aircraft', 'heading': '325', 'tool': 'Fire EMP'}\n"
     ]
    },
    {
     "name": "stderr",
     "output_type": "stream",
     "text": [
      " 82%|████████▏ | 2887/3500 [4:07:49<2:11:45, 12.90s/it]"
     ]
    },
    {
     "name": "stdout",
     "output_type": "stream",
     "text": [
      "Error parsing JSON string: \n",
      "For transcript: Turret Alpha, engage target Brown Camouflage Light Aircraft at heading two six five with surface-to-air missiles. All other turrets, maintain current positions. Ready, aim, fire., expected: {'target': 'brown camouflage light aircraft', 'heading': '265', 'tool': 'surface-to-air missiles'}, but got: None\n"
     ]
    },
    {
     "name": "stderr",
     "output_type": "stream",
     "text": [
      " 83%|████████▎ | 2888/3500 [4:07:54<1:47:50, 10.57s/it]"
     ]
    },
    {
     "name": "stdout",
     "output_type": "stream",
     "text": [
      "For transcript: Control to air defense turrets, this is Control. Please deploy surface-to-air missiles to intercept the silver and purple drone approaching from heading three two five. Repeat, surface-to-air missiles deployed to intercept silver and purple drone at heading three two five. Over., expected: {'target': 'silver and purple drone', 'heading': '325', 'tool': 'surface-to-air missiles'}, but got: {'target': 'silver and purple drone', 'heading': '0325', 'tool': 'surface-to-air missiles'}\n"
     ]
    },
    {
     "name": "stderr",
     "output_type": "stream",
     "text": [
      " 83%|████████▎ | 2891/3500 [4:08:08<1:07:23,  6.64s/it]"
     ]
    },
    {
     "name": "stdout",
     "output_type": "stream",
     "text": [
      "For transcript: Deploy interceptor jets to heading three five zero. Engage the orange fighter plane., expected: {'target': 'orange fighter plane', 'heading': '350', 'tool': 'interceptor jets'}, but got: {'target': 'orange fighter plane', 'heading': '0350', 'tool': 'interceptor jets'}\n"
     ]
    },
    {
     "name": "stderr",
     "output_type": "stream",
     "text": [
      " 83%|████████▎ | 2915/3500 [4:10:08<1:11:20,  7.32s/it]"
     ]
    },
    {
     "name": "stdout",
     "output_type": "stream",
     "text": [
      "For transcript: Control to air defense turrets, we have a white drone as the target. Deploy surface-to-air missiles and set heading to zero five zero. Engage at will. Over., expected: {'target': 'white drone', 'heading': '050', 'tool': 'surface-to-air missiles'}, but got: {'target': 'white drone', 'heading': '050', 'tool': 'surface-to0-air missiles'}\n"
     ]
    },
    {
     "name": "stderr",
     "output_type": "stream",
     "text": [
      " 83%|████████▎ | 2921/3500 [4:10:36<47:02,  4.87s/it]  "
     ]
    },
    {
     "name": "stdout",
     "output_type": "stream",
     "text": [
      "For transcript: Control here. Interceptor jets, prepare to engage the yellow and silver commercial aircraft at heading two five zero. Take it down swiftly and accurately. Lock on target and fire when ready. Over., expected: {'target': 'yellow and silver commercial aircraft', 'heading': '250', 'tool': 'interceptor jets'}, but got: {'target': 'yellow and silver commercial aircraft', 'heading': '250', 'tool': 'Interceptor jets'}\n"
     ]
    },
    {
     "name": "stderr",
     "output_type": "stream",
     "text": [
      " 84%|████████▎ | 2923/3500 [4:10:56<1:17:09,  8.02s/it]"
     ]
    },
    {
     "name": "stdout",
     "output_type": "stream",
     "text": [
      "For transcript: Control Tower to turrets, engage target grey fighter jet, heading three three five, deploy surface-to-air missiles. Defense systems, neutralize the threat immediately., expected: {'target': 'grey fighter jet', 'heading': '335', 'tool': 'surface-to-air missiles'}, but got: {'target': 'grey fighter jet', 'heading': '335', 'tool': 'surface-to0-air missiles'}\n"
     ]
    },
    {
     "name": "stderr",
     "output_type": "stream",
     "text": [
      " 84%|████████▎ | 2930/3500 [4:11:56<2:04:59, 13.16s/it]"
     ]
    },
    {
     "name": "stdout",
     "output_type": "stream",
     "text": [
      "For transcript: Control tower to all turrets, engage target at heading one one zero. Purple, silver, and grey fighter plane, deploy surface-to-air missiles. Launch now., expected: {'target': 'purple, silver, and grey fighter plane', 'heading': '110', 'tool': 'surface-to-air missiles'}, but got: {'target': 'purple, silver, and grey fighter plane', 'heading': '110', 'tool': 'surface-to0-air missiles'}\n"
     ]
    },
    {
     "name": "stderr",
     "output_type": "stream",
     "text": [
      " 85%|████████▍ | 2960/3500 [4:14:19<47:28,  5.27s/it]  "
     ]
    },
    {
     "name": "stdout",
     "output_type": "stream",
     "text": [
      "For transcript: Control to interceptor jets, deploy towards heading zero niner five. Engage the purple, red, and orange fighter plane. Over., expected: {'target': 'purple, red, and orange fighter plane', 'heading': '095', 'tool': 'interceptor jets'}, but got: {'target': 'purple, red, and orange fighter plane', 'heading': '095', 'tool': 'Interceptor jets'}\n"
     ]
    },
    {
     "name": "stderr",
     "output_type": "stream",
     "text": [
      " 85%|████████▍ | 2964/3500 [4:14:37<40:32,  4.54s/it]"
     ]
    },
    {
     "name": "stdout",
     "output_type": "stream",
     "text": [
      "Error parsing JSON string: \n",
      "For transcript: Control here, prepare to deploy EMP, target the black, orange, and white cargo aircraft at heading two eight zero. Launch when ready. Over., expected: {'target': 'black, orange, and white cargo aircraft', 'heading': '280', 'tool': 'EMP'}, but got: None\n"
     ]
    },
    {
     "name": "stderr",
     "output_type": "stream",
     "text": [
      " 85%|████████▍ | 2965/3500 [4:15:09<1:55:05, 12.91s/it]"
     ]
    },
    {
     "name": "stdout",
     "output_type": "stream",
     "text": [
      "For transcript: Control tower to turrets, prepare to engage hostile target. Deploy surface-to-air missiles. Target is a red and silver drone on heading two five five. Fire at will., expected: {'target': 'red and silver drone', 'heading': '255', 'tool': 'surface-to-air missiles'}, but got: {'target': 'red and silver drone', 'heading': '255', 'tool': 'surface-to0-air missiles'}\n"
     ]
    },
    {
     "name": "stderr",
     "output_type": "stream",
     "text": [
      " 85%|████████▍ | 2972/3500 [4:15:44<47:12,  5.37s/it]  "
     ]
    },
    {
     "name": "stdout",
     "output_type": "stream",
     "text": [
      "For transcript: Engage hostile target, black camouflage missile, heading one three zero, deploy machine gun., expected: {'target': 'black camouflage missile', 'heading': '130', 'tool': 'machine gun'}, but got: {'target': 'hostile target', 'heading': '130', 'tool': 'machine gun'}\n"
     ]
    },
    {
     "name": "stderr",
     "output_type": "stream",
     "text": [
      " 85%|████████▌ | 2988/3500 [4:17:26<1:50:07, 12.90s/it]"
     ]
    },
    {
     "name": "stdout",
     "output_type": "stream",
     "text": [
      "For transcript: Turret Charlie, prepare to engage blue cargo aircraft heading three four five with surface-to-air missiles. Standby for authorization to fire., expected: {'target': 'blue cargo aircraft', 'heading': '345', 'tool': 'surface-to-air missiles'}, but got: {'target': 'blue cargo aircraft', 'heading': '345', 'tool': 'surface-to0-air missiles'}\n"
     ]
    },
    {
     "name": "stderr",
     "output_type": "stream",
     "text": [
      " 86%|████████▌ | 3002/3500 [4:18:30<38:10,  4.60s/it]  "
     ]
    },
    {
     "name": "stdout",
     "output_type": "stream",
     "text": [
      "For transcript: Deploy EMP on heading three zero five, engage white, red, and purple light aircraft., expected: {'target': 'white, red, and purple light aircraft', 'heading': '305', 'tool': 'EMP'}, but got: {'target': 'white, red, and purple light aircraft', 'heading': '0305', 'tool': 'EMP'}\n"
     ]
    },
    {
     "name": "stderr",
     "output_type": "stream",
     "text": [
      " 86%|████████▌ | 3004/3500 [4:18:39<38:47,  4.69s/it]"
     ]
    },
    {
     "name": "stdout",
     "output_type": "stream",
     "text": [
      "For transcript: Control to air defense turrets, alter heading to three one zero. Engage target red helicopter using surface-to-air missiles. Over., expected: {'target': 'red helicopter', 'heading': '310', 'tool': 'surface-to-air missiles'}, but got: {'target': 'red helicopter', 'heading': '310', 'tool': 'surface-to0-air missiles'}\n"
     ]
    },
    {
     "name": "stderr",
     "output_type": "stream",
     "text": [
      " 86%|████████▌ | 3018/3500 [4:19:44<37:14,  4.64s/it]"
     ]
    },
    {
     "name": "stdout",
     "output_type": "stream",
     "text": [
      "For transcript: Engage target, white, red, and blue fighter plane, with anti-air artillery. Heading three five five., expected: {'target': 'white, red, and blue fighter plane', 'heading': '355', 'tool': 'anti-air artillery'}, but got: {'target': 'white, red, and blue fighter plane', 'heading': '0355', 'tool': 'anti-air artillery'}\n"
     ]
    },
    {
     "name": "stderr",
     "output_type": "stream",
     "text": [
      " 86%|████████▋ | 3020/3500 [4:19:53<36:56,  4.62s/it]"
     ]
    },
    {
     "name": "stdout",
     "output_type": "stream",
     "text": [
      "For transcript: Control addressing all turrets, deploy surface-to-air missiles on the blue and brown cargo aircraft heading two three five. Take them down swiftly and efficiently. Over., expected: {'target': 'blue and brown cargo aircraft', 'heading': '235', 'tool': 'surface-to-air missiles'}, but got: {'target': 'blue and brown cargo aircraft', 'heading': '235', 'tool': 'surface-to0-air missiles'}\n"
     ]
    },
    {
     "name": "stderr",
     "output_type": "stream",
     "text": [
      " 86%|████████▋ | 3022/3500 [4:20:02<36:53,  4.63s/it]"
     ]
    },
    {
     "name": "stdout",
     "output_type": "stream",
     "text": [
      "For transcript: Control tower to turrets, heading two three five. Deploy machine gun on Blue, Red, and Green missile. Engage target immediately., expected: {'target': 'blue, red, and green missile', 'heading': '235', 'tool': 'machine gun'}, but got: {'target': 'Blue, Red, and Green missile', 'heading': '235', 'tool': 'machine gun'}\n"
     ]
    },
    {
     "name": "stderr",
     "output_type": "stream",
     "text": [
      " 86%|████████▋ | 3025/3500 [4:20:16<36:22,  4.59s/it]"
     ]
    },
    {
     "name": "stdout",
     "output_type": "stream",
     "text": [
      "For transcript: Turret Bravo, engage orange and white light aircraft heading two three zero with machine gun fire., expected: {'target': 'orange and white light aircraft', 'heading': '230', 'tool': 'machine gun'}, but got: {'target': 'orange and white light aircraft', 'heading': '230', 'tool': 'machine gun fire'}\n"
     ]
    },
    {
     "name": "stderr",
     "output_type": "stream",
     "text": [
      " 87%|████████▋ | 3033/3500 [4:20:53<36:06,  4.64s/it]"
     ]
    },
    {
     "name": "stdout",
     "output_type": "stream",
     "text": [
      "For transcript: Air defense turret, prepare to deploy EMP on heading three five five. Target the red and silver missile. Engage when ready., expected: {'target': 'red and silver missile', 'heading': '355', 'tool': 'EMP'}, but got: {'target': 'red and silver missile', 'heading': '0355', 'tool': 'EMP'}\n"
     ]
    },
    {
     "name": "stderr",
     "output_type": "stream",
     "text": [
      " 87%|████████▋ | 3057/3500 [4:22:45<33:31,  4.54s/it]"
     ]
    },
    {
     "name": "stdout",
     "output_type": "stream",
     "text": [
      "For transcript: Engage target, Orange missile, heading three four five, with anti-air artillery., expected: {'target': 'orange missile', 'heading': '345', 'tool': 'anti-air artillery'}, but got: {'target': 'Orange missile', 'heading': '345', 'tool': 'anti-air artillery'}\n"
     ]
    },
    {
     "name": "stderr",
     "output_type": "stream",
     "text": [
      " 88%|████████▊ | 3070/3500 [4:23:45<33:47,  4.72s/it]"
     ]
    },
    {
     "name": "stdout",
     "output_type": "stream",
     "text": [
      "For transcript: Control to air defense turrets, we have a threat approaching at heading one six zero. Deploy surface-to-air missiles to engage the brown helicopter. Take swift action to neutralize the target and secure our airspace. Over., expected: {'target': 'brown helicopter', 'heading': '160', 'tool': 'surface-to-air missiles'}, but got: {'target': 'brown helicopter', 'heading': '160', 'tool': 'surface-to0-air missiles'}\n"
     ]
    },
    {
     "name": "stderr",
     "output_type": "stream",
     "text": [
      " 88%|████████▊ | 3078/3500 [4:24:51<1:32:29, 13.15s/it]"
     ]
    },
    {
     "name": "stdout",
     "output_type": "stream",
     "text": [
      "For transcript: Control tower to all turrets, purple fighter plane spotted heading one four five. Deploy surface-to-air missiles. Engage target., expected: {'target': 'purple fighter plane', 'heading': '145', 'tool': 'surface-to-air missiles'}, but got: {'target': 'purple fighter plane', 'heading': '145', 'tool': 'surface-to0-air missiles'}\n"
     ]
    },
    {
     "name": "stderr",
     "output_type": "stream",
     "text": [
      " 88%|████████▊ | 3082/3500 [4:25:09<46:18,  6.65s/it]  "
     ]
    },
    {
     "name": "stdout",
     "output_type": "stream",
     "text": [
      "For transcript: Control to all turrets, this is a priority alert. Deploy machine gun turrets to heading zero eight zero. Engage target identified as a green and grey light aircraft. Get ready to intercept and neutralize. Stay vigilant and maintain focus. Good luck., expected: {'target': 'green and grey light aircraft', 'heading': '080', 'tool': 'machine gun'}, but got: {'target': 'green and grey light aircraft', 'heading': '080', 'tool': 'machine gun turrets'}\n"
     ]
    },
    {
     "name": "stderr",
     "output_type": "stream",
     "text": [
      " 88%|████████▊ | 3087/3500 [4:25:32<34:30,  5.01s/it]"
     ]
    },
    {
     "name": "stdout",
     "output_type": "stream",
     "text": [
      "For transcript: Fire electromagnetic pulse at heading zero two five to neutralize brown, red, and blue drone., expected: {'target': 'brown, red, and blue drone', 'heading': '025', 'tool': 'electromagnetic pulse'}, but got: {'target': 'brown, red, and blue drone', 'heading': '025', 'tool': 'Fire electromagnetic pulse'}\n"
     ]
    },
    {
     "name": "stderr",
     "output_type": "stream",
     "text": [
      " 89%|████████▉ | 3107/3500 [4:27:08<30:55,  4.72s/it]"
     ]
    },
    {
     "name": "stdout",
     "output_type": "stream",
     "text": [
      "For transcript: Turret Alpha, engage with machine gun fire, target yellow, green, and purple helicopter at heading two eight zero. Turret Bravo, stand by for further instructions., expected: {'target': 'yellow, green, and purple helicopter', 'heading': '280', 'tool': 'machine gun'}, but got: {'target': 'yellow, green, and purple helicopter', 'heading': '280', 'tool': 'machine gun fire'}\n"
     ]
    },
    {
     "name": "stderr",
     "output_type": "stream",
     "text": [
      " 89%|████████▉ | 3114/3500 [4:27:41<30:09,  4.69s/it]"
     ]
    },
    {
     "name": "stdout",
     "output_type": "stream",
     "text": [
      "For transcript: Turret Alpha, target the red and grey cargo aircraft at heading zero four five. Deploy surface-to-air missiles. Turret Bravo, standby for further instructions., expected: {'target': 'red and grey cargo aircraft', 'heading': '045', 'tool': 'surface-to-air missiles'}, but got: {'target': 'red and grey cargo aircraft', 'heading': '045', 'tool': 'surface-to0-air missiles'}\n"
     ]
    },
    {
     "name": "stderr",
     "output_type": "stream",
     "text": [
      " 89%|████████▉ | 3117/3500 [4:27:54<29:39,  4.65s/it]"
     ]
    },
    {
     "name": "stdout",
     "output_type": "stream",
     "text": [
      "For transcript: Turret Tango, deploy EMP on bearing three two zero, target the blue and red camouflage missile., expected: {'target': 'blue and red camouflage missile', 'heading': '320', 'tool': 'EMP'}, but got: {'target': 'blue and red camouflage missile', 'heading': '0320', 'tool': 'EMP'}\n"
     ]
    },
    {
     "name": "stderr",
     "output_type": "stream",
     "text": [
      " 89%|████████▉ | 3132/3500 [4:29:06<30:21,  4.95s/it]"
     ]
    },
    {
     "name": "stdout",
     "output_type": "stream",
     "text": [
      "For transcript: Control to air defense turrets, target coordinates received. Prepare to engage a white, blue, and black commercial aircraft approaching on heading three one zero. Deploy surface-to-air missiles and secure the airspace. Swift and precise action is imperative. Over., expected: {'target': 'white, blue, and black commercial aircraft', 'heading': '310', 'tool': 'surface-to-air missiles'}, but got: {'target': 'white, blue, and black commercial aircraft', 'heading': '310', 'tool': 'surface-to0-air missiles'}\n"
     ]
    },
    {
     "name": "stderr",
     "output_type": "stream",
     "text": [
      " 90%|████████▉ | 3143/3500 [4:29:57<27:02,  4.54s/it]"
     ]
    },
    {
     "name": "stdout",
     "output_type": "stream",
     "text": [
      "For transcript: Control tower to interceptor jets, initiate scramble. Yellow cargo aircraft on heading one six zero, intercept immediately., expected: {'target': 'yellow cargo aircraft', 'heading': '160', 'tool': 'interceptor jets'}, but got: {'target': 'Yellow cargo aircraft', 'heading': '160', 'tool': 'interceptor jets'}\n"
     ]
    },
    {
     "name": "stderr",
     "output_type": "stream",
     "text": [
      " 90%|████████▉ | 3146/3500 [4:30:11<27:42,  4.70s/it]"
     ]
    },
    {
     "name": "stdout",
     "output_type": "stream",
     "text": [
      "For transcript: Air defense turret, set heading to three zero five. Target the grey and silver cargo aircraft. Deploy surface-to-air missiles., expected: {'target': 'grey and silver cargo aircraft', 'heading': '305', 'tool': 'surface-to-air missiles'}, but got: {'target': 'grey and silver cargo aircraft', 'heading': '305', 'tool': 'surface-to0-air missiles'}\n"
     ]
    },
    {
     "name": "stderr",
     "output_type": "stream",
     "text": [
      " 90%|█████████ | 3152/3500 [4:30:49<43:51,  7.56s/it]"
     ]
    },
    {
     "name": "stdout",
     "output_type": "stream",
     "text": [
      "For transcript: Turret Alpha, lock on to the grey, silver, and yellow cargo aircraft at one one five heading. Deploy surface-to-air missiles immediately., expected: {'target': 'grey, silver, and yellow cargo aircraft', 'heading': '115', 'tool': 'surface-to-air missiles'}, but got: {'target': 'grey, silver, and yellow cargo aircraft', 'heading': '115', 'tool': 'surface-to0-air missiles'}\n"
     ]
    },
    {
     "name": "stderr",
     "output_type": "stream",
     "text": [
      " 90%|█████████ | 3165/3500 [4:31:49<25:48,  4.62s/it]"
     ]
    },
    {
     "name": "stdout",
     "output_type": "stream",
     "text": [
      "For transcript: Control to air defense turrets, we have a blue camouflage fighter plane approaching from three six zero. Deploy EMP. Target locked. Commence operation. Over., expected: {'target': 'blue camouflage fighter plane', 'heading': '360', 'tool': 'EMP'}, but got: {'target': 'blue camouflage fighter plane', 'heading': '0360', 'tool': 'EMP'}\n"
     ]
    },
    {
     "name": "stderr",
     "output_type": "stream",
     "text": [
      " 91%|█████████ | 3169/3500 [4:32:08<26:08,  4.74s/it]"
     ]
    },
    {
     "name": "stdout",
     "output_type": "stream",
     "text": [
      "For transcript: Air defense turret, adjust heading to two five zero. Engage the orange, grey, and brown missile target using anti-air artillery. Stand by for confirmation to fire., expected: {'target': 'orange, grey, and brown missile', 'heading': '250', 'tool': 'anti-air artillery'}, but got: {'target': 'orange, grey, and brown missile target', 'heading': '250', 'tool': 'anti-air artillery'}\n"
     ]
    },
    {
     "name": "stderr",
     "output_type": "stream",
     "text": [
      " 91%|█████████ | 3171/3500 [4:32:17<26:05,  4.76s/it]"
     ]
    },
    {
     "name": "stdout",
     "output_type": "stream",
     "text": [
      "For transcript: Control to air defense turrets, prepare to deploy electromagnetic pulse. Heading three four five. Engage and neutralize grey, yellow, and red fighter jet. Over., expected: {'target': 'grey, yellow, and red fighter jet', 'heading': '345', 'tool': 'electromagnetic pulse'}, but got: {'target': 'grey, yellow, and red fighter jet', 'heading': '0345', 'tool': 'electromagnetic pulse'}\n"
     ]
    },
    {
     "name": "stderr",
     "output_type": "stream",
     "text": [
      " 91%|█████████▏| 3195/3500 [4:34:30<56:41, 11.15s/it]"
     ]
    },
    {
     "name": "stdout",
     "output_type": "stream",
     "text": [
      "For transcript: Control tower to air defense turrets, intercept target at heading one zero zero. Deploy surface-to-air missiles. Target is an orange and yellow missile. Proceed with caution., expected: {'target': 'orange and yellow missile', 'heading': '100', 'tool': 'surface-to-air missiles'}, but got: {'target': 'orange and yellow missile', 'heading': '100', 'tool': 'surface-to0-air missiles'}\n"
     ]
    },
    {
     "name": "stderr",
     "output_type": "stream",
     "text": [
      " 91%|█████████▏| 3199/3500 [4:34:49<31:13,  6.22s/it]"
     ]
    },
    {
     "name": "stdout",
     "output_type": "stream",
     "text": [
      "For transcript: Fire electromagnetic pulse at grey light aircraft heading one eight zero., expected: {'target': 'grey light aircraft', 'heading': '180', 'tool': 'electromagnetic pulse'}, but got: {'target': 'grey light aircraft', 'heading': '180', 'tool': 'fire electromagnetic pulse'}\n"
     ]
    },
    {
     "name": "stderr",
     "output_type": "stream",
     "text": [
      " 92%|█████████▏| 3219/3500 [4:36:26<22:41,  4.85s/it]"
     ]
    },
    {
     "name": "stdout",
     "output_type": "stream",
     "text": [
      "For transcript: Activate electromagnetic pulse system, target silver, blue, and black missile at heading zero five five., expected: {'target': 'silver, blue, and black missile', 'heading': '055', 'tool': 'electromagnetic pulse'}, but got: {'target': 'silver, blue, and black missile', 'heading': '055', 'tool': 'electromagnetic pulse system'}\n"
     ]
    },
    {
     "name": "stderr",
     "output_type": "stream",
     "text": [
      " 92%|█████████▏| 3222/3500 [4:37:08<1:00:43, 13.10s/it]"
     ]
    },
    {
     "name": "stdout",
     "output_type": "stream",
     "text": [
      "For transcript: Control to all turrets, deploy surface-to-air missiles to intercept the black and white fighter plane on a heading of one eight zero. Take out the target, over., expected: {'target': 'black and white fighter plane', 'heading': '180', 'tool': 'surface-to-air missiles'}, but got: {'target': 'black and white fighter plane', 'heading': '180', 'tool': 'surface-to0-air missiles'}\n"
     ]
    },
    {
     "name": "stderr",
     "output_type": "stream",
     "text": [
      " 92%|█████████▏| 3227/3500 [4:37:32<28:23,  6.24s/it]  "
     ]
    },
    {
     "name": "stdout",
     "output_type": "stream",
     "text": [
      "For transcript: Turret Alpha, lock on target, purple, white, and brown commercial aircraft heading zero four zero. Deploy surface-to-air missiles. Engage. Turret Bravo and Turret Charlie, stand by for further orders., expected: {'target': 'purple, white, and brown commercial aircraft', 'heading': '040', 'tool': 'surface-to-air missiles'}, but got: {'target': 'purple, white, and brown commercial aircraft', 'heading': '040', 'tool': 'surface-to0-air missiles'}\n"
     ]
    },
    {
     "name": "stderr",
     "output_type": "stream",
     "text": [
      " 93%|█████████▎| 3264/3500 [4:40:25<17:42,  4.50s/it]"
     ]
    },
    {
     "name": "stdout",
     "output_type": "stream",
     "text": [
      "For transcript: Engage interceptor jets to intercept black fighter jet at heading zero zero five., expected: {'target': 'black fighter jet', 'heading': '005', 'tool': 'interceptor jets'}, but got: {'target': 'black fighter jet', 'heading': '005'}\n"
     ]
    },
    {
     "name": "stderr",
     "output_type": "stream",
     "text": [
      " 93%|█████████▎| 3268/3500 [4:40:46<18:34,  4.80s/it]"
     ]
    },
    {
     "name": "stdout",
     "output_type": "stream",
     "text": [
      "Error parsing JSON string: \n",
      "For transcript: Prepare to deploy EMP on the white, green, and orange drone. Head to heading one eight five. Engage when ready., expected: {'target': 'white, green, and orange drone', 'heading': '185', 'tool': 'EMP'}, but got: None\n"
     ]
    },
    {
     "name": "stderr",
     "output_type": "stream",
     "text": [
      " 94%|█████████▎| 3273/3500 [4:41:36<48:44, 12.88s/it]"
     ]
    },
    {
     "name": "stdout",
     "output_type": "stream",
     "text": [
      "For transcript: Lock on target, silver, blue, and grey fighter plane. Engage with surface-to-air missiles. Heading two six zero. Fire at will., expected: {'target': 'silver, blue, and grey fighter plane', 'heading': '260', 'tool': 'surface-to-air missiles'}, but got: {'target': 'silver, blue, and grey fighter plane', 'heading': '260', 'tool': 'surface-to0-air missiles'}\n"
     ]
    },
    {
     "name": "stderr",
     "output_type": "stream",
     "text": [
      " 94%|█████████▍| 3289/3500 [4:42:51<16:23,  4.66s/it]"
     ]
    },
    {
     "name": "stdout",
     "output_type": "stream",
     "text": [
      "For transcript: Deploy machine gun, heading three three zero, engage purple, brown, and red helicopter., expected: {'target': 'purple, brown, and red helicopter', 'heading': '330', 'tool': 'machine gun'}, but got: {'target': 'purple, brown, and red helicopter', 'heading': '030', 'tool': 'machine gun'}\n"
     ]
    },
    {
     "name": "stderr",
     "output_type": "stream",
     "text": [
      " 94%|█████████▍| 3299/3500 [4:43:37<15:32,  4.64s/it]"
     ]
    },
    {
     "name": "stdout",
     "output_type": "stream",
     "text": [
      "For transcript: Control tower to air defense turrets, engage target, brown fighter jet, heading three three zero, deploy machine gun., expected: {'target': 'brown fighter jet', 'heading': '330', 'tool': 'machine gun'}, but got: {'target': 'brown fighter jet', 'heading': '030', 'tool': 'machine gun'}\n"
     ]
    },
    {
     "name": "stderr",
     "output_type": "stream",
     "text": [
      " 95%|█████████▍| 3311/3500 [4:44:54<34:56, 11.09s/it]"
     ]
    },
    {
     "name": "stdout",
     "output_type": "stream",
     "text": [
      "For transcript: Air defense turret, lock on target, black and blue helicopter, heading three zero five. Deploy surface-to-air missiles., expected: {'target': 'black and blue helicopter', 'heading': '305', 'tool': 'surface-to-air missiles'}, but got: {'target': 'black and blue helicopter', 'heading': '305', 'tool': 'surface-to0-air missiles'}\n"
     ]
    },
    {
     "name": "stderr",
     "output_type": "stream",
     "text": [
      " 95%|█████████▍| 3318/3500 [4:45:38<25:19,  8.35s/it]"
     ]
    },
    {
     "name": "stdout",
     "output_type": "stream",
     "text": [
      "For transcript: Air defense turret, lock onto heading two three zero, engage surface-to-air missiles on the red and yellow drone. Target destroyed., expected: {'target': 'red and yellow drone', 'heading': '230', 'tool': 'surface-to-air missiles'}, but got: {'target': 'red and yellow drone', 'heading': '230', 'tool': 'surface-to0-air missiles'}\n"
     ]
    },
    {
     "name": "stderr",
     "output_type": "stream",
     "text": [
      " 95%|█████████▍| 3321/3500 [4:46:02<26:47,  8.98s/it]"
     ]
    },
    {
     "name": "stdout",
     "output_type": "stream",
     "text": [
      "For transcript: Control to air defense turrets, we have a green fighter jet in our airspace. Deploy surface-to-air missiles on heading one four five. Take down the target swiftly and efficiently. Over., expected: {'target': 'green fighter jet', 'heading': '145', 'tool': 'surface-to-air missiles'}, but got: {'target': 'green fighter jet', 'heading': '145', 'tool': 'surface-to0-air missiles'}\n"
     ]
    },
    {
     "name": "stderr",
     "output_type": "stream",
     "text": [
      " 95%|█████████▌| 3331/3500 [4:46:50<13:46,  4.89s/it]"
     ]
    },
    {
     "name": "stdout",
     "output_type": "stream",
     "text": [
      "For transcript: Control tower to air defense turrets, engage target at heading zero two five, silver missile, deploy machine gun., expected: {'target': 'silver missile', 'heading': '025', 'tool': 'machine gun'}, but got: {'target': 'target at heading zero two five', 'heading': '025', 'tool': 'silver missile, deploy machine gun'}\n"
     ]
    },
    {
     "name": "stderr",
     "output_type": "stream",
     "text": [
      " 96%|█████████▌| 3343/3500 [4:47:54<19:13,  7.35s/it]"
     ]
    },
    {
     "name": "stdout",
     "output_type": "stream",
     "text": [
      "For transcript: Control to air defense turrets, be advised, heading zero three five. Deploy surface-to-air missiles against purple and blue fighter jet. Over., expected: {'target': 'purple and blue fighter jet', 'heading': '035', 'tool': 'surface-to-air missiles'}, but got: {'target': 'purple and blue fighter jet', 'heading': '035', 'tool': 'surface-to0-air missiles'}\n"
     ]
    },
    {
     "name": "stderr",
     "output_type": "stream",
     "text": [
      " 96%|█████████▌| 3350/3500 [4:48:27<12:16,  4.91s/it]"
     ]
    },
    {
     "name": "stdout",
     "output_type": "stream",
     "text": [
      "For transcript: Control tower to air defense turrets, deploy electromagnetic pulse. Target the silver, green, and purple drone. Heading three two five. Lock on and fire., expected: {'target': 'silver, green, and purple drone', 'heading': '325', 'tool': 'electromagnetic pulse'}, but got: {'target': 'silver, green, and purple drone', 'heading': '0325', 'tool': 'electromagnetic pulse'}\n"
     ]
    },
    {
     "name": "stderr",
     "output_type": "stream",
     "text": [
      " 96%|█████████▌| 3356/3500 [4:48:55<11:04,  4.62s/it]"
     ]
    },
    {
     "name": "stdout",
     "output_type": "stream",
     "text": [
      "For transcript: Engage target, green fighter jet, at heading zero two zero with machine gun fire., expected: {'target': 'green fighter jet', 'heading': '020', 'tool': 'machine gun'}, but got: {'target': 'green fighter jet', 'heading': '020', 'tool': 'machine gun fire'}\n"
     ]
    },
    {
     "name": "stderr",
     "output_type": "stream",
     "text": [
      " 96%|█████████▌| 3362/3500 [4:49:22<10:27,  4.55s/it]"
     ]
    },
    {
     "name": "stdout",
     "output_type": "stream",
     "text": [
      "For transcript: Turret Tango, engage the blue and grey fighter plane at bearing two four five with the machine gun., expected: {'target': 'blue and grey fighter plane', 'heading': '245', 'tool': 'machine gun'}, but got: {'target': 'blue and grey fighter plane', 'heading': '0245', 'tool': 'machine gun'}\n"
     ]
    },
    {
     "name": "stderr",
     "output_type": "stream",
     "text": [
      " 96%|█████████▌| 3364/3500 [4:49:32<10:36,  4.68s/it]"
     ]
    },
    {
     "name": "stdout",
     "output_type": "stream",
     "text": [
      "For transcript: Control tower to interceptor jets, scramble immediately. Intercept green camouflage commercial aircraft. Heading three five zero. Proceed with caution., expected: {'target': 'green camouflage commercial aircraft', 'heading': '350', 'tool': 'interceptor jets'}, but got: {'target': 'green camouflage commercial aircraft', 'heading': '0350', 'tool': 'interceptor jets'}\n"
     ]
    },
    {
     "name": "stderr",
     "output_type": "stream",
     "text": [
      " 96%|█████████▌| 3365/3500 [4:49:36<10:30,  4.67s/it]"
     ]
    },
    {
     "name": "stdout",
     "output_type": "stream",
     "text": [
      "For transcript: Control tower to air defense turrets, deploy electromagnetic pulse on heading three four five, targeting black and red missile., expected: {'target': 'black and red missile', 'heading': '345', 'tool': 'electromagnetic pulse'}, but got: {'target': 'black and red missile', 'heading': '0345', 'tool': 'electromagnetic pulse'}\n"
     ]
    },
    {
     "name": "stderr",
     "output_type": "stream",
     "text": [
      " 96%|█████████▌| 3367/3500 [4:50:13<28:27, 12.83s/it]"
     ]
    },
    {
     "name": "stdout",
     "output_type": "stream",
     "text": [
      "For transcript: Control tower to interceptor jets, this is Tower Command. Scramble to intercept a purple and brown fighter plane heading one zero five. Engage and neutralize the target immediately., expected: {'target': 'purple and brown fighter plane', 'heading': '105', 'tool': 'interceptor jets'}, but got: {'target': 'purple and brown fighter plane', 'heading': '105', 'tool': 'Engage'}\n"
     ]
    },
    {
     "name": "stderr",
     "output_type": "stream",
     "text": [
      " 97%|█████████▋| 3395/3500 [4:52:50<22:38, 12.94s/it]"
     ]
    },
    {
     "name": "stdout",
     "output_type": "stream",
     "text": [
      "For transcript: Control tower to air defense turrets, target is a black, yellow, and grey missile heading three two zero. Deploy surface-to-air missiles., expected: {'target': 'black, yellow, and grey missile', 'heading': '320', 'tool': 'surface-to-air missiles'}, but got: {'target': 'black, yellow, and grey missile', 'heading': '320', 'tool': 'surface-to0-air missiles'}\n"
     ]
    },
    {
     "name": "stderr",
     "output_type": "stream",
     "text": [
      " 97%|█████████▋| 3397/3500 [4:52:59<14:49,  8.64s/it]"
     ]
    },
    {
     "name": "stdout",
     "output_type": "stream",
     "text": [
      "For transcript: Control to turrets, initiate machine gun protocol towards heading two eight zero. Target is a green helicopter. Engage and neutralize the threat. Over., expected: {'target': 'green helicopter', 'heading': '280', 'tool': 'machine gun'}, but got: {'target': 'green helicopter', 'heading': '280', 'tool': 'machine gun protocol'}\n"
     ]
    },
    {
     "name": "stderr",
     "output_type": "stream",
     "text": [
      " 98%|█████████▊| 3417/3500 [4:54:34<06:36,  4.77s/it]"
     ]
    },
    {
     "name": "stdout",
     "output_type": "stream",
     "text": [
      "For transcript: Control to all air defense turrets, prepare to engage target. Deploy surface-to-air missiles. Grey and silver light aircraft sighted heading three four five. Intercept and neutralize the threat immediately. Stand by for clearance to engage. Over., expected: {'target': 'grey and silver light aircraft', 'heading': '345', 'tool': 'surface-to-air missiles'}, but got: {'target': 'grey and silver light aircraft', 'heading': '0345', 'tool': 'surface-to0-air missiles'}\n"
     ]
    },
    {
     "name": "stderr",
     "output_type": "stream",
     "text": [
      " 98%|█████████▊| 3420/3500 [4:54:47<06:09,  4.62s/it]"
     ]
    },
    {
     "name": "stdout",
     "output_type": "stream",
     "text": [
      "For transcript: Control calling all turrets, heading two two zero. Blue light aircraft spotted. Deploy EMP tool immediately., expected: {'target': 'blue light aircraft', 'heading': '220', 'tool': 'EMP'}, but got: {'target': 'Blue light aircraft', 'heading': '220', 'tool': 'EMP'}\n"
     ]
    },
    {
     "name": "stderr",
     "output_type": "stream",
     "text": [
      " 99%|█████████▉| 3462/3500 [4:58:30<08:13, 12.99s/it]"
     ]
    },
    {
     "name": "stdout",
     "output_type": "stream",
     "text": [
      "For transcript: Control here, prepare to engage the grey, white, and blue cargo aircraft heading two one zero with surface-to-air missiles. Stand by for deployment., expected: {'target': 'grey, white, and blue cargo aircraft', 'heading': '210', 'tool': 'surface-to-air missiles'}, but got: {'target': 'grey, white, and blue cargo aircraft', 'heading': '210', 'tool': 'surface-to0-air missiles'}\n"
     ]
    },
    {
     "name": "stderr",
     "output_type": "stream",
     "text": [
      " 99%|█████████▉| 3482/3500 [5:00:07<01:42,  5.69s/it]"
     ]
    },
    {
     "name": "stdout",
     "output_type": "stream",
     "text": [
      "For transcript: Air defense turret, rotate heading to one zero five, deploy surface-to-air missiles, target the orange fighter jet. Standby for confirmation before engaging., expected: {'target': 'orange fighter jet', 'heading': '105', 'tool': 'surface-to-air missiles'}, but got: {'target': 'orange fighter jet', 'heading': '105', 'tool': 'surface-to0-air missiles'}\n"
     ]
    },
    {
     "name": "stderr",
     "output_type": "stream",
     "text": [
      "100%|█████████▉| 3488/3500 [5:00:41<01:02,  5.23s/it]"
     ]
    },
    {
     "name": "stdout",
     "output_type": "stream",
     "text": [
      "For transcript: Fire anti-air artillery at three one zero heading to engage red, brown, and blue light aircraft., expected: {'target': 'red, brown, and blue light aircraft', 'heading': '310', 'tool': 'anti-air artillery'}, but got: {'target': 'red, brown, and blue light aircraft', 'heading': '0310', 'tool': 'Fire anti-air artillery'}\n"
     ]
    },
    {
     "name": "stderr",
     "output_type": "stream",
     "text": [
      "100%|██████████| 3500/3500 [5:01:36<00:00,  5.17s/it]"
     ]
    },
    {
     "name": "stdout",
     "output_type": "stream",
     "text": [
      "Passed 3211 out of 3500 tests.\n"
     ]
    },
    {
     "name": "stderr",
     "output_type": "stream",
     "text": [
      "\n"
     ]
    }
   ],
   "source": [
    "template = \"\"\"\n",
    "Given the transcript delimitted by triple backticks,\n",
    "extract all key information in a structured format.\n",
    "{format_instructions}\n",
    "Return the JSON object only, nothing else.\n",
    "\n",
    "Here are some examples of how to perform this task:\n",
    "TRANSCRIPT: Target is red helicopter, heading is zero one zero, tool to deploy is surface-to-air missiles.\n",
    "OUTPUT: 'target': 'red helicopter', 'heading': '010', 'tool': 'surface-to-air missiles'\n",
    "\n",
    "TRANSCRIPT: Target is grey and white fighter jet, heading is zero six five, tool to deploy is electromagnetic pulse.\n",
    "OUTPUT: 'target': 'grey and white fighter jet', 'heading': '065', 'tool': 'electromagnetic pulse'\n",
    "\n",
    "TRANSCRIPT: Alfa, Echo, Mike Papa, deploy EMP tool heading zero eight five, engage purple, red, and silver fighter jet.\n",
    "OUTPUT: 'target': 'purple, red, and silver fighter jet', 'heading': '085', 'tool': 'EMP'\n",
    "\n",
    "Now take the following transcript and extract the key information in a structured format\n",
    "TRANSCRIPT:\n",
    "```{transcript}```\n",
    "\"\"\"\n",
    "\n",
    "\n",
    "# Define your desired data structure.\n",
    "class Objective(BaseModel):\n",
    "    \"\"\"The data to be extracted from the transcript\"\"\"\n",
    "    target: str = Field(description=\"Identified Target object to attack\")\n",
    "    heading: str = Field(description=\"Heading of object in integers\")\n",
    "    tool: str = Field(description=\"Tool to be deployed to neutralize the target\")\n",
    "\n",
    "def clean_json_string(json_str: str) -> str:\n",
    "    # Find the start of the first JSON object\n",
    "    start = json_str.find('{')\n",
    "\n",
    "    # Find the end of the first JSON object\n",
    "    end = json_str.find('}') + 1\n",
    "\n",
    "    # Extract the substring from 'start' to 'end'\n",
    "    cleaned_json_str = json_str[start:end]\n",
    "\n",
    "    return cleaned_json_str\n",
    "\n",
    "def extract_json_after_response(message: str) -> dict:\n",
    "    # Find the start of the JSON object\n",
    "    start = message.lower().find('response') + len('response')\n",
    "\n",
    "    # Extract the substring from 'start' to the end of the message\n",
    "    json_str = message[start:].strip()\n",
    "    json_str = clean_json_string(json_str)\n",
    "\n",
    "    try:\n",
    "        # Parse the JSON string into a Python dictionary\n",
    "        data = json.loads(json_str)\n",
    "    except json.JSONDecodeError:\n",
    "        print(f\"Error parsing JSON string: {json_str}\")\n",
    "        return None\n",
    "\n",
    "    return data\n",
    "\n",
    "output_parser = JsonOutputParser(pydantic_object=Objective)\n",
    "\n",
    "prompt = PromptTemplate(\n",
    "    template=template,\n",
    "    input_variables=[\"transcript\"],\n",
    "    partial_variables={\"format_instructions\": output_parser.get_format_instructions()},\n",
    ")\n",
    "\n",
    "chain = prompt | llm_phi3 | extract_json_after_response\n",
    "\n",
    "\n",
    "from tqdm import tqdm\n",
    "import json\n",
    "\n",
    "def load_test_cases(filename: str) -> list:\n",
    "  test_cases = []\n",
    "  with open(filename, 'r') as file:\n",
    "    for line in file:\n",
    "      # Each line is a separate JSON object\n",
    "      test_case = json.loads(line)\n",
    "      test_cases.append(test_case)\n",
    "  return test_cases\n",
    "\n",
    "# Load the test cases from the JSONL file\n",
    "test_cases = load_test_cases('./src/nlp.jsonl')\n",
    "print(f\"Loaded {len(test_cases)} test cases.\")\n",
    "\n",
    "# Counter for passed test cases\n",
    "passed_tests = 0\n",
    "\n",
    "# Now you can use 'test_cases' in your tests\n",
    "for test_case in tqdm(test_cases):\n",
    "  transcript = test_case['transcript']\n",
    "  expected_output = {\n",
    "    'target': test_case['target'],\n",
    "    'heading': test_case['heading'],\n",
    "    'tool': test_case['tool']\n",
    "  }\n",
    "  # Check if transcript is an instance of StringPromptValue and extract the string value\n",
    "  if isinstance(transcript, StringPromptValue):\n",
    "    print(transcript)\n",
    "    transcript = transcript.value\n",
    "\n",
    "  # Invoke the chain with the transcript from the test case\n",
    "  extracted_output = chain.invoke({\"transcript\": transcript})\n",
    "\n",
    "\n",
    "  # Check if the extracted output matches the expected output\n",
    "  if extracted_output == expected_output:\n",
    "    passed_tests += 1\n",
    "  else:\n",
    "    print(f\"For transcript: {transcript}, expected: {expected_output}, but got: {extracted_output}\")\n",
    "\n",
    "# Print the number of passed tests\n",
    "print(f\"Passed {passed_tests} out of {len(test_cases)} tests.\")"
   ]
  },
  {
   "cell_type": "code",
   "execution_count": 9,
   "id": "b1954b46-1cfc-45b3-8527-68bda3844c20",
   "metadata": {},
   "outputs": [
    {
     "name": "stdout",
     "output_type": "stream",
     "text": [
      "Loaded 3500 test cases.\n",
      "Error parsing JSON string: \n",
      "For transcript: Engage orange and brown fighter plane at heading zero six five with surface-to-air missiles. Target locked. Prepare to fire., expected: {'target': 'orange and brown fighter plane', 'heading': '065', 'tool': 'surface-to-air missiles'}, but got: None\n",
      "Passed 0 out of 1 test.\n"
     ]
    }
   ],
   "source": [
    "### Test singular test case\n",
    "\n",
    "template = \"\"\"\n",
    "Given the transcript delimitted by triple backticks,\n",
    "extract all key information in a structured format.\n",
    "{format_instructions}\n",
    "Return the JSON object only, nothing else.\n",
    "\n",
    "Here are some examples of how to perform this task:\n",
    "TRANSCRIPT: Target is red helicopter, heading is zero one zero, tool to deploy is surface-to-air missiles.\n",
    "OUTPUT: 'target': 'red helicopter', 'heading': '010', 'tool': 'surface-to-air missiles'\n",
    "\n",
    "TRANSCRIPT: Target is grey and white fighter jet, heading is zero six five, tool to deploy is electromagnetic pulse.\n",
    "OUTPUT: 'target': 'grey and white fighter jet', 'heading': '065', 'tool': 'electromagnetic pulse'\n",
    "\n",
    "TRANSCRIPT: Alfa, Echo, Mike Papa, deploy EMP tool heading zero eight five, engage purple, red, and silver fighter jet.\n",
    "OUTPUT: 'target': 'purple, red, and silver fighter jet', 'heading': '085', 'tool': 'EMP'\n",
    "\n",
    "Now take the following transcript and extract the key information in a structured format\n",
    "TRANSCRIPT:\n",
    "```{transcript}```\n",
    "\"\"\"\n",
    "\n",
    "\n",
    "# Define your desired data structure.\n",
    "class Objective(BaseModel):\n",
    "    \"\"\"The data to be extracted from the transcript\"\"\"\n",
    "    target: str = Field(description=\"Identified Target object to attack\")\n",
    "    heading: str = Field(description=\"Heading of object in integers\")\n",
    "    tool: str = Field(description=\"Tool to be deployed to neutralize the target\")\n",
    "\n",
    "def clean_json_string(json_str: str) -> str:\n",
    "    # Find the start of the first JSON object\n",
    "    start = json_str.find('{')\n",
    "\n",
    "    # Find the end of the first JSON object\n",
    "    end = json_str.find('}') + 1\n",
    "\n",
    "    # Extract the substring from 'start' to 'end'\n",
    "    cleaned_json_str = json_str[start:end]\n",
    "\n",
    "    return cleaned_json_str\n",
    "\n",
    "def extract_json_after_response(message: str) -> dict:\n",
    "    # Find the start of the JSON object\n",
    "    start = message.lower().find('response') + len('response')\n",
    "\n",
    "    # Extract the substring from 'start' to the end of the message\n",
    "    json_str = message[start:].strip()\n",
    "    json_str = clean_json_string(json_str)\n",
    "\n",
    "    try:\n",
    "        # Parse the JSON string into a Python dictionary\n",
    "        data = json.loads(json_str)\n",
    "    except json.JSONDecodeError:\n",
    "        print(f\"Error parsing JSON string: {json_str}\")\n",
    "        return None\n",
    "\n",
    "    return data\n",
    "\n",
    "output_parser = JsonOutputParser(pydantic_object=Objective)\n",
    "\n",
    "prompt = PromptTemplate(\n",
    "    template=template,\n",
    "    input_variables=[\"transcript\"],\n",
    "    partial_variables={\"format_instructions\": output_parser.get_format_instructions()},\n",
    ")\n",
    "\n",
    "chain = prompt | llm_phi3 | extract_json_after_response\n",
    "\n",
    "\n",
    "from tqdm import tqdm\n",
    "import json\n",
    "\n",
    "def load_test_cases(filename: str) -> list:\n",
    "  test_cases = []\n",
    "  with open(filename, 'r') as file:\n",
    "    for line in file:\n",
    "      # Each line is a separate JSON object\n",
    "      test_case = json.loads(line)\n",
    "      test_cases.append(test_case)\n",
    "  return test_cases\n",
    "\n",
    "# Load the test cases from the JSONL file\n",
    "test_cases = load_test_cases('./src/nlp.jsonl')\n",
    "print(f\"Loaded {len(test_cases)} test cases.\")\n",
    "\n",
    "# Counter for passed test cases\n",
    "passed_tests = 0\n",
    "\n",
    "# Get the 269th test case\n",
    "test_case = test_cases[268]\n",
    "\n",
    "transcript = test_case['transcript']\n",
    "expected_output = {\n",
    "  'target': test_case['target'],\n",
    "  'heading': test_case['heading'],\n",
    "  'tool': test_case['tool']\n",
    "}\n",
    "\n",
    "# Check if transcript is an instance of StringPromptValue and extract the string value\n",
    "if isinstance(transcript, StringPromptValue):\n",
    "  print(transcript)\n",
    "  transcript = transcript.value\n",
    "\n",
    "# Invoke the chain with the transcript from the test case\n",
    "extracted_output = chain.invoke({\"transcript\": transcript})\n",
    "\n",
    "# Check if the extracted output matches the expected output\n",
    "if extracted_output == expected_output:\n",
    "  passed_tests += 1\n",
    "  print(f\"Test case 269 passed.\")\n",
    "else:\n",
    "  print(f\"For transcript: {transcript}, expected: {expected_output}, but got: {extracted_output}\")\n",
    "\n",
    "# Print the number of passed tests\n",
    "print(f\"Passed {passed_tests} out of 1 test.\")"
   ]
  },
  {
   "cell_type": "code",
   "execution_count": null,
   "id": "c482c8a6-0b16-4be3-80df-9990b6aff33d",
   "metadata": {},
   "outputs": [],
   "source": []
  }
 ],
 "metadata": {
  "environment": {
   "kernel": "conda-base-py",
   "name": "workbench-notebooks.m120",
   "type": "gcloud",
   "uri": "us-docker.pkg.dev/deeplearning-platform-release/gcr.io/workbench-notebooks:m120"
  },
  "kernelspec": {
   "display_name": "Python 3 (ipykernel)",
   "language": "python",
   "name": "conda-base-py"
  },
  "language_info": {
   "codemirror_mode": {
    "name": "ipython",
    "version": 3
   },
   "file_extension": ".py",
   "mimetype": "text/x-python",
   "name": "python",
   "nbconvert_exporter": "python",
   "pygments_lexer": "ipython3",
   "version": "3.10.14"
  }
 },
 "nbformat": 4,
 "nbformat_minor": 5
}
